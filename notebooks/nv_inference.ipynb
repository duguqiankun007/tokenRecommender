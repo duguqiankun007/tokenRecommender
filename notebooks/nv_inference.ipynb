{
 "cells": [
  {
   "cell_type": "code",
   "execution_count": 1,
   "id": "a515b4ea-8772-44d6-b7fc-5d4bbb6582c7",
   "metadata": {
    "tags": []
   },
   "outputs": [
    {
     "ename": "KeyboardInterrupt",
     "evalue": "",
     "output_type": "error",
     "traceback": [
      "\u001b[0;31m---------------------------------------------------------------------------\u001b[0m",
      "\u001b[0;31mKeyboardInterrupt\u001b[0m                         Traceback (most recent call last)",
      "Cell \u001b[0;32mIn[1], line 6\u001b[0m\n\u001b[1;32m      3\u001b[0m os\u001b[38;5;241m.\u001b[39menviron[\u001b[38;5;124m\"\u001b[39m\u001b[38;5;124mCUDA_VISIBLE_DEVICES\u001b[39m\u001b[38;5;124m\"\u001b[39m]\u001b[38;5;241m=\u001b[39m\u001b[38;5;124m\"\u001b[39m\u001b[38;5;124m0\u001b[39m\u001b[38;5;124m\"\u001b[39m\n\u001b[1;32m      5\u001b[0m \u001b[38;5;28;01mimport\u001b[39;00m \u001b[38;5;21;01mglob\u001b[39;00m\n\u001b[0;32m----> 6\u001b[0m \u001b[38;5;28;01mimport\u001b[39;00m \u001b[38;5;21;01mtorch\u001b[39;00m \n\u001b[1;32m      8\u001b[0m \u001b[38;5;28;01mfrom\u001b[39;00m \u001b[38;5;21;01mtransformers4rec\u001b[39;00m \u001b[38;5;28;01mimport\u001b[39;00m torch \u001b[38;5;28;01mas\u001b[39;00m tr\n\u001b[1;32m      9\u001b[0m \u001b[38;5;28;01mfrom\u001b[39;00m \u001b[38;5;21;01mtransformers4rec\u001b[39;00m\u001b[38;5;21;01m.\u001b[39;00m\u001b[38;5;21;01mtorch\u001b[39;00m\u001b[38;5;21;01m.\u001b[39;00m\u001b[38;5;21;01mranking_metric\u001b[39;00m \u001b[38;5;28;01mimport\u001b[39;00m NDCGAt, AvgPrecisionAt, RecallAt\n",
      "File \u001b[0;32m~/SageMaker/.persisted_conda/transformers4rec-23.04/lib/python3.10/site-packages/torch/__init__.py:228\u001b[0m\n\u001b[1;32m    217\u001b[0m \u001b[38;5;28;01melse\u001b[39;00m:\n\u001b[1;32m    218\u001b[0m     \u001b[38;5;66;03m# Easy way.  You want this most of the time, because it will prevent\u001b[39;00m\n\u001b[1;32m    219\u001b[0m     \u001b[38;5;66;03m# C++ symbols from libtorch clobbering C++ symbols from other\u001b[39;00m\n\u001b[0;32m   (...)\u001b[0m\n\u001b[1;32m    225\u001b[0m     \u001b[38;5;66;03m#\u001b[39;00m\n\u001b[1;32m    226\u001b[0m     \u001b[38;5;66;03m# See Note [Global dependencies]\u001b[39;00m\n\u001b[1;32m    227\u001b[0m     \u001b[38;5;28;01mif\u001b[39;00m USE_GLOBAL_DEPS:\n\u001b[0;32m--> 228\u001b[0m         \u001b[43m_load_global_deps\u001b[49m\u001b[43m(\u001b[49m\u001b[43m)\u001b[49m\n\u001b[1;32m    229\u001b[0m     \u001b[38;5;28;01mfrom\u001b[39;00m \u001b[38;5;21;01mtorch\u001b[39;00m\u001b[38;5;21;01m.\u001b[39;00m\u001b[38;5;21;01m_C\u001b[39;00m \u001b[38;5;28;01mimport\u001b[39;00m \u001b[38;5;241m*\u001b[39m  \u001b[38;5;66;03m# noqa: F403\u001b[39;00m\n\u001b[1;32m    231\u001b[0m \u001b[38;5;66;03m# Appease the type checker; ordinarily this binding is inserted by the\u001b[39;00m\n\u001b[1;32m    232\u001b[0m \u001b[38;5;66;03m# torch._C module initialization code in C\u001b[39;00m\n",
      "File \u001b[0;32m~/SageMaker/.persisted_conda/transformers4rec-23.04/lib/python3.10/site-packages/torch/__init__.py:168\u001b[0m, in \u001b[0;36m_load_global_deps\u001b[0;34m()\u001b[0m\n\u001b[1;32m    165\u001b[0m lib_path \u001b[38;5;241m=\u001b[39m os\u001b[38;5;241m.\u001b[39mpath\u001b[38;5;241m.\u001b[39mjoin(os\u001b[38;5;241m.\u001b[39mpath\u001b[38;5;241m.\u001b[39mdirname(here), \u001b[38;5;124m'\u001b[39m\u001b[38;5;124mlib\u001b[39m\u001b[38;5;124m'\u001b[39m, lib_name)\n\u001b[1;32m    167\u001b[0m \u001b[38;5;28;01mtry\u001b[39;00m:\n\u001b[0;32m--> 168\u001b[0m     \u001b[43mctypes\u001b[49m\u001b[38;5;241;43m.\u001b[39;49m\u001b[43mCDLL\u001b[49m\u001b[43m(\u001b[49m\u001b[43mlib_path\u001b[49m\u001b[43m,\u001b[49m\u001b[43m \u001b[49m\u001b[43mmode\u001b[49m\u001b[38;5;241;43m=\u001b[39;49m\u001b[43mctypes\u001b[49m\u001b[38;5;241;43m.\u001b[39;49m\u001b[43mRTLD_GLOBAL\u001b[49m\u001b[43m)\u001b[49m\n\u001b[1;32m    169\u001b[0m \u001b[38;5;28;01mexcept\u001b[39;00m \u001b[38;5;167;01mOSError\u001b[39;00m \u001b[38;5;28;01mas\u001b[39;00m err:\n\u001b[1;32m    170\u001b[0m     \u001b[38;5;66;03m# Can only happen for wheel with cuda libs as PYPI deps\u001b[39;00m\n\u001b[1;32m    171\u001b[0m     \u001b[38;5;66;03m# As PyTorch is not purelib, but nvidia-*-cu11 is\u001b[39;00m\n\u001b[1;32m    172\u001b[0m     cuda_libs: Dict[\u001b[38;5;28mstr\u001b[39m, \u001b[38;5;28mstr\u001b[39m] \u001b[38;5;241m=\u001b[39m {\n\u001b[1;32m    173\u001b[0m         \u001b[38;5;124m'\u001b[39m\u001b[38;5;124mcublas\u001b[39m\u001b[38;5;124m'\u001b[39m: \u001b[38;5;124m'\u001b[39m\u001b[38;5;124mlibcublas.so.*[0-9]\u001b[39m\u001b[38;5;124m'\u001b[39m,\n\u001b[1;32m    174\u001b[0m         \u001b[38;5;124m'\u001b[39m\u001b[38;5;124mcudnn\u001b[39m\u001b[38;5;124m'\u001b[39m: \u001b[38;5;124m'\u001b[39m\u001b[38;5;124mlibcudnn.so.*[0-9]\u001b[39m\u001b[38;5;124m'\u001b[39m,\n\u001b[0;32m   (...)\u001b[0m\n\u001b[1;32m    183\u001b[0m         \u001b[38;5;124m'\u001b[39m\u001b[38;5;124mnvtx\u001b[39m\u001b[38;5;124m'\u001b[39m: \u001b[38;5;124m'\u001b[39m\u001b[38;5;124mlibnvToolsExt.so.*[0-9]\u001b[39m\u001b[38;5;124m'\u001b[39m,\n\u001b[1;32m    184\u001b[0m     }\n",
      "File \u001b[0;32m~/SageMaker/.persisted_conda/transformers4rec-23.04/lib/python3.10/ctypes/__init__.py:374\u001b[0m, in \u001b[0;36mCDLL.__init__\u001b[0;34m(self, name, mode, handle, use_errno, use_last_error, winmode)\u001b[0m\n\u001b[1;32m    371\u001b[0m \u001b[38;5;28mself\u001b[39m\u001b[38;5;241m.\u001b[39m_FuncPtr \u001b[38;5;241m=\u001b[39m _FuncPtr\n\u001b[1;32m    373\u001b[0m \u001b[38;5;28;01mif\u001b[39;00m handle \u001b[38;5;129;01mis\u001b[39;00m \u001b[38;5;28;01mNone\u001b[39;00m:\n\u001b[0;32m--> 374\u001b[0m     \u001b[38;5;28mself\u001b[39m\u001b[38;5;241m.\u001b[39m_handle \u001b[38;5;241m=\u001b[39m \u001b[43m_dlopen\u001b[49m\u001b[43m(\u001b[49m\u001b[38;5;28;43mself\u001b[39;49m\u001b[38;5;241;43m.\u001b[39;49m\u001b[43m_name\u001b[49m\u001b[43m,\u001b[49m\u001b[43m \u001b[49m\u001b[43mmode\u001b[49m\u001b[43m)\u001b[49m\n\u001b[1;32m    375\u001b[0m \u001b[38;5;28;01melse\u001b[39;00m:\n\u001b[1;32m    376\u001b[0m     \u001b[38;5;28mself\u001b[39m\u001b[38;5;241m.\u001b[39m_handle \u001b[38;5;241m=\u001b[39m handle\n",
      "\u001b[0;31mKeyboardInterrupt\u001b[0m: "
     ]
    }
   ],
   "source": [
    "import os\n",
    "\n",
    "os.environ[\"CUDA_VISIBLE_DEVICES\"]=\"0\"\n",
    "\n",
    "import glob\n",
    "import torch \n",
    "\n",
    "from transformers4rec import torch as tr\n",
    "from transformers4rec.torch.ranking_metric import NDCGAt, AvgPrecisionAt, RecallAt\n",
    "from transformers4rec.torch.utils.examples_utils import wipe_memory\n",
    "from transformers4rec.torch.utils.data_utils import T4RecDataLoader"
   ]
  },
  {
   "cell_type": "code",
   "execution_count": 2,
   "id": "e028bba8-980a-42c3-b3cf-47f98102e76e",
   "metadata": {
    "tags": []
   },
   "outputs": [],
   "source": [
    "import nvtabular as nvt\n",
    "import cudf\n",
    "import torch.utils.dlpack as dlpack\n",
    "import tqdm"
   ]
  },
  {
   "cell_type": "code",
   "execution_count": 3,
   "id": "db556b5f-8425-4863-a8ae-82d25cff246e",
   "metadata": {
    "tags": []
   },
   "outputs": [],
   "source": [
    "INPUT_DATA_DIR = os.environ.get(\"INPUT_DATA_DIR\", \"/home/ec2-user/SageMaker/token_recommender/data/\")\n"
   ]
  },
  {
   "cell_type": "code",
   "execution_count": 4,
   "id": "e186e618-5af5-4c94-84ea-536b457cb7d3",
   "metadata": {
    "tags": []
   },
   "outputs": [],
   "source": [
    "model_path= os.environ.get(\"OUTPUT_DIR\", f\"{INPUT_DATA_DIR}/saved_model\")\n",
    "\n",
    "model = tr.Model().load(model_path)"
   ]
  },
  {
   "cell_type": "code",
   "execution_count": 6,
   "id": "c71a043e-55a0-4931-ade8-9c89b951f0d3",
   "metadata": {
    "tags": []
   },
   "outputs": [],
   "source": [
    "workflow = nvt.Workflow.load('../preprocessWorkflow')"
   ]
  },
  {
   "cell_type": "code",
   "execution_count": 8,
   "id": "f56f4c5a-5a89-4ca4-8c0b-8b9265b3cb16",
   "metadata": {
    "tags": []
   },
   "outputs": [],
   "source": [
    "S3_PATH = f\"s3a://zarklab-token-recommender-ohio/buy-sell-updated-2018-11-02-2023-07-31/*.parquet\"\n",
    "\n",
    "#mydata = cudf.read_parquet(S3_PATH)\n",
    "dataset = nvt.Dataset(S3_PATH,engine='parquet')"
   ]
  },
  {
   "cell_type": "code",
   "execution_count": 9,
   "id": "85d4227e-c90b-4755-b6e2-f4ca8c8d6521",
   "metadata": {
    "tags": []
   },
   "outputs": [],
   "source": [
    "\n",
    "# mydata['timestamp'] = cudf.to_datetime(mydata['timestamp'])\n",
    "\n",
    "# print(\"Count with  repeated interactions: {}\".format(len(mydata)))\n",
    "\n",
    "# # Sorts the dataframe by session and timestamp, to remove consecutive repetitions\n",
    "# # mydata.timestamp = mydata.timestamp.astype(int)\n",
    "# interactions_df = mydata.sort_values(['recipient', 'timestamp'])\n",
    "# past_ids = interactions_df['buyAsset'].shift(1).fillna()\n",
    "# session_past_ids = interactions_df['recipient'].shift(1).fillna()\n",
    "\n",
    "# # Keeping only no consecutive repeated in session interactions\n",
    "# interactions_df = interactions_df[~((interactions_df['recipient'] == session_past_ids) & (interactions_df['buyAsset'] == past_ids))]\n",
    "\n",
    "# print(\"Count after removed in-session repeated interactions: {}\".format(len(interactions_df)))"
   ]
  },
  {
   "cell_type": "code",
   "execution_count": null,
   "id": "256bd43b-06ea-4435-b541-20be8402e454",
   "metadata": {},
   "outputs": [],
   "source": []
  },
  {
   "cell_type": "code",
   "execution_count": 10,
   "id": "8ef5ffaf-85e6-4756-ac7a-00d26b0bd55f",
   "metadata": {
    "tags": []
   },
   "outputs": [],
   "source": [
    "procesed = workflow.transform(dataset)"
   ]
  },
  {
   "cell_type": "code",
   "execution_count": 11,
   "id": "1db29340-a728-4de9-be85-b8c0932ecad3",
   "metadata": {
    "tags": []
   },
   "outputs": [],
   "source": [
    "dataloader =  T4RecDataLoader.parse('merlin').from_schema(\n",
    "            procesed.schema,\n",
    "            procesed,\n",
    "            1280,\n",
    "            max_sequence_length=20,\n",
    "            drop_last=False,\n",
    "            shuffle=False\n",
    "        )"
   ]
  },
  {
   "cell_type": "code",
   "execution_count": null,
   "id": "d9456bd2-7736-41c6-b559-e4bbc04032ad",
   "metadata": {
    "tags": []
   },
   "outputs": [],
   "source": [
    "# procesed_df = procesed_df[[\"recipient\",'buyAsset-list']]\n",
    "# procesed_df.head()"
   ]
  },
  {
   "cell_type": "code",
   "execution_count": 10,
   "id": "4eafaf63-5e98-45d8-a7dd-4f3448eee8fa",
   "metadata": {
    "tags": []
   },
   "outputs": [],
   "source": [
    "# wipe_memory()"
   ]
  },
  {
   "cell_type": "code",
   "execution_count": 12,
   "id": "928eab55-fa83-432c-af4d-b7985b68934f",
   "metadata": {
    "tags": []
   },
   "outputs": [
    {
     "name": "stdout",
     "output_type": "stream",
     "text": [
      "0.0\n",
      "0.016886187098953058\n",
      "0.033772374197906116\n",
      "0.05065856129685917\n",
      "0.06754474839581223\n",
      "0.08443093549476528\n",
      "0.10131712259371833\n",
      "0.1182033096926714\n",
      "0.13508949679162446\n",
      "0.1519756838905775\n",
      "0.16886187098953057\n",
      "0.18574805808848363\n",
      "0.20263424518743667\n",
      "0.21952043228638973\n",
      "0.2364066193853428\n",
      "0.25329280648429586\n",
      "0.2701789935832489\n",
      "0.28706518068220194\n",
      "0.303951367781155\n",
      "0.32083755488010807\n",
      "0.33772374197906113\n",
      "0.3546099290780142\n",
      "0.37149611617696726\n",
      "0.38838230327592027\n",
      "0.40526849037487334\n",
      "0.4221546774738264\n",
      "0.43904086457277947\n",
      "0.45592705167173253\n",
      "0.4728132387706856\n",
      "0.48969942586963866\n",
      "0.5065856129685917\n",
      "0.5234718000675448\n",
      "0.5403579871664979\n",
      "0.5572441742654508\n",
      "0.5741303613644039\n",
      "0.5910165484633569\n",
      "0.60790273556231\n",
      "0.6247889226612631\n",
      "0.6416751097602161\n",
      "0.6585612968591692\n",
      "0.6754474839581223\n",
      "0.6923336710570753\n",
      "0.7092198581560284\n",
      "0.7261060452549815\n",
      "0.7429922323539345\n",
      "0.7598784194528876\n",
      "0.7767646065518405\n",
      "0.7936507936507936\n",
      "0.8105369807497467\n",
      "0.8274231678486997\n",
      "0.8443093549476528\n",
      "0.8611955420466059\n",
      "0.8780817291455589\n",
      "0.894967916244512\n",
      "0.9118541033434651\n",
      "0.9287402904424181\n",
      "0.9456264775413712\n",
      "0.9625126646403243\n",
      "0.9793988517392773\n",
      "0.9962850388382303\n"
     ]
    }
   ],
   "source": [
    "all_indices = []\n",
    "K=10\n",
    "softmax = torch.nn.Softmax(dim=1)\n",
    "for i, data in enumerate(dataloader):\n",
    "    out = model.forward(data[0],testing = False)\n",
    "    prob = softmax(out)\n",
    "    top5 = torch.topk(prob, K, dim=1,sorted=True)\n",
    "    \n",
    "    # score = top5.values\n",
    "    indices = top5.indices\n",
    "\n",
    "    all_indices.append(indices)\n",
    "    if i % 100==0:\n",
    "        print(i/len(dataloader))"
   ]
  },
  {
   "cell_type": "code",
   "execution_count": 13,
   "id": "82a01f67-66d0-485e-a571-f2ec66b4d9e1",
   "metadata": {
    "tags": []
   },
   "outputs": [
    {
     "name": "stdout",
     "output_type": "stream",
     "text": [
      "torch.Size([7579051, 10])\n"
     ]
    }
   ],
   "source": [
    "all_indices_cat = torch.cat(all_indices)\n",
    "# all_score_cat = torch.cat(all_score)\n",
    "\n",
    "print(all_indices_cat.shape)\n",
    "# print(all_score_cat.shape)\n"
   ]
  },
  {
   "cell_type": "code",
   "execution_count": 14,
   "id": "78811745",
   "metadata": {
    "tags": []
   },
   "outputs": [],
   "source": [
    "column_names = [f'top{x}' for x in range(1,11)]\n",
    "all_indices_cat_numpy = all_indices_cat.cpu().numpy()\n",
    "# Create cuDF DataFrame\n"
   ]
  },
  {
   "cell_type": "code",
   "execution_count": 18,
   "id": "5936bd4f-ad96-4e5b-8e59-7d5f8375ae5d",
   "metadata": {
    "tags": []
   },
   "outputs": [],
   "source": [
    "procesed_df = procesed.to_ddf()[[\"recipient\",'buyAsset-list']]"
   ]
  },
  {
   "cell_type": "code",
   "execution_count": 19,
   "id": "25e581ac-9a30-4516-9104-ce3b036b3036",
   "metadata": {
    "tags": []
   },
   "outputs": [],
   "source": [
    "procesed_cudf = procesed_df.compute()"
   ]
  },
  {
   "cell_type": "code",
   "execution_count": 20,
   "id": "6098bf26-28a8-4592-8de4-77507d2754d3",
   "metadata": {
    "tags": []
   },
   "outputs": [
    {
     "data": {
      "text/plain": [
       "(7579051, 2)"
      ]
     },
     "execution_count": 20,
     "metadata": {},
     "output_type": "execute_result"
    }
   ],
   "source": [
    "procesed_cudf.shape"
   ]
  },
  {
   "cell_type": "code",
   "execution_count": 21,
   "id": "3aadd481-089e-4454-b148-6925fc9759cb",
   "metadata": {
    "tags": []
   },
   "outputs": [
    {
     "data": {
      "text/html": [
       "<div>\n",
       "<style scoped>\n",
       "    .dataframe tbody tr th:only-of-type {\n",
       "        vertical-align: middle;\n",
       "    }\n",
       "\n",
       "    .dataframe tbody tr th {\n",
       "        vertical-align: top;\n",
       "    }\n",
       "\n",
       "    .dataframe thead th {\n",
       "        text-align: right;\n",
       "    }\n",
       "</style>\n",
       "<table border=\"1\" class=\"dataframe\">\n",
       "  <thead>\n",
       "    <tr style=\"text-align: right;\">\n",
       "      <th></th>\n",
       "      <th>recipient</th>\n",
       "      <th>buyAsset-list</th>\n",
       "    </tr>\n",
       "  </thead>\n",
       "  <tbody>\n",
       "    <tr>\n",
       "      <th>0</th>\n",
       "      <td>0x000000000000000000000000000000000000dead</td>\n",
       "      <td>[50, 50, 50, 50, 50, 50, 50, 50, 50, 882, 882,...</td>\n",
       "    </tr>\n",
       "    <tr>\n",
       "      <th>1</th>\n",
       "      <td>0x0000000000000000000000000000000000020855</td>\n",
       "      <td>[897, 897]</td>\n",
       "    </tr>\n",
       "    <tr>\n",
       "      <th>2</th>\n",
       "      <td>0x0000000000000d9054f605ca65a2647c2b521422</td>\n",
       "      <td>[5, 6, 5, 5, 5, 1911, 6, 629, 6]</td>\n",
       "    </tr>\n",
       "    <tr>\n",
       "      <th>3</th>\n",
       "      <td>0x000000000000d34c44564053af35e4fe271d0caa</td>\n",
       "      <td>[3, 10, 22, 3, 22, 22, 22, 22]</td>\n",
       "    </tr>\n",
       "    <tr>\n",
       "      <th>4</th>\n",
       "      <td>0x000000000004d7463d0f9c77383600bc82d612f5</td>\n",
       "      <td>[2079, 1131, 846, 109, 2005, 5, 1969, 1121, 19...</td>\n",
       "    </tr>\n",
       "  </tbody>\n",
       "</table>\n",
       "</div>"
      ],
      "text/plain": [
       "                                    recipient  \\\n",
       "0  0x000000000000000000000000000000000000dead   \n",
       "1  0x0000000000000000000000000000000000020855   \n",
       "2  0x0000000000000d9054f605ca65a2647c2b521422   \n",
       "3  0x000000000000d34c44564053af35e4fe271d0caa   \n",
       "4  0x000000000004d7463d0f9c77383600bc82d612f5   \n",
       "\n",
       "                                       buyAsset-list  \n",
       "0  [50, 50, 50, 50, 50, 50, 50, 50, 50, 882, 882,...  \n",
       "1                                         [897, 897]  \n",
       "2                   [5, 6, 5, 5, 5, 1911, 6, 629, 6]  \n",
       "3                     [3, 10, 22, 3, 22, 22, 22, 22]  \n",
       "4  [2079, 1131, 846, 109, 2005, 5, 1969, 1121, 19...  "
      ]
     },
     "execution_count": 21,
     "metadata": {},
     "output_type": "execute_result"
    }
   ],
   "source": [
    "procesed_cudf.head()"
   ]
  },
  {
   "cell_type": "code",
   "execution_count": 22,
   "id": "0b32f8ed-e1de-4d84-bd86-ca4cdf32e132",
   "metadata": {
    "tags": []
   },
   "outputs": [],
   "source": [
    "for i,col in enumerate(column_names):\n",
    "    procesed_cudf[col] = all_indices_cat_numpy[:, i]"
   ]
  },
  {
   "cell_type": "code",
   "execution_count": 23,
   "id": "bda96a0b",
   "metadata": {
    "tags": []
   },
   "outputs": [
    {
     "data": {
      "text/html": [
       "<div>\n",
       "<style scoped>\n",
       "    .dataframe tbody tr th:only-of-type {\n",
       "        vertical-align: middle;\n",
       "    }\n",
       "\n",
       "    .dataframe tbody tr th {\n",
       "        vertical-align: top;\n",
       "    }\n",
       "\n",
       "    .dataframe thead th {\n",
       "        text-align: right;\n",
       "    }\n",
       "</style>\n",
       "<table border=\"1\" class=\"dataframe\">\n",
       "  <thead>\n",
       "    <tr style=\"text-align: right;\">\n",
       "      <th></th>\n",
       "      <th>recipient</th>\n",
       "      <th>buyAsset-list</th>\n",
       "      <th>top1</th>\n",
       "      <th>top2</th>\n",
       "      <th>top3</th>\n",
       "      <th>top4</th>\n",
       "      <th>top5</th>\n",
       "      <th>top6</th>\n",
       "      <th>top7</th>\n",
       "      <th>top8</th>\n",
       "      <th>top9</th>\n",
       "      <th>top10</th>\n",
       "    </tr>\n",
       "  </thead>\n",
       "  <tbody>\n",
       "    <tr>\n",
       "      <th>0</th>\n",
       "      <td>0x000000000000000000000000000000000000dead</td>\n",
       "      <td>[50, 50, 50, 50, 50, 50, 50, 50, 50, 882, 882,...</td>\n",
       "      <td>3</td>\n",
       "      <td>13</td>\n",
       "      <td>17</td>\n",
       "      <td>56</td>\n",
       "      <td>129</td>\n",
       "      <td>154</td>\n",
       "      <td>16</td>\n",
       "      <td>11</td>\n",
       "      <td>620</td>\n",
       "      <td>693</td>\n",
       "    </tr>\n",
       "    <tr>\n",
       "      <th>1</th>\n",
       "      <td>0x0000000000000000000000000000000000020855</td>\n",
       "      <td>[897, 897]</td>\n",
       "      <td>3</td>\n",
       "      <td>4</td>\n",
       "      <td>6</td>\n",
       "      <td>88</td>\n",
       "      <td>183</td>\n",
       "      <td>90</td>\n",
       "      <td>199</td>\n",
       "      <td>37</td>\n",
       "      <td>8</td>\n",
       "      <td>397</td>\n",
       "    </tr>\n",
       "    <tr>\n",
       "      <th>2</th>\n",
       "      <td>0x0000000000000d9054f605ca65a2647c2b521422</td>\n",
       "      <td>[5, 6, 5, 5, 5, 1911, 6, 629, 6]</td>\n",
       "      <td>5</td>\n",
       "      <td>3</td>\n",
       "      <td>4</td>\n",
       "      <td>6</td>\n",
       "      <td>9</td>\n",
       "      <td>12</td>\n",
       "      <td>31</td>\n",
       "      <td>7</td>\n",
       "      <td>10</td>\n",
       "      <td>14</td>\n",
       "    </tr>\n",
       "    <tr>\n",
       "      <th>3</th>\n",
       "      <td>0x000000000000d34c44564053af35e4fe271d0caa</td>\n",
       "      <td>[3, 10, 22, 3, 22, 22, 22, 22]</td>\n",
       "      <td>3</td>\n",
       "      <td>4</td>\n",
       "      <td>22</td>\n",
       "      <td>6</td>\n",
       "      <td>10</td>\n",
       "      <td>5</td>\n",
       "      <td>7</td>\n",
       "      <td>21</td>\n",
       "      <td>15</td>\n",
       "      <td>40</td>\n",
       "    </tr>\n",
       "    <tr>\n",
       "      <th>4</th>\n",
       "      <td>0x000000000004d7463d0f9c77383600bc82d612f5</td>\n",
       "      <td>[2079, 1131, 846, 109, 2005, 5, 1969, 1121, 19...</td>\n",
       "      <td>3</td>\n",
       "      <td>908</td>\n",
       "      <td>221</td>\n",
       "      <td>542</td>\n",
       "      <td>304</td>\n",
       "      <td>6</td>\n",
       "      <td>433</td>\n",
       "      <td>341</td>\n",
       "      <td>698</td>\n",
       "      <td>675</td>\n",
       "    </tr>\n",
       "    <tr>\n",
       "      <th>5</th>\n",
       "      <td>0x000000000008e4db6a6194c6957df47e30970dc2</td>\n",
       "      <td>[3, 3, 3, 3, 3, 5, 3, 5, 5, 5, 5, 3, 5, 5]</td>\n",
       "      <td>3</td>\n",
       "      <td>5</td>\n",
       "      <td>4</td>\n",
       "      <td>6</td>\n",
       "      <td>99</td>\n",
       "      <td>38</td>\n",
       "      <td>713</td>\n",
       "      <td>7</td>\n",
       "      <td>36</td>\n",
       "      <td>286</td>\n",
       "    </tr>\n",
       "    <tr>\n",
       "      <th>6</th>\n",
       "      <td>0x00000000000b4bdf11195d2a010c32a91b8af06a</td>\n",
       "      <td>[5, 3, 3, 3]</td>\n",
       "      <td>5</td>\n",
       "      <td>4</td>\n",
       "      <td>6</td>\n",
       "      <td>7</td>\n",
       "      <td>10</td>\n",
       "      <td>18</td>\n",
       "      <td>38</td>\n",
       "      <td>21</td>\n",
       "      <td>22</td>\n",
       "      <td>131</td>\n",
       "    </tr>\n",
       "    <tr>\n",
       "      <th>7</th>\n",
       "      <td>0x00000000000b4e8b4897ef401b74ec21aaa2997a</td>\n",
       "      <td>[5, 5]</td>\n",
       "      <td>3</td>\n",
       "      <td>4</td>\n",
       "      <td>5</td>\n",
       "      <td>6</td>\n",
       "      <td>7</td>\n",
       "      <td>810</td>\n",
       "      <td>38</td>\n",
       "      <td>713</td>\n",
       "      <td>99</td>\n",
       "      <td>31</td>\n",
       "    </tr>\n",
       "    <tr>\n",
       "      <th>8</th>\n",
       "      <td>0x00000000003e04625c9001717346dd811ae5eba2</td>\n",
       "      <td>[5, 5, 5, 5, 5, 591, 5, 5, 3]</td>\n",
       "      <td>5</td>\n",
       "      <td>6</td>\n",
       "      <td>4</td>\n",
       "      <td>3</td>\n",
       "      <td>7</td>\n",
       "      <td>9</td>\n",
       "      <td>12</td>\n",
       "      <td>18</td>\n",
       "      <td>31</td>\n",
       "      <td>10</td>\n",
       "    </tr>\n",
       "    <tr>\n",
       "      <th>9</th>\n",
       "      <td>0x000000000057e8abd581828a2b40076852c0ba6e</td>\n",
       "      <td>[37, 956]</td>\n",
       "      <td>3</td>\n",
       "      <td>4</td>\n",
       "      <td>6</td>\n",
       "      <td>37</td>\n",
       "      <td>10</td>\n",
       "      <td>21</td>\n",
       "      <td>90</td>\n",
       "      <td>88</td>\n",
       "      <td>8</td>\n",
       "      <td>26</td>\n",
       "    </tr>\n",
       "    <tr>\n",
       "      <th>10</th>\n",
       "      <td>0x00000000005dbcb0d0513fcda746382fe8a53468</td>\n",
       "      <td>[10, 3, 3]</td>\n",
       "      <td>4</td>\n",
       "      <td>6</td>\n",
       "      <td>10</td>\n",
       "      <td>5</td>\n",
       "      <td>22</td>\n",
       "      <td>21</td>\n",
       "      <td>8</td>\n",
       "      <td>26</td>\n",
       "      <td>14</td>\n",
       "      <td>7</td>\n",
       "    </tr>\n",
       "    <tr>\n",
       "      <th>11</th>\n",
       "      <td>0x000000000085cd7bd617419ce5ff21c722ab2d38</td>\n",
       "      <td>[5, 5]</td>\n",
       "      <td>3</td>\n",
       "      <td>4</td>\n",
       "      <td>5</td>\n",
       "      <td>6</td>\n",
       "      <td>7</td>\n",
       "      <td>810</td>\n",
       "      <td>38</td>\n",
       "      <td>713</td>\n",
       "      <td>99</td>\n",
       "      <td>31</td>\n",
       "    </tr>\n",
       "    <tr>\n",
       "      <th>12</th>\n",
       "      <td>0x00000000009a41862f3b2b0c688b7c0d1940511e</td>\n",
       "      <td>[10, 10, 10, 788, 5, 3, 6, 10, 3, 34]</td>\n",
       "      <td>3</td>\n",
       "      <td>4</td>\n",
       "      <td>6</td>\n",
       "      <td>5</td>\n",
       "      <td>10</td>\n",
       "      <td>21</td>\n",
       "      <td>14</td>\n",
       "      <td>22</td>\n",
       "      <td>26</td>\n",
       "      <td>37</td>\n",
       "    </tr>\n",
       "    <tr>\n",
       "      <th>13</th>\n",
       "      <td>0x0000000000b6e2b38398f748d1135d948306eca4</td>\n",
       "      <td>[5, 4, 4, 3]</td>\n",
       "      <td>4</td>\n",
       "      <td>5</td>\n",
       "      <td>6</td>\n",
       "      <td>10</td>\n",
       "      <td>7</td>\n",
       "      <td>21</td>\n",
       "      <td>14</td>\n",
       "      <td>22</td>\n",
       "      <td>3</td>\n",
       "      <td>26</td>\n",
       "    </tr>\n",
       "    <tr>\n",
       "      <th>14</th>\n",
       "      <td>0x0000000000f0be7bb2084d68a34cc2ce29995033</td>\n",
       "      <td>[5, 5, 3, 3]</td>\n",
       "      <td>5</td>\n",
       "      <td>4</td>\n",
       "      <td>6</td>\n",
       "      <td>7</td>\n",
       "      <td>3</td>\n",
       "      <td>10</td>\n",
       "      <td>9</td>\n",
       "      <td>38</td>\n",
       "      <td>189</td>\n",
       "      <td>99</td>\n",
       "    </tr>\n",
       "    <tr>\n",
       "      <th>15</th>\n",
       "      <td>0x0000000000f485a774ee60343ad3ac6d05d95fba</td>\n",
       "      <td>[5, 5, 5, 5]</td>\n",
       "      <td>3</td>\n",
       "      <td>4</td>\n",
       "      <td>5</td>\n",
       "      <td>6</td>\n",
       "      <td>810</td>\n",
       "      <td>713</td>\n",
       "      <td>38</td>\n",
       "      <td>7</td>\n",
       "      <td>99</td>\n",
       "      <td>31</td>\n",
       "    </tr>\n",
       "    <tr>\n",
       "      <th>16</th>\n",
       "      <td>0x0000000002b4470ce769a993df98431727d62acc</td>\n",
       "      <td>[6, 6]</td>\n",
       "      <td>3</td>\n",
       "      <td>4</td>\n",
       "      <td>6</td>\n",
       "      <td>5</td>\n",
       "      <td>7</td>\n",
       "      <td>10</td>\n",
       "      <td>8</td>\n",
       "      <td>21</td>\n",
       "      <td>22</td>\n",
       "      <td>9</td>\n",
       "    </tr>\n",
       "    <tr>\n",
       "      <th>17</th>\n",
       "      <td>0x0000000002ce79aacd54227d2163ff3791338975</td>\n",
       "      <td>[22, 4]</td>\n",
       "      <td>3</td>\n",
       "      <td>6</td>\n",
       "      <td>22</td>\n",
       "      <td>10</td>\n",
       "      <td>23</td>\n",
       "      <td>5</td>\n",
       "      <td>4</td>\n",
       "      <td>8</td>\n",
       "      <td>7</td>\n",
       "      <td>21</td>\n",
       "    </tr>\n",
       "    <tr>\n",
       "      <th>18</th>\n",
       "      <td>0x00000000034b55ebd82cde9b38a85ab0978b7a47</td>\n",
       "      <td>[5, 5, 1029, 5]</td>\n",
       "      <td>3</td>\n",
       "      <td>4</td>\n",
       "      <td>6</td>\n",
       "      <td>5</td>\n",
       "      <td>10</td>\n",
       "      <td>7</td>\n",
       "      <td>50</td>\n",
       "      <td>41</td>\n",
       "      <td>16</td>\n",
       "      <td>125</td>\n",
       "    </tr>\n",
       "    <tr>\n",
       "      <th>19</th>\n",
       "      <td>0x00000000079a2bf7701d039faa681954b428ac43</td>\n",
       "      <td>[2005, 1690, 1820]</td>\n",
       "      <td>3</td>\n",
       "      <td>6</td>\n",
       "      <td>4</td>\n",
       "      <td>5</td>\n",
       "      <td>304</td>\n",
       "      <td>79</td>\n",
       "      <td>221</td>\n",
       "      <td>219</td>\n",
       "      <td>64</td>\n",
       "      <td>252</td>\n",
       "    </tr>\n",
       "  </tbody>\n",
       "</table>\n",
       "</div>"
      ],
      "text/plain": [
       "                                     recipient  \\\n",
       "0   0x000000000000000000000000000000000000dead   \n",
       "1   0x0000000000000000000000000000000000020855   \n",
       "2   0x0000000000000d9054f605ca65a2647c2b521422   \n",
       "3   0x000000000000d34c44564053af35e4fe271d0caa   \n",
       "4   0x000000000004d7463d0f9c77383600bc82d612f5   \n",
       "5   0x000000000008e4db6a6194c6957df47e30970dc2   \n",
       "6   0x00000000000b4bdf11195d2a010c32a91b8af06a   \n",
       "7   0x00000000000b4e8b4897ef401b74ec21aaa2997a   \n",
       "8   0x00000000003e04625c9001717346dd811ae5eba2   \n",
       "9   0x000000000057e8abd581828a2b40076852c0ba6e   \n",
       "10  0x00000000005dbcb0d0513fcda746382fe8a53468   \n",
       "11  0x000000000085cd7bd617419ce5ff21c722ab2d38   \n",
       "12  0x00000000009a41862f3b2b0c688b7c0d1940511e   \n",
       "13  0x0000000000b6e2b38398f748d1135d948306eca4   \n",
       "14  0x0000000000f0be7bb2084d68a34cc2ce29995033   \n",
       "15  0x0000000000f485a774ee60343ad3ac6d05d95fba   \n",
       "16  0x0000000002b4470ce769a993df98431727d62acc   \n",
       "17  0x0000000002ce79aacd54227d2163ff3791338975   \n",
       "18  0x00000000034b55ebd82cde9b38a85ab0978b7a47   \n",
       "19  0x00000000079a2bf7701d039faa681954b428ac43   \n",
       "\n",
       "                                        buyAsset-list  top1  top2  top3  top4  \\\n",
       "0   [50, 50, 50, 50, 50, 50, 50, 50, 50, 882, 882,...     3    13    17    56   \n",
       "1                                          [897, 897]     3     4     6    88   \n",
       "2                    [5, 6, 5, 5, 5, 1911, 6, 629, 6]     5     3     4     6   \n",
       "3                      [3, 10, 22, 3, 22, 22, 22, 22]     3     4    22     6   \n",
       "4   [2079, 1131, 846, 109, 2005, 5, 1969, 1121, 19...     3   908   221   542   \n",
       "5          [3, 3, 3, 3, 3, 5, 3, 5, 5, 5, 5, 3, 5, 5]     3     5     4     6   \n",
       "6                                        [5, 3, 3, 3]     5     4     6     7   \n",
       "7                                              [5, 5]     3     4     5     6   \n",
       "8                       [5, 5, 5, 5, 5, 591, 5, 5, 3]     5     6     4     3   \n",
       "9                                           [37, 956]     3     4     6    37   \n",
       "10                                         [10, 3, 3]     4     6    10     5   \n",
       "11                                             [5, 5]     3     4     5     6   \n",
       "12              [10, 10, 10, 788, 5, 3, 6, 10, 3, 34]     3     4     6     5   \n",
       "13                                       [5, 4, 4, 3]     4     5     6    10   \n",
       "14                                       [5, 5, 3, 3]     5     4     6     7   \n",
       "15                                       [5, 5, 5, 5]     3     4     5     6   \n",
       "16                                             [6, 6]     3     4     6     5   \n",
       "17                                            [22, 4]     3     6    22    10   \n",
       "18                                    [5, 5, 1029, 5]     3     4     6     5   \n",
       "19                                 [2005, 1690, 1820]     3     6     4     5   \n",
       "\n",
       "    top5  top6  top7  top8  top9  top10  \n",
       "0    129   154    16    11   620    693  \n",
       "1    183    90   199    37     8    397  \n",
       "2      9    12    31     7    10     14  \n",
       "3     10     5     7    21    15     40  \n",
       "4    304     6   433   341   698    675  \n",
       "5     99    38   713     7    36    286  \n",
       "6     10    18    38    21    22    131  \n",
       "7      7   810    38   713    99     31  \n",
       "8      7     9    12    18    31     10  \n",
       "9     10    21    90    88     8     26  \n",
       "10    22    21     8    26    14      7  \n",
       "11     7   810    38   713    99     31  \n",
       "12    10    21    14    22    26     37  \n",
       "13     7    21    14    22     3     26  \n",
       "14     3    10     9    38   189     99  \n",
       "15   810   713    38     7    99     31  \n",
       "16     7    10     8    21    22      9  \n",
       "17    23     5     4     8     7     21  \n",
       "18    10     7    50    41    16    125  \n",
       "19   304    79   221   219    64    252  "
      ]
     },
     "execution_count": 23,
     "metadata": {},
     "output_type": "execute_result"
    }
   ],
   "source": [
    "procesed_cudf.head(20)"
   ]
  },
  {
   "cell_type": "code",
   "execution_count": 24,
   "id": "5ff512c7-6738-45fc-9e91-a3271024735f",
   "metadata": {
    "tags": []
   },
   "outputs": [],
   "source": [
    "procesed_cudf.drop(['buyAsset-list'],axis=1).to_parquet(f\"s3a://zarklab-token-recommender-ohio/prediction_reuslt/2018-11-02-2023-07-31_prediction\")\n"
   ]
  },
  {
   "cell_type": "code",
   "execution_count": null,
   "id": "3be1a2e2-0eb0-4593-b4cc-2f5913d865c2",
   "metadata": {},
   "outputs": [],
   "source": []
  }
 ],
 "metadata": {
  "instance_type": "ml.g4dn.xlarge",
  "kernelspec": {
   "display_name": "conda_transformers4rec-23.04",
   "language": "python",
   "name": "conda_transformers4rec-23.04"
  },
  "language_info": {
   "codemirror_mode": {
    "name": "ipython",
    "version": 3
   },
   "file_extension": ".py",
   "mimetype": "text/x-python",
   "name": "python",
   "nbconvert_exporter": "python",
   "pygments_lexer": "ipython3",
   "version": "3.10.13"
  }
 },
 "nbformat": 4,
 "nbformat_minor": 5
}
