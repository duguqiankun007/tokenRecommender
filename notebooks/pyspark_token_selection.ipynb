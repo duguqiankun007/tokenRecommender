{
 "cells": [
  {
   "cell_type": "code",
   "execution_count": 1,
   "id": "3b812d75-7ab5-46f3-a965-6b8bf85e5a76",
   "metadata": {
    "tags": []
   },
   "outputs": [
    {
     "name": "stderr",
     "output_type": "stream",
     "text": [
      "/home/ec2-user/anaconda3/envs/python3/lib/python3.10/site-packages/pandas/core/computation/expressions.py:21: UserWarning: Pandas requires version '2.8.0' or newer of 'numexpr' (version '2.7.3' currently installed).\n",
      "  from pandas.core.computation.check import NUMEXPR_INSTALLED\n"
     ]
    },
    {
     "name": "stdout",
     "output_type": "stream",
     "text": [
      "sagemaker.config INFO - Not applying SDK defaults from location: /etc/xdg/sagemaker/config.yaml\n",
      "sagemaker.config INFO - Not applying SDK defaults from location: /home/ec2-user/.config/sagemaker/config.yaml\n",
      "sagemaker.config INFO - Not applying SDK defaults from location: /etc/xdg/sagemaker/config.yaml\n",
      "sagemaker.config INFO - Not applying SDK defaults from location: /home/ec2-user/.config/sagemaker/config.yaml\n"
     ]
    },
    {
     "name": "stderr",
     "output_type": "stream",
     "text": [
      "Setting default log level to \"WARN\".\n",
      "To adjust logging level use sc.setLogLevel(newLevel). For SparkR, use setLogLevel(newLevel).\n"
     ]
    },
    {
     "name": "stdout",
     "output_type": "stream",
     "text": [
      "23/11/22 15:56:17 WARN NativeCodeLoader: Unable to load native-hadoop library for your platform... using builtin-java classes where applicable\n"
     ]
    }
   ],
   "source": [
    "import os\n",
    "import boto3\n",
    "\n",
    "from pyspark import SparkContext, SparkConf\n",
    "from pyspark.sql import SparkSession\n",
    "\n",
    "import sagemaker\n",
    "from sagemaker import get_execution_role\n",
    "import sagemaker_pyspark\n",
    "\n",
    "role = get_execution_role()\n",
    "\n",
    "# Configure Spark to use the SageMaker Spark dependency jars\n",
    "jars = sagemaker_pyspark.classpath_jars()\n",
    "\n",
    "classpath = \":\".join(sagemaker_pyspark.classpath_jars())\n",
    "\n",
    "# See the SageMaker Spark Github to learn how to connect to EMR from a notebook instance\n",
    "spark = (\n",
    "    SparkSession.builder.config(\"spark.driver.extraClassPath\", classpath)\n",
    "    .master(\"local[*]\")\n",
    "    .getOrCreate()\n",
    ")\n"
   ]
  },
  {
   "cell_type": "code",
   "execution_count": 2,
   "id": "e302952a-43bb-4a02-bd83-3733fff573a1",
   "metadata": {
    "tags": []
   },
   "outputs": [
    {
     "data": {
      "text/html": [
       "\n",
       "            <div>\n",
       "                <p><b>SparkSession - in-memory</b></p>\n",
       "                \n",
       "        <div>\n",
       "            <p><b>SparkContext</b></p>\n",
       "\n",
       "            <p><a href=\"http://ip-172-16-30-85.us-east-2.compute.internal:4040\">Spark UI</a></p>\n",
       "\n",
       "            <dl>\n",
       "              <dt>Version</dt>\n",
       "                <dd><code>v3.3.0</code></dd>\n",
       "              <dt>Master</dt>\n",
       "                <dd><code>local[*]</code></dd>\n",
       "              <dt>AppName</dt>\n",
       "                <dd><code>pyspark-shell</code></dd>\n",
       "            </dl>\n",
       "        </div>\n",
       "        \n",
       "            </div>\n",
       "        "
      ],
      "text/plain": [
       "<pyspark.sql.session.SparkSession at 0x7f16efebed70>"
      ]
     },
     "execution_count": 2,
     "metadata": {},
     "output_type": "execute_result"
    }
   ],
   "source": [
    "spark"
   ]
  },
  {
   "cell_type": "code",
   "execution_count": 3,
   "id": "f07f677e-bc7b-4784-b1be-6d09a931b812",
   "metadata": {
    "tags": []
   },
   "outputs": [],
   "source": [
    "from pyspark.sql.functions import col\n",
    "from pyspark.sql.functions import udf, from_unixtime, year, weekofyear, row_number\n",
    "from pyspark.sql.functions import hour, minute, countDistinct, col, sum, count, to_date, concat, lit, when,round\n",
    "from pyspark.sql.window import Window\n",
    "from pyspark.sql.types import DoubleType"
   ]
  },
  {
   "cell_type": "code",
   "execution_count": 4,
   "id": "00b98166-cc21-4188-9deb-abe6728aec95",
   "metadata": {
    "tags": []
   },
   "outputs": [
    {
     "name": "stdout",
     "output_type": "stream",
     "text": [
      "23/11/22 15:56:31 WARN MetricsConfig: Cannot locate configuration: tried hadoop-metrics2-s3a-file-system.properties,hadoop-metrics2.properties\n"
     ]
    }
   ],
   "source": [
    "side = spark.read.option(\"header\",True).csv(\"s3a://tmp-coin-lookup-data/token_recommender_v14.csv\")"
   ]
  },
  {
   "cell_type": "code",
   "execution_count": 5,
   "id": "e2ae8630-baaf-47ab-87c2-e0c81b97975a",
   "metadata": {
    "tags": []
   },
   "outputs": [],
   "source": [
    "side_select = side.select(['merge','combined_token_name','combined_token_symbol','token_category','token_rank','risky_flags'])"
   ]
  },
  {
   "cell_type": "code",
   "execution_count": 8,
   "id": "03904d71-263b-4f5b-8263-3dfc18965813",
   "metadata": {
    "tags": []
   },
   "outputs": [
    {
     "data": {
      "text/plain": [
       "Row(merge='0xa50709b10c328772ea24a44b13c7e23c75561ecb', combined_token_name='28', combined_token_symbol='28', token_category='Payments', token_rank='Unranked', risky_flags='0')"
      ]
     },
     "execution_count": 8,
     "metadata": {},
     "output_type": "execute_result"
    }
   ],
   "source": [
    "side_select.head()"
   ]
  },
  {
   "cell_type": "code",
   "execution_count": 9,
   "id": "3fd50916",
   "metadata": {
    "tags": []
   },
   "outputs": [],
   "source": [
    "filter_ = side_select.filter(side_select.token_category != 'null')\n",
    "filter_ = filter_.filter(filter_.combined_token_name != 'null')\n"
   ]
  },
  {
   "cell_type": "code",
   "execution_count": 10,
   "id": "b4d9edd0",
   "metadata": {
    "tags": []
   },
   "outputs": [
    {
     "name": "stderr",
     "output_type": "stream",
     "text": [
      "                                                                                \r"
     ]
    },
    {
     "data": {
      "text/plain": [
       "5016"
      ]
     },
     "execution_count": 10,
     "metadata": {},
     "output_type": "execute_result"
    }
   ],
   "source": [
    "filter_.select(['merge']).distinct().count()"
   ]
  },
  {
   "cell_type": "code",
   "execution_count": 11,
   "id": "b469f6cd",
   "metadata": {
    "tags": []
   },
   "outputs": [],
   "source": [
    "filled_df = filter_.fillna({'combined_token_symbol': 'nosymbol', 'token_rank': 'notranked','risky_flags':'noflags'})\n"
   ]
  },
  {
   "cell_type": "code",
   "execution_count": 12,
   "id": "9309e9d8-d367-4922-9825-9de8b486571d",
   "metadata": {
    "tags": []
   },
   "outputs": [],
   "source": [
    "filled_df = filled_df.na.drop()\n"
   ]
  },
  {
   "cell_type": "code",
   "execution_count": 13,
   "id": "c02a2f94",
   "metadata": {
    "tags": []
   },
   "outputs": [
    {
     "data": {
      "text/plain": [
       "5016"
      ]
     },
     "execution_count": 13,
     "metadata": {},
     "output_type": "execute_result"
    }
   ],
   "source": [
    "filled_df.select(['merge']).distinct().count()"
   ]
  },
  {
   "cell_type": "code",
   "execution_count": null,
   "id": "4fcac133-f08c-4bd4-9cfb-d4efd381f8a8",
   "metadata": {},
   "outputs": [],
   "source": []
  },
  {
   "cell_type": "code",
   "execution_count": 15,
   "id": "92858ef4-fef2-4922-b664-67fd11f4ce34",
   "metadata": {
    "tags": []
   },
   "outputs": [],
   "source": [
    "selected_token = filled_df.select(['merge']).distinct().collect()"
   ]
  },
  {
   "cell_type": "code",
   "execution_count": 16,
   "id": "afab263c-01ba-4d64-bb40-28f219f670a4",
   "metadata": {
    "tags": []
   },
   "outputs": [],
   "source": [
    "selected_token = [x[0] for x in selected_token]"
   ]
  },
  {
   "cell_type": "code",
   "execution_count": 17,
   "id": "cc8e3576-e35c-4333-b046-7a7392f81440",
   "metadata": {
    "tags": []
   },
   "outputs": [],
   "source": [
    "result_df_not = side_select.filter(~side_select.merge.isin(selected_token))\n"
   ]
  },
  {
   "cell_type": "code",
   "execution_count": 18,
   "id": "6d598413-ef1b-435d-b8a5-e75ec38c3928",
   "metadata": {
    "tags": []
   },
   "outputs": [
    {
     "name": "stderr",
     "output_type": "stream",
     "text": [
      "[Stage 22:=========================================>               (8 + 3) / 11]\r"
     ]
    },
    {
     "name": "stdout",
     "output_type": "stream",
     "text": [
      "+--------------------+-------------------+---------------------+--------------+----------+-----------+\n",
      "|               merge|combined_token_name|combined_token_symbol|token_category|token_rank|risky_flags|\n",
      "+--------------------+-------------------+---------------------+--------------+----------+-----------+\n",
      "|0xd431b88e19c5dc3...|               WETH|                 WETH|          null|      null|       null|\n",
      "|0x8584a4ee3257c99...|               WETH|                 WETH|          null|      null|       null|\n",
      "|0x65fe2e2a6955d17...|               WETH|                 WETH|          null|      null|       null|\n",
      "|0x431929bb437c98f...|               WETH|                 WETH|          null|      null|       null|\n",
      "|0x526f0603a845e4c...|               WETH|                 WETH|          null|      null|       null|\n",
      "|0x4f12b604cad9f61...|               WETH|                 WETH|          null|      null|       null|\n",
      "+--------------------+-------------------+---------------------+--------------+----------+-----------+\n",
      "\n"
     ]
    },
    {
     "name": "stderr",
     "output_type": "stream",
     "text": [
      "                                                                                \r"
     ]
    }
   ],
   "source": [
    "result_df_not.filter(result_df_not.combined_token_name=='WETH').show()"
   ]
  },
  {
   "cell_type": "code",
   "execution_count": null,
   "id": "ad945a0f-bd35-4548-9a59-ac0cebf43890",
   "metadata": {},
   "outputs": [],
   "source": []
  },
  {
   "cell_type": "code",
   "execution_count": 33,
   "id": "8f95e2ea-2d0b-44d6-8cae-1fc26787a67b",
   "metadata": {},
   "outputs": [
    {
     "name": "stderr",
     "output_type": "stream",
     "text": [
      "                                                                                \r"
     ]
    }
   ],
   "source": [
    "filter_.repartition(1).write.mode(\"overwrite\").parquet(\"s3a://zarklab-token-recommender-ohio/token_lookup\")\n"
   ]
  },
  {
   "cell_type": "code",
   "execution_count": 20,
   "id": "c2b2fa1c-54f1-4d05-bb46-ac6cbeaa9ece",
   "metadata": {
    "tags": []
   },
   "outputs": [
    {
     "name": "stderr",
     "output_type": "stream",
     "text": [
      "                                                                                \r"
     ]
    }
   ],
   "source": [
    "month1 = '202201'\n",
    "month2 = '202202'\n",
    "month3 = '202203'\n",
    "\n",
    "data_raw1 = spark.read.parquet(f's3a://zarklab-hive-test/buy-sell-updated/pt_d={month1}*/*')\n",
    "data_raw2 = spark.read.parquet(f's3a://zarklab-hive-test/buy-sell-updated/pt_d={month2}*/*')\n",
    "data_raw3 = spark.read.parquet(f's3a://zarklab-hive-test/buy-sell-updated/pt_d={month3}*/*')\n",
    "\n",
    "data_raw = data_raw1.union(data_raw2).union(data_raw3)"
   ]
  },
  {
   "cell_type": "code",
   "execution_count": 22,
   "id": "34e05ffa-d657-4fbf-a87d-7bff155396ae",
   "metadata": {
    "tags": []
   },
   "outputs": [
    {
     "name": "stdout",
     "output_type": "stream",
     "text": [
      "+----------+--------------------+--------------------+--------------------+------------------+------------------+\n",
      "| timestamp|           recipient|           txFee_eth|            buyAsset|           buyQty1|          buyPrice|\n",
      "+----------+--------------------+--------------------+--------------------+------------------+------------------+\n",
      "|1641358889|0x0b9f404c1562438...| 0.01718327807597152|0xa808b22ffd2c472...|           12000.0|1246.7953190267892|\n",
      "|1641409031|0x84ea629dc0bde08...| 0.02806140009265224|0x000000000000000...|23.663252175570342|  88789.7930046148|\n",
      "|1641341387|0x450cfa4da9a67d4...| 0.02569437606145329|0x2e9d63788249371...|             100.0| 4959.662899187852|\n",
      "|1641397163|0x42ad5aaaf1b94ef...| 0.04911369215895385|0xc02aaa39b223fe8...|0.2144262223721564| 817.9507901818877|\n",
      "|1641341588|0x78e7925d5c4e87b...| 0.03326443667645412|0x000000000000000...|  3.56073606244043| 13472.15544882411|\n",
      "|1641414757|0xc9eca04d6b98da9...|0.038454483819111235|0x000000000000000...|0.9972100023508058| 3621.652665999751|\n",
      "|1641417517|0x29099828a129eee...|0.021584319026214088|0x39317b8a1ae06c3...| 57303.23594171491| 10588.29920882872|\n",
      "|1641418317|0x285d153589c8fe2...|0.020151840203940133|0x949d48eca67b172...|            3000.0| 14004.96343721011|\n",
      "|1641421529|0x49c9dee0377edd3...|0.030397130552587633|0x3432b6a60d23ca0...| 91.94999267208654|3121.6978620096083|\n",
      "|1641354845|0xf330478fc27dc89...| 0.02728309464303426|0xbce0665b20164d6...|         1778191.0| 8141.448595294544|\n",
      "+----------+--------------------+--------------------+--------------------+------------------+------------------+\n",
      "only showing top 10 rows\n",
      "\n"
     ]
    }
   ],
   "source": [
    "data_raw = data_raw.select(['timestamp','recipient','txFee_eth','buyAsset','buyQty1','buyPrice'])\n",
    "data_raw.show(10)\n"
   ]
  },
  {
   "cell_type": "code",
   "execution_count": 23,
   "id": "72acf935-5dc0-4923-b1ca-70e783d59126",
   "metadata": {
    "tags": []
   },
   "outputs": [],
   "source": [
    "data_raw = data_raw.withColumn(\"timestamp\", from_unixtime(col(\"timestamp\")))\n"
   ]
  },
  {
   "cell_type": "code",
   "execution_count": 27,
   "id": "1341f347-c080-4f28-8db3-71e54ae67ce6",
   "metadata": {
    "tags": []
   },
   "outputs": [
    {
     "data": {
      "text/plain": [
       "[Row(recipient='0x0b9f404c15624380e1683dd6d7b5acae7bbd65d6'),\n",
       " Row(recipient='0x84ea629dc0bde080dbf7a7e335d527d03279c60d'),\n",
       " Row(recipient='0x450cfa4da9a67d4d5042f296a5bbabbcf39a890c'),\n",
       " Row(recipient='0x42ad5aaaf1b94eff0776f3f7f86234dd1c124456'),\n",
       " Row(recipient='0x78e7925d5c4e87bbf29c371876ed0adcb78b4d04')]"
      ]
     },
     "execution_count": 27,
     "metadata": {},
     "output_type": "execute_result"
    }
   ],
   "source": [
    "data_raw.select(['recipient']).head(5)"
   ]
  },
  {
   "cell_type": "code",
   "execution_count": 19,
   "id": "5e6fd08c-031a-48b7-9b99-4a0b62b7cfe1",
   "metadata": {
    "tags": []
   },
   "outputs": [],
   "source": [
    "# result_df = data_raw.filter(~data_raw.buyAsset.isin(selected_token))\n"
   ]
  },
  {
   "cell_type": "code",
   "execution_count": 28,
   "id": "d00310ca-8505-401a-8bb0-5d23139610d2",
   "metadata": {
    "tags": []
   },
   "outputs": [],
   "source": [
    "# from pyspark.sql.functions import col, count, sum\n",
    "# result_df_group = result_df.groupBy(\"buyAsset\").agg(count(\"timestamp\").alias(\"count\"), sum(\"buyPrice\").alias(\"total_value\")).orderBy(col(\"count\").desc())\n",
    "# result_df_group.show(4)"
   ]
  },
  {
   "cell_type": "code",
   "execution_count": 29,
   "id": "518859e4-8e20-4d30-8258-df9df34e636c",
   "metadata": {
    "tags": []
   },
   "outputs": [],
   "source": [
    "# result_df_join = result_df_group.join(side_select, result_df_group[\"buyAsset\"] == side_select[\"merge\"], \"left\")\n",
    "#result_df_join.repartition(10).write.mode(\"overwrite\").parquet(f\"s3a://zarklab-token-recommender/token_dropped/\")\n"
   ]
  },
  {
   "cell_type": "code",
   "execution_count": 30,
   "id": "33b6c42d-be97-41fb-a9b7-68c46e927b6e",
   "metadata": {
    "tags": []
   },
   "outputs": [],
   "source": [
    "# result_df_join.repartition(10).write.mode(\"overwrite\").parquet(f\"s3a://zarklab-token-recommender/token_dropped/\")\n"
   ]
  },
  {
   "cell_type": "code",
   "execution_count": 32,
   "id": "76de46ff-b289-47ea-bb64-43534bc30ed3",
   "metadata": {
    "tags": []
   },
   "outputs": [
    {
     "name": "stderr",
     "output_type": "stream",
     "text": [
      "                                                                                \r"
     ]
    },
    {
     "name": "stdout",
     "output_type": "stream",
     "text": [
      "+-------------------+--------------------+--------------------+--------------------+------------------+-----------------+--------------------+-------------------+---------------------+-------------------+----------+-----------+\n",
      "|          timestamp|           recipient|           txFee_eth|            buyAsset|           buyQty1|         buyPrice|               merge|combined_token_name|combined_token_symbol|     token_category|token_rank|risky_flags|\n",
      "+-------------------+--------------------+--------------------+--------------------+------------------+-----------------+--------------------+-------------------+---------------------+-------------------+----------+-----------+\n",
      "|2022-01-05 18:57:11|0x84ea629dc0bde08...| 0.02806140009265224|0x000000000000000...|23.663252175570342| 88789.7930046148|0x000000000000000...|           Ethereum|                  ETH|Blockchain Networks|        #1|          0|\n",
      "|2022-01-05 00:09:47|0x450cfa4da9a67d4...| 0.02569437606145329|0x2e9d63788249371...|             100.0|4959.662899187852|0x2e9d63788249371...|            Tokemak|                 toke|      Yield Farming|      #604|          0|\n",
      "|2022-01-05 15:39:23|0x42ad5aaaf1b94ef...| 0.04911369215895385|0xc02aaa39b223fe8...|0.2144262223721564|817.9507901818877|0xc02aaa39b223fe8...|               WETH|                 weth|   Crypto Exchanges|  Unranked|          0|\n",
      "|2022-01-05 00:13:08|0x78e7925d5c4e87b...| 0.03326443667645412|0x000000000000000...|  3.56073606244043|13472.15544882411|0x000000000000000...|           Ethereum|                  ETH|Blockchain Networks|        #1|          0|\n",
      "|2022-01-05 20:32:37|0xc9eca04d6b98da9...|0.038454483819111235|0x000000000000000...|0.9972100023508058|3621.652665999751|0x000000000000000...|           Ethereum|                  ETH|Blockchain Networks|        #1|          0|\n",
      "+-------------------+--------------------+--------------------+--------------------+------------------+-----------------+--------------------+-------------------+---------------------+-------------------+----------+-----------+\n",
      "only showing top 5 rows\n",
      "\n"
     ]
    }
   ],
   "source": [
    "from pyspark.sql.functions import lower\n",
    "\n",
    "result_df = data_raw.join(filled_df, lower(data_raw[\"buyAsset\"]) == filled_df[\"merge\"], \"inner\")\n",
    "result_df.show(5)"
   ]
  },
  {
   "cell_type": "code",
   "execution_count": 35,
   "id": "485787d5-e94c-402a-9251-fd6e0fbef9c3",
   "metadata": {
    "tags": []
   },
   "outputs": [
    {
     "name": "stderr",
     "output_type": "stream",
     "text": [
      "                                                                                \r"
     ]
    },
    {
     "data": {
      "text/plain": [
       "3208582"
      ]
     },
     "execution_count": 35,
     "metadata": {},
     "output_type": "execute_result"
    }
   ],
   "source": [
    "result_df.count()"
   ]
  },
  {
   "cell_type": "code",
   "execution_count": 37,
   "id": "ee6bffc8-1bbe-4e8f-b7c5-e847632d2011",
   "metadata": {
    "tags": []
   },
   "outputs": [],
   "source": [
    "data_dropped = result_df.na.drop()"
   ]
  },
  {
   "cell_type": "code",
   "execution_count": 38,
   "id": "a9d0cc8c-5696-4363-a421-0550060de052",
   "metadata": {
    "tags": []
   },
   "outputs": [
    {
     "name": "stderr",
     "output_type": "stream",
     "text": [
      "                                                                                \r"
     ]
    },
    {
     "data": {
      "text/plain": [
       "3208582"
      ]
     },
     "execution_count": 38,
     "metadata": {},
     "output_type": "execute_result"
    }
   ],
   "source": [
    "result_df.count()"
   ]
  },
  {
   "cell_type": "code",
   "execution_count": 50,
   "id": "f0c842d7-05ab-40dc-bcfd-b201ed4dfe7a",
   "metadata": {
    "tags": []
   },
   "outputs": [],
   "source": [
    "data_dropped = data_dropped.withColumn(\"buyQty1\",round(data_dropped.buyQty1.cast(DoubleType()),4))\n",
    "data_dropped = data_dropped.withColumn(\"buyPrice\",round(data_dropped.buyPrice.cast(DoubleType()),4))\n"
   ]
  },
  {
   "cell_type": "code",
   "execution_count": 51,
   "id": "a99fbfc7-30ec-40a6-8400-e773f9643ea6",
   "metadata": {
    "tags": []
   },
   "outputs": [
    {
     "name": "stderr",
     "output_type": "stream",
     "text": [
      "                                                                                \r"
     ]
    }
   ],
   "source": [
    "data_dropped.repartition(10).write.mode(\"overwrite\").parquet(f\"s3a://zarklab-token-recommender/buy-sell-updated-{month1}-{month3}/\")\n"
   ]
  },
  {
   "cell_type": "code",
   "execution_count": 33,
   "id": "7b6394b0-3844-4ba6-b90a-1df0d5bc3722",
   "metadata": {
    "tags": []
   },
   "outputs": [
    {
     "ename": "NameError",
     "evalue": "name 'data_dropped' is not defined",
     "output_type": "error",
     "traceback": [
      "\u001b[0;31m---------------------------------------------------------------------------\u001b[0m",
      "\u001b[0;31mNameError\u001b[0m                                 Traceback (most recent call last)",
      "Cell \u001b[0;32mIn[33], line 1\u001b[0m\n\u001b[0;32m----> 1\u001b[0m \u001b[43mdata_dropped\u001b[49m\u001b[38;5;241m.\u001b[39mcount()\n",
      "\u001b[0;31mNameError\u001b[0m: name 'data_dropped' is not defined"
     ]
    }
   ],
   "source": [
    "data_dropped.count()"
   ]
  },
  {
   "cell_type": "code",
   "execution_count": 34,
   "id": "1cbd4427-be45-4f25-b6e9-bcc08a0cbc33",
   "metadata": {
    "tags": []
   },
   "outputs": [
    {
     "ename": "NameError",
     "evalue": "name 'data_dropped' is not defined",
     "output_type": "error",
     "traceback": [
      "\u001b[0;31m---------------------------------------------------------------------------\u001b[0m",
      "\u001b[0;31mNameError\u001b[0m                                 Traceback (most recent call last)",
      "Cell \u001b[0;32mIn[34], line 1\u001b[0m\n\u001b[0;32m----> 1\u001b[0m \u001b[43mdata_dropped\u001b[49m\u001b[38;5;241m.\u001b[39mselect(\u001b[38;5;124m\"\u001b[39m\u001b[38;5;124mrecipient\u001b[39m\u001b[38;5;124m\"\u001b[39m)\u001b[38;5;241m.\u001b[39mdistinct()\u001b[38;5;241m.\u001b[39mcount()\n",
      "\u001b[0;31mNameError\u001b[0m: name 'data_dropped' is not defined"
     ]
    }
   ],
   "source": [
    "data_dropped.select(\"recipient\").distinct().count()"
   ]
  },
  {
   "cell_type": "code",
   "execution_count": null,
   "id": "94a95520-6bbb-4e10-82d2-d50b378e1875",
   "metadata": {
    "tags": []
   },
   "outputs": [],
   "source": [
    "data_dropped.select(\"buyAsset\").distinct().count()"
   ]
  },
  {
   "cell_type": "markdown",
   "id": "da63f611-fb52-4a89-be95-df329da36469",
   "metadata": {},
   "source": [
    "# filter out unseen tokens"
   ]
  },
  {
   "cell_type": "code",
   "execution_count": 26,
   "id": "d89605ca-eeb0-496d-a801-4a51eb916895",
   "metadata": {
    "tags": []
   },
   "outputs": [],
   "source": [
    "# train_data  = spark.read.parquet(f\"s3a://zarklab-hive-test/buy-sell-updated-202201/\")\n"
   ]
  },
  {
   "cell_type": "code",
   "execution_count": 27,
   "id": "1d90118d-a047-4d67-91a5-bf71942dcba3",
   "metadata": {
    "tags": []
   },
   "outputs": [],
   "source": [
    "# train_tokens = train_data.select(\"buyAsset\").distinct()"
   ]
  },
  {
   "cell_type": "code",
   "execution_count": 28,
   "id": "4d0f1fe8-43f3-4ff1-9fd6-3b3db50587d0",
   "metadata": {
    "tags": []
   },
   "outputs": [
    {
     "name": "stderr",
     "output_type": "stream",
     "text": [
      "                                                                                \r"
     ]
    },
    {
     "data": {
      "text/plain": [
       "4688"
      ]
     },
     "execution_count": 28,
     "metadata": {},
     "output_type": "execute_result"
    }
   ],
   "source": [
    "# train_tokens.count()"
   ]
  },
  {
   "cell_type": "code",
   "execution_count": 29,
   "id": "692c8edf-6c40-4a46-a4cb-79d3d7a515a7",
   "metadata": {
    "tags": []
   },
   "outputs": [],
   "source": [
    "# eva_data  = spark.read.parquet(f\"s3a://zarklab-hive-test/buy-sell-updated-202202/\")\n"
   ]
  },
  {
   "cell_type": "code",
   "execution_count": 30,
   "id": "750f1367-61df-49ce-b829-ce52cfd4b916",
   "metadata": {
    "tags": []
   },
   "outputs": [],
   "source": [
    "# eval_tokens = eva_data.select(\"buyAsset\").distinct()"
   ]
  },
  {
   "cell_type": "code",
   "execution_count": 36,
   "id": "41b1fe78-1845-4085-8e08-b773189453a3",
   "metadata": {
    "tags": []
   },
   "outputs": [],
   "source": [
    "# eva_data_filter = eva_data.join(train_tokens, on=\"buyAsset\", how=\"inner\")\n"
   ]
  },
  {
   "cell_type": "code",
   "execution_count": 37,
   "id": "f958340b-96a6-4ad9-87c6-9c636cb02c20",
   "metadata": {
    "tags": []
   },
   "outputs": [
    {
     "name": "stderr",
     "output_type": "stream",
     "text": [
      "                                                                                \r"
     ]
    },
    {
     "data": {
      "text/plain": [
       "2787"
      ]
     },
     "execution_count": 37,
     "metadata": {},
     "output_type": "execute_result"
    }
   ],
   "source": [
    "# eva_data_filter.select(\"buyAsset\").distinct().count()"
   ]
  },
  {
   "cell_type": "code",
   "execution_count": 38,
   "id": "d7cff172-4e8e-48be-922a-afb330351cf1",
   "metadata": {
    "tags": []
   },
   "outputs": [
    {
     "name": "stderr",
     "output_type": "stream",
     "text": [
      "                                                                                \r"
     ]
    }
   ],
   "source": [
    "# eva_data_filter.write.mode(\"overwrite\").parquet(f\"s3a://zarklab-hive-test/buy-sell-updated-202202_filter/\")\n"
   ]
  },
  {
   "cell_type": "code",
   "execution_count": 28,
   "id": "a7c48d1c-4ff1-4361-9911-3fa1201bdfa6",
   "metadata": {
    "tags": []
   },
   "outputs": [
    {
     "name": "stderr",
     "output_type": "stream",
     "text": [
      "/home/ec2-user/anaconda3/envs/python3/lib/python3.10/site-packages/pandas/core/computation/expressions.py:21: UserWarning: Pandas requires version '2.8.0' or newer of 'numexpr' (version '2.7.3' currently installed).\n",
      "  from pandas.core.computation.check import NUMEXPR_INSTALLED\n"
     ]
    }
   ],
   "source": [
    "import pandas as pd"
   ]
  },
  {
   "cell_type": "code",
   "execution_count": 30,
   "id": "231ce171-73c5-4b3e-b33a-72e0404abd2b",
   "metadata": {
    "tags": []
   },
   "outputs": [
    {
     "name": "stderr",
     "output_type": "stream",
     "text": [
      "/tmp/ipykernel_8645/2094962876.py:1: DtypeWarning: Columns (1,2,3,4,5,7,9,10,11,12,13,14,15,17,18,19,20,21,22,28,33,38,43,44,45,46,47,48,49,50,51,52) have mixed types. Specify dtype option on import or set low_memory=False.\n",
      "  infor = pd.read_csv('s3://zarklab-hive-test/ads_base_extdat_tokenrec_dm/tonen_info_ds_u11.csv')\n"
     ]
    }
   ],
   "source": []
  },
  {
   "cell_type": "code",
   "execution_count": 31,
   "id": "5f9f4bb4-ef4b-44fd-9ea5-19ee8ee36fc2",
   "metadata": {
    "tags": []
   },
   "outputs": [
    {
     "data": {
      "text/html": [
       "<div>\n",
       "<style scoped>\n",
       "    .dataframe tbody tr th:only-of-type {\n",
       "        vertical-align: middle;\n",
       "    }\n",
       "\n",
       "    .dataframe tbody tr th {\n",
       "        vertical-align: top;\n",
       "    }\n",
       "\n",
       "    .dataframe thead th {\n",
       "        text-align: right;\n",
       "    }\n",
       "</style>\n",
       "<table border=\"1\" class=\"dataframe\">\n",
       "  <thead>\n",
       "    <tr style=\"text-align: right;\">\n",
       "      <th></th>\n",
       "      <th>merge</th>\n",
       "      <th>token_website</th>\n",
       "      <th>token_logo_small</th>\n",
       "      <th>token_logo_thumb</th>\n",
       "      <th>token_logo_large</th>\n",
       "      <th>token_token_color_hex_1</th>\n",
       "      <th>token_token_color_percent_1</th>\n",
       "      <th>token_token_color_hex_2</th>\n",
       "      <th>token_token_color_percent_2</th>\n",
       "      <th>token_platform</th>\n",
       "      <th>...</th>\n",
       "      <th>whitelist_flag</th>\n",
       "      <th>honeypot_flag_red</th>\n",
       "      <th>trading_cd_flag</th>\n",
       "      <th>mint_flag</th>\n",
       "      <th>owner_balance_flag_red</th>\n",
       "      <th>hidden_owner_flag</th>\n",
       "      <th>external_call_flag</th>\n",
       "      <th>anti_whale_limit_txn_flag</th>\n",
       "      <th>self_destruct_flag_red</th>\n",
       "      <th>anti_whale_modify_flag</th>\n",
       "    </tr>\n",
       "  </thead>\n",
       "  <tbody>\n",
       "    <tr>\n",
       "      <th>0</th>\n",
       "      <td>0xa50709b10c328772ea24a44b13c7e23c75561ecb</td>\n",
       "      <td>['https://twentyeight.io/', 'https://linktr.ee...</td>\n",
       "      <td>https://assets.coingecko.com/coins/images/3214...</td>\n",
       "      <td>https://assets.coingecko.com/coins/images/3214...</td>\n",
       "      <td>https://assets.coingecko.com/coins/images/3214...</td>\n",
       "      <td>#943C23</td>\n",
       "      <td>1.583993</td>\n",
       "      <td>#C54B22</td>\n",
       "      <td>1.250521</td>\n",
       "      <td>ethereum</td>\n",
       "      <td>...</td>\n",
       "      <td>1.0</td>\n",
       "      <td>0.0</td>\n",
       "      <td>0.0</td>\n",
       "      <td>0.0</td>\n",
       "      <td>0.0</td>\n",
       "      <td>0.0</td>\n",
       "      <td>0.0</td>\n",
       "      <td>0.0</td>\n",
       "      <td>0.0</td>\n",
       "      <td>1.0</td>\n",
       "    </tr>\n",
       "    <tr>\n",
       "      <th>1</th>\n",
       "      <td>0xe4efdd2eb216a4620cfa55c5cc67bd09dc64ff24</td>\n",
       "      <td>['https://www.bitcoinupside.cash/']</td>\n",
       "      <td>https://assets.coingecko.com/coins/images/3153...</td>\n",
       "      <td>https://assets.coingecko.com/coins/images/3153...</td>\n",
       "      <td>https://assets.coingecko.com/coins/images/3153...</td>\n",
       "      <td>#FFCB44</td>\n",
       "      <td>43.869892</td>\n",
       "      <td>#F2D27D</td>\n",
       "      <td>7.506255</td>\n",
       "      <td>ethereum</td>\n",
       "      <td>...</td>\n",
       "      <td>1.0</td>\n",
       "      <td>0.0</td>\n",
       "      <td>0.0</td>\n",
       "      <td>0.0</td>\n",
       "      <td>0.0</td>\n",
       "      <td>0.0</td>\n",
       "      <td>0.0</td>\n",
       "      <td>0.0</td>\n",
       "      <td>0.0</td>\n",
       "      <td>0.0</td>\n",
       "    </tr>\n",
       "    <tr>\n",
       "      <th>2</th>\n",
       "      <td>0x45245bc59219eeaaf6cd3f382e078a461ff9de7b</td>\n",
       "      <td>NaN</td>\n",
       "      <td>NaN</td>\n",
       "      <td>NaN</td>\n",
       "      <td>NaN</td>\n",
       "      <td>NaN</td>\n",
       "      <td>NaN</td>\n",
       "      <td>NaN</td>\n",
       "      <td>NaN</td>\n",
       "      <td>NaN</td>\n",
       "      <td>...</td>\n",
       "      <td>0.0</td>\n",
       "      <td>0.0</td>\n",
       "      <td>0.0</td>\n",
       "      <td>0.0</td>\n",
       "      <td>0.0</td>\n",
       "      <td>0.0</td>\n",
       "      <td>0.0</td>\n",
       "      <td>0.0</td>\n",
       "      <td>0.0</td>\n",
       "      <td>0.0</td>\n",
       "    </tr>\n",
       "    <tr>\n",
       "      <th>3</th>\n",
       "      <td>0x3026d446ed0bdbcedac01996b7960d04a7a02528</td>\n",
       "      <td>['https://thex.cash/']</td>\n",
       "      <td>https://s2.coinmarketcap.com/static/img/coins/...</td>\n",
       "      <td>https://s2.coinmarketcap.com/static/img/coins/...</td>\n",
       "      <td>https://s2.coinmarketcap.com/static/img/coins/...</td>\n",
       "      <td>#2B1413</td>\n",
       "      <td>6.395851</td>\n",
       "      <td>#252833</td>\n",
       "      <td>2.823394</td>\n",
       "      <td>Ethereum</td>\n",
       "      <td>...</td>\n",
       "      <td>NaN</td>\n",
       "      <td>NaN</td>\n",
       "      <td>NaN</td>\n",
       "      <td>NaN</td>\n",
       "      <td>NaN</td>\n",
       "      <td>NaN</td>\n",
       "      <td>NaN</td>\n",
       "      <td>NaN</td>\n",
       "      <td>NaN</td>\n",
       "      <td>NaN</td>\n",
       "    </tr>\n",
       "    <tr>\n",
       "      <th>4</th>\n",
       "      <td>0x68a118ef45063051eac49c7e647ce5ace48a68a5</td>\n",
       "      <td>NaN</td>\n",
       "      <td>NaN</td>\n",
       "      <td>NaN</td>\n",
       "      <td>NaN</td>\n",
       "      <td>NaN</td>\n",
       "      <td>NaN</td>\n",
       "      <td>NaN</td>\n",
       "      <td>NaN</td>\n",
       "      <td>NaN</td>\n",
       "      <td>...</td>\n",
       "      <td>0.0</td>\n",
       "      <td>0.0</td>\n",
       "      <td>0.0</td>\n",
       "      <td>0.0</td>\n",
       "      <td>0.0</td>\n",
       "      <td>0.0</td>\n",
       "      <td>0.0</td>\n",
       "      <td>0.0</td>\n",
       "      <td>0.0</td>\n",
       "      <td>0.0</td>\n",
       "    </tr>\n",
       "  </tbody>\n",
       "</table>\n",
       "<p>5 rows × 70 columns</p>\n",
       "</div>"
      ],
      "text/plain": [
       "                                        merge  \\\n",
       "0  0xa50709b10c328772ea24a44b13c7e23c75561ecb   \n",
       "1  0xe4efdd2eb216a4620cfa55c5cc67bd09dc64ff24   \n",
       "2  0x45245bc59219eeaaf6cd3f382e078a461ff9de7b   \n",
       "3  0x3026d446ed0bdbcedac01996b7960d04a7a02528   \n",
       "4  0x68a118ef45063051eac49c7e647ce5ace48a68a5   \n",
       "\n",
       "                                       token_website  \\\n",
       "0  ['https://twentyeight.io/', 'https://linktr.ee...   \n",
       "1                ['https://www.bitcoinupside.cash/']   \n",
       "2                                                NaN   \n",
       "3                             ['https://thex.cash/']   \n",
       "4                                                NaN   \n",
       "\n",
       "                                    token_logo_small  \\\n",
       "0  https://assets.coingecko.com/coins/images/3214...   \n",
       "1  https://assets.coingecko.com/coins/images/3153...   \n",
       "2                                                NaN   \n",
       "3  https://s2.coinmarketcap.com/static/img/coins/...   \n",
       "4                                                NaN   \n",
       "\n",
       "                                    token_logo_thumb  \\\n",
       "0  https://assets.coingecko.com/coins/images/3214...   \n",
       "1  https://assets.coingecko.com/coins/images/3153...   \n",
       "2                                                NaN   \n",
       "3  https://s2.coinmarketcap.com/static/img/coins/...   \n",
       "4                                                NaN   \n",
       "\n",
       "                                    token_logo_large token_token_color_hex_1  \\\n",
       "0  https://assets.coingecko.com/coins/images/3214...                 #943C23   \n",
       "1  https://assets.coingecko.com/coins/images/3153...                 #FFCB44   \n",
       "2                                                NaN                     NaN   \n",
       "3  https://s2.coinmarketcap.com/static/img/coins/...                 #2B1413   \n",
       "4                                                NaN                     NaN   \n",
       "\n",
       "   token_token_color_percent_1 token_token_color_hex_2  \\\n",
       "0                     1.583993                 #C54B22   \n",
       "1                    43.869892                 #F2D27D   \n",
       "2                          NaN                     NaN   \n",
       "3                     6.395851                 #252833   \n",
       "4                          NaN                     NaN   \n",
       "\n",
       "   token_token_color_percent_2 token_platform  ... whitelist_flag  \\\n",
       "0                     1.250521       ethereum  ...            1.0   \n",
       "1                     7.506255       ethereum  ...            1.0   \n",
       "2                          NaN            NaN  ...            0.0   \n",
       "3                     2.823394       Ethereum  ...            NaN   \n",
       "4                          NaN            NaN  ...            0.0   \n",
       "\n",
       "  honeypot_flag_red trading_cd_flag mint_flag owner_balance_flag_red  \\\n",
       "0               0.0             0.0       0.0                    0.0   \n",
       "1               0.0             0.0       0.0                    0.0   \n",
       "2               0.0             0.0       0.0                    0.0   \n",
       "3               NaN             NaN       NaN                    NaN   \n",
       "4               0.0             0.0       0.0                    0.0   \n",
       "\n",
       "  hidden_owner_flag external_call_flag anti_whale_limit_txn_flag  \\\n",
       "0               0.0                0.0                       0.0   \n",
       "1               0.0                0.0                       0.0   \n",
       "2               0.0                0.0                       0.0   \n",
       "3               NaN                NaN                       NaN   \n",
       "4               0.0                0.0                       0.0   \n",
       "\n",
       "  self_destruct_flag_red anti_whale_modify_flag  \n",
       "0                    0.0                    1.0  \n",
       "1                    0.0                    0.0  \n",
       "2                    0.0                    0.0  \n",
       "3                    NaN                    NaN  \n",
       "4                    0.0                    0.0  \n",
       "\n",
       "[5 rows x 70 columns]"
      ]
     },
     "execution_count": 31,
     "metadata": {},
     "output_type": "execute_result"
    }
   ],
   "source": [
    "infor.head()"
   ]
  },
  {
   "cell_type": "code",
   "execution_count": 32,
   "id": "2200ee02-0775-4ace-a3f4-3c1a72fcccb8",
   "metadata": {
    "tags": []
   },
   "outputs": [],
   "source": []
  },
  {
   "cell_type": "code",
   "execution_count": 33,
   "id": "77761b61-dfdf-4c59-b5c1-fbc9b5da7ed9",
   "metadata": {
    "tags": []
   },
   "outputs": [
    {
     "data": {
      "text/html": [
       "<div>\n",
       "<style scoped>\n",
       "    .dataframe tbody tr th:only-of-type {\n",
       "        vertical-align: middle;\n",
       "    }\n",
       "\n",
       "    .dataframe tbody tr th {\n",
       "        vertical-align: top;\n",
       "    }\n",
       "\n",
       "    .dataframe thead th {\n",
       "        text-align: right;\n",
       "    }\n",
       "</style>\n",
       "<table border=\"1\" class=\"dataframe\">\n",
       "  <thead>\n",
       "    <tr style=\"text-align: right;\">\n",
       "      <th></th>\n",
       "      <th>merge</th>\n",
       "      <th>token_website</th>\n",
       "      <th>token_logo_small</th>\n",
       "      <th>token_logo_thumb</th>\n",
       "      <th>token_logo_large</th>\n",
       "      <th>token_token_color_hex_1</th>\n",
       "      <th>token_token_color_percent_1</th>\n",
       "      <th>token_token_color_hex_2</th>\n",
       "      <th>token_token_color_percent_2</th>\n",
       "      <th>token_platform</th>\n",
       "      <th>...</th>\n",
       "      <th>whitelist_flag</th>\n",
       "      <th>honeypot_flag_red</th>\n",
       "      <th>trading_cd_flag</th>\n",
       "      <th>mint_flag</th>\n",
       "      <th>owner_balance_flag_red</th>\n",
       "      <th>hidden_owner_flag</th>\n",
       "      <th>external_call_flag</th>\n",
       "      <th>anti_whale_limit_txn_flag</th>\n",
       "      <th>self_destruct_flag_red</th>\n",
       "      <th>anti_whale_modify_flag</th>\n",
       "    </tr>\n",
       "  </thead>\n",
       "  <tbody>\n",
       "    <tr>\n",
       "      <th>1758</th>\n",
       "      <td>0x0000000000000000000000000000000000000eth</td>\n",
       "      <td>['https://www.ethereum.org/', 'https://en.wiki...</td>\n",
       "      <td>https://s2.coinmarketcap.com/static/img/coins/...</td>\n",
       "      <td>https://s2.coinmarketcap.com/static/img/coins/...</td>\n",
       "      <td>https://s2.coinmarketcap.com/static/img/coins/...</td>\n",
       "      <td>#A164FF</td>\n",
       "      <td>0.144259</td>\n",
       "      <td>#7FFFFF</td>\n",
       "      <td>0.057703</td>\n",
       "      <td>NaN</td>\n",
       "      <td>...</td>\n",
       "      <td>0.0</td>\n",
       "      <td>0.0</td>\n",
       "      <td>0.0</td>\n",
       "      <td>0.0</td>\n",
       "      <td>0.0</td>\n",
       "      <td>0.0</td>\n",
       "      <td>0.0</td>\n",
       "      <td>0.0</td>\n",
       "      <td>0.0</td>\n",
       "      <td>0.0</td>\n",
       "    </tr>\n",
       "  </tbody>\n",
       "</table>\n",
       "<p>1 rows × 70 columns</p>\n",
       "</div>"
      ],
      "text/plain": [
       "                                           merge  \\\n",
       "1758  0x0000000000000000000000000000000000000eth   \n",
       "\n",
       "                                          token_website  \\\n",
       "1758  ['https://www.ethereum.org/', 'https://en.wiki...   \n",
       "\n",
       "                                       token_logo_small  \\\n",
       "1758  https://s2.coinmarketcap.com/static/img/coins/...   \n",
       "\n",
       "                                       token_logo_thumb  \\\n",
       "1758  https://s2.coinmarketcap.com/static/img/coins/...   \n",
       "\n",
       "                                       token_logo_large  \\\n",
       "1758  https://s2.coinmarketcap.com/static/img/coins/...   \n",
       "\n",
       "     token_token_color_hex_1  token_token_color_percent_1  \\\n",
       "1758                 #A164FF                     0.144259   \n",
       "\n",
       "     token_token_color_hex_2  token_token_color_percent_2 token_platform  ...  \\\n",
       "1758                 #7FFFFF                     0.057703            NaN  ...   \n",
       "\n",
       "     whitelist_flag honeypot_flag_red trading_cd_flag mint_flag  \\\n",
       "1758            0.0               0.0             0.0       0.0   \n",
       "\n",
       "     owner_balance_flag_red hidden_owner_flag external_call_flag  \\\n",
       "1758                    0.0               0.0                0.0   \n",
       "\n",
       "     anti_whale_limit_txn_flag self_destruct_flag_red anti_whale_modify_flag  \n",
       "1758                       0.0                    0.0                    0.0  \n",
       "\n",
       "[1 rows x 70 columns]"
      ]
     },
     "execution_count": 33,
     "metadata": {},
     "output_type": "execute_result"
    }
   ],
   "source": [
    "eth_df.head()"
   ]
  },
  {
   "cell_type": "code",
   "execution_count": 37,
   "id": "67717224-0601-4902-a297-b7d009c721e5",
   "metadata": {
    "tags": []
   },
   "outputs": [
    {
     "data": {
      "text/plain": [
       "array([['0x0000000000000000000000000000000000000eth', 'Ethereum', 'ETH',\n",
       "        'Blockchain Networks', '#1', 0.0]], dtype=object)"
      ]
     },
     "execution_count": 37,
     "metadata": {},
     "output_type": "execute_result"
    }
   ],
   "source": [
    "eth_df[['merge','combined_token_name','combined_token_symbol','token_category','token_rank','risky_flags']].values"
   ]
  },
  {
   "cell_type": "code",
   "execution_count": null,
   "id": "2ede7f7d-e84b-4241-82e6-ed718e80964b",
   "metadata": {},
   "outputs": [],
   "source": []
  }
 ],
 "metadata": {
  "kernelspec": {
   "display_name": "conda_python3",
   "language": "python",
   "name": "conda_python3"
  },
  "language_info": {
   "codemirror_mode": {
    "name": "ipython",
    "version": 3
   },
   "file_extension": ".py",
   "mimetype": "text/x-python",
   "name": "python",
   "nbconvert_exporter": "python",
   "pygments_lexer": "ipython3",
   "version": "3.10.13"
  }
 },
 "nbformat": 4,
 "nbformat_minor": 5
}
