{
 "cells": [
  {
   "cell_type": "code",
   "execution_count": 1,
   "id": "a515b4ea-8772-44d6-b7fc-5d4bbb6582c7",
   "metadata": {
    "tags": []
   },
   "outputs": [
    {
     "name": "stderr",
     "output_type": "stream",
     "text": [
      "/home/ec2-user/anaconda3/envs/transformers4rec-23.04/lib/python3.10/site-packages/merlin/dtypes/mappings/tf.py:52: UserWarning: Tensorflow dtype mappings did not load successfully due to an error: No module named 'tensorflow'\n",
      "  warn(f\"Tensorflow dtype mappings did not load successfully due to an error: {exc.msg}\")\n",
      "/home/ec2-user/anaconda3/envs/transformers4rec-23.04/lib/python3.10/site-packages/merlin/dtypes/mappings/triton.py:53: UserWarning: Triton dtype mappings did not load successfully due to an error: No module named 'tritonclient'\n",
      "  warn(f\"Triton dtype mappings did not load successfully due to an error: {exc.msg}\")\n",
      "/home/ec2-user/anaconda3/envs/transformers4rec-23.04/lib/python3.10/site-packages/tqdm/auto.py:21: TqdmWarning: IProgress not found. Please update jupyter and ipywidgets. See https://ipywidgets.readthedocs.io/en/stable/user_install.html\n",
      "  from .autonotebook import tqdm as notebook_tqdm\n"
     ]
    }
   ],
   "source": [
    "import os\n",
    "\n",
    "os.environ[\"CUDA_VISIBLE_DEVICES\"]=\"0\"\n",
    "\n",
    "import glob\n",
    "import torch \n",
    "\n",
    "from transformers4rec import torch as tr\n",
    "from transformers4rec.torch.ranking_metric import NDCGAt, AvgPrecisionAt, RecallAt\n",
    "from transformers4rec.torch.utils.examples_utils import wipe_memory"
   ]
  },
  {
   "cell_type": "code",
   "execution_count": 3,
   "id": "ed85ae3d-26f3-432f-8893-0a7878fc69ae",
   "metadata": {
    "tags": []
   },
   "outputs": [],
   "source": [
    "from merlin.schema import Schema\n",
    "from merlin.io import Dataset\n",
    "\n",
    "\n",
    "INPUT_DATA_DIR = os.environ.get(\"INPUT_DATA_DIR\", \"/home/ec2-user/SageMaker/token_recommender/data/\")\n",
    "\n",
    "train = Dataset(os.path.join(INPUT_DATA_DIR, \"202201-202203/data.parquet/part_0.parquet\"))\n",
    "schema = train.schema"
   ]
  },
  {
   "cell_type": "code",
   "execution_count": 4,
   "id": "e028bba8-980a-42c3-b3cf-47f98102e76e",
   "metadata": {
    "tags": []
   },
   "outputs": [],
   "source": [
    "import nvtabular as nvt\n",
    "import cudf\n"
   ]
  },
  {
   "cell_type": "code",
   "execution_count": 5,
   "id": "59fb4727-3c67-4c5f-9cd9-e651418914f7",
   "metadata": {
    "tags": []
   },
   "outputs": [],
   "source": [
    "inputs = tr.TabularSequenceFeatures.from_schema(\n",
    "        schema,\n",
    "        max_sequence_length=20,\n",
    "        continuous_projection=64,\n",
    "        masking=\"mlm\",\n",
    "        d_output=100,\n",
    ")"
   ]
  },
  {
   "cell_type": "code",
   "execution_count": 6,
   "id": "e75e85a7-687f-4eb0-af60-ad2e1f856b04",
   "metadata": {
    "tags": []
   },
   "outputs": [],
   "source": [
    "# Define XLNetConfig class and set default parameters for HF XLNet config  \n",
    "transformer_config = tr.XLNetConfig.build(\n",
    "    d_model=64, n_head=4, n_layer=2, total_seq_length=20\n",
    ")\n",
    "# Define the model block including: inputs, masking, projection and transformer block.\n",
    "body = tr.SequentialBlock(\n",
    "    inputs, tr.MLPBlock([64]), tr.TransformerBlock(transformer_config, masking=inputs.masking)\n",
    ")\n",
    "\n",
    "# Define the evaluation top-N metrics and the cut-offs\n",
    "metrics = [NDCGAt(top_ks=[5, 10,20], labels_onehot=True),  \n",
    "           RecallAt(top_ks=[5, 10,20], labels_onehot=True),\n",
    "           AvgPrecisionAt(top_ks=[5,10,20], labels_onehot=True)]\n",
    "\n",
    "# Define a head related to next item prediction task \n",
    "head = tr.Head(\n",
    "    body,\n",
    "    tr.NextItemPredictionTask(weight_tying=True, \n",
    "                              metrics=metrics),\n",
    "    inputs=inputs,\n",
    ")\n",
    "\n",
    "# Get the end-to-end Model class \n",
    "model = tr.Model(head)"
   ]
  },
  {
   "cell_type": "code",
   "execution_count": 7,
   "id": "16430480-c998-4d9d-ba8c-5e2460af7904",
   "metadata": {
    "tags": []
   },
   "outputs": [],
   "source": [
    "model_path= os.environ.get(\"OUTPUT_DIR\", f\"{INPUT_DATA_DIR}/saved_model\")\n",
    "\n",
    "model = model.load(model_path)"
   ]
  },
  {
   "cell_type": "code",
   "execution_count": null,
   "id": "c71a043e-55a0-4931-ade8-9c89b951f0d3",
   "metadata": {
    "tags": []
   },
   "outputs": [],
   "source": [
    "# workflow = nvt.Workflow.load('./preprocessWorkflow')\n"
   ]
  },
  {
   "cell_type": "code",
   "execution_count": 8,
   "id": "85d4227e-c90b-4755-b6e2-f4ca8c8d6521",
   "metadata": {
    "tags": []
   },
   "outputs": [],
   "source": [
    "# month = \"202202\"\n",
    "# mydata = cudf.read_parquet(f\"s3a://zarklab-token-recommender/buy-sell-updated-{month}/\")\n",
    "# dataset = nvt.Dataset(mydata)"
   ]
  },
  {
   "cell_type": "code",
   "execution_count": 9,
   "id": "8ef5ffaf-85e6-4756-ac7a-00d26b0bd55f",
   "metadata": {
    "tags": []
   },
   "outputs": [],
   "source": [
    "# procesed = workflow.transform(dataset)"
   ]
  },
  {
   "cell_type": "code",
   "execution_count": 8,
   "id": "06896567-055c-4880-9886-35a1a86d9d81",
   "metadata": {
    "tags": []
   },
   "outputs": [
    {
     "data": {
      "text/html": [
       "<div>\n",
       "<style scoped>\n",
       "    .dataframe tbody tr th:only-of-type {\n",
       "        vertical-align: middle;\n",
       "    }\n",
       "\n",
       "    .dataframe tbody tr th {\n",
       "        vertical-align: top;\n",
       "    }\n",
       "\n",
       "    .dataframe thead th {\n",
       "        text-align: right;\n",
       "    }\n",
       "</style>\n",
       "<table border=\"1\" class=\"dataframe\">\n",
       "  <thead>\n",
       "    <tr style=\"text-align: right;\">\n",
       "      <th></th>\n",
       "      <th>recipient</th>\n",
       "      <th>timestamp-first</th>\n",
       "      <th>buyAsset-list</th>\n",
       "      <th>et_dayofweek_sin-list</th>\n",
       "      <th>txFee_eth_log_norm-list</th>\n",
       "      <th>buyQty1_log_norm-list</th>\n",
       "      <th>buyPrice_log_norm-list</th>\n",
       "      <th>token_category-list</th>\n",
       "      <th>token_rank_category-list</th>\n",
       "      <th>risky_flags-list</th>\n",
       "    </tr>\n",
       "  </thead>\n",
       "  <tbody>\n",
       "    <tr>\n",
       "      <th>0</th>\n",
       "      <td>0x000000000004d7463d0f9c77383600bc82d612f5</td>\n",
       "      <td>2022-02-04 16:02:07</td>\n",
       "      <td>[1476, 1017, 714, 503, 1414, 540, 24, 57, 388,...</td>\n",
       "      <td>[0.7818320421108522, -0.43388454782514785, 0.7...</td>\n",
       "      <td>[-0.9711685, 4.0381575, -0.0927555, -0.5455516...</td>\n",
       "      <td>[-0.037812326, 0.41854876, 1.6840619, 0.373512...</td>\n",
       "      <td>[3.1767557, 0.5084427, -0.32517, 0.9167288, -1...</td>\n",
       "      <td>[13, 23, 13, 15, 4, 6, 4, 10, 13, 6, 13, 5, 4,...</td>\n",
       "      <td>[3, 5, 5, 6, 3, 5, 3, 3, 5, 5, 5, 3, 3, 5, 5, ...</td>\n",
       "      <td>[3, 3, 3, 3, 3, 3, 3, 4, 3, 3, 3, 3, 3, 3, 3, ...</td>\n",
       "    </tr>\n",
       "    <tr>\n",
       "      <th>1</th>\n",
       "      <td>0x000000000008e4db6a6194c6957df47e30970dc2</td>\n",
       "      <td>2022-02-23 18:48:34</td>\n",
       "      <td>[4, 5, 113, 4, 5, 4, 3, 4, 5, 4, 2, 4]</td>\n",
       "      <td>[0.43388293040961884, 0.43388293040961884, -0....</td>\n",
       "      <td>[1.1193919, -0.6704848, -0.7880669, -0.2486222...</td>\n",
       "      <td>[-1.1768427, -0.7273375, -0.25471848, -1.17684...</td>\n",
       "      <td>[-0.79159683, -1.9954994, -0.9924365, -0.72346...</td>\n",
       "      <td>[5, 3, 5, 5, 3, 5, 3, 5, 3, 5, 4, 5]</td>\n",
       "      <td>[3, 4, 5, 3, 4, 3, 4, 3, 4, 3, 3, 3]</td>\n",
       "      <td>[3, 4, 3, 3, 4, 3, 3, 3, 4, 3, 3, 3]</td>\n",
       "    </tr>\n",
       "    <tr>\n",
       "      <th>2</th>\n",
       "      <td>0x00000000005dbcb0d0513fcda746382fe8a53468</td>\n",
       "      <td>2022-03-17 22:05:10</td>\n",
       "      <td>[7, 3]</td>\n",
       "      <td>[-0.43388454782514785, 0.43388293040961884]</td>\n",
       "      <td>[-0.56394494, -0.75527036]</td>\n",
       "      <td>[-0.18475509, -0.09766247]</td>\n",
       "      <td>[-0.0028407222, 0.3170109]</td>\n",
       "      <td>[3, 3]</td>\n",
       "      <td>[4, 4]</td>\n",
       "      <td>[3, 3]</td>\n",
       "    </tr>\n",
       "    <tr>\n",
       "      <th>3</th>\n",
       "      <td>0x000000000088e0120f9e6652cc058aec07564f69</td>\n",
       "      <td>2022-02-27 22:21:30</td>\n",
       "      <td>[3, 252]</td>\n",
       "      <td>[8.975979006501142e-07, 0.9749277124471076]</td>\n",
       "      <td>[-0.5149825, -0.6488472]</td>\n",
       "      <td>[-0.9772498, -1.1934248]</td>\n",
       "      <td>[-2.913314, -3.7022686]</td>\n",
       "      <td>[3, 18]</td>\n",
       "      <td>[4, 5]</td>\n",
       "      <td>[3, 3]</td>\n",
       "    </tr>\n",
       "    <tr>\n",
       "      <th>4</th>\n",
       "      <td>0x0000000000e002b4e3009de1c7614ae5e1facf7a</td>\n",
       "      <td>2022-04-21 20:00:25</td>\n",
       "      <td>[4, 7]</td>\n",
       "      <td>[-0.43388454782514785, -0.43388454782514785]</td>\n",
       "      <td>[-0.46488264, -0.24414156]</td>\n",
       "      <td>[-1.1934248, -1.0993807]</td>\n",
       "      <td>[-3.3618457, -3.3618457]</td>\n",
       "      <td>[5, 3]</td>\n",
       "      <td>[3, 4]</td>\n",
       "      <td>[3, 3]</td>\n",
       "    </tr>\n",
       "  </tbody>\n",
       "</table>\n",
       "</div>"
      ],
      "text/plain": [
       "                                    recipient     timestamp-first  \\\n",
       "0  0x000000000004d7463d0f9c77383600bc82d612f5 2022-02-04 16:02:07   \n",
       "1  0x000000000008e4db6a6194c6957df47e30970dc2 2022-02-23 18:48:34   \n",
       "2  0x00000000005dbcb0d0513fcda746382fe8a53468 2022-03-17 22:05:10   \n",
       "3  0x000000000088e0120f9e6652cc058aec07564f69 2022-02-27 22:21:30   \n",
       "4  0x0000000000e002b4e3009de1c7614ae5e1facf7a 2022-04-21 20:00:25   \n",
       "\n",
       "                                       buyAsset-list  \\\n",
       "0  [1476, 1017, 714, 503, 1414, 540, 24, 57, 388,...   \n",
       "1             [4, 5, 113, 4, 5, 4, 3, 4, 5, 4, 2, 4]   \n",
       "2                                             [7, 3]   \n",
       "3                                           [3, 252]   \n",
       "4                                             [4, 7]   \n",
       "\n",
       "                               et_dayofweek_sin-list  \\\n",
       "0  [0.7818320421108522, -0.43388454782514785, 0.7...   \n",
       "1  [0.43388293040961884, 0.43388293040961884, -0....   \n",
       "2        [-0.43388454782514785, 0.43388293040961884]   \n",
       "3        [8.975979006501142e-07, 0.9749277124471076]   \n",
       "4       [-0.43388454782514785, -0.43388454782514785]   \n",
       "\n",
       "                             txFee_eth_log_norm-list  \\\n",
       "0  [-0.9711685, 4.0381575, -0.0927555, -0.5455516...   \n",
       "1  [1.1193919, -0.6704848, -0.7880669, -0.2486222...   \n",
       "2                         [-0.56394494, -0.75527036]   \n",
       "3                           [-0.5149825, -0.6488472]   \n",
       "4                         [-0.46488264, -0.24414156]   \n",
       "\n",
       "                               buyQty1_log_norm-list  \\\n",
       "0  [-0.037812326, 0.41854876, 1.6840619, 0.373512...   \n",
       "1  [-1.1768427, -0.7273375, -0.25471848, -1.17684...   \n",
       "2                         [-0.18475509, -0.09766247]   \n",
       "3                           [-0.9772498, -1.1934248]   \n",
       "4                           [-1.1934248, -1.0993807]   \n",
       "\n",
       "                              buyPrice_log_norm-list  \\\n",
       "0  [3.1767557, 0.5084427, -0.32517, 0.9167288, -1...   \n",
       "1  [-0.79159683, -1.9954994, -0.9924365, -0.72346...   \n",
       "2                         [-0.0028407222, 0.3170109]   \n",
       "3                            [-2.913314, -3.7022686]   \n",
       "4                           [-3.3618457, -3.3618457]   \n",
       "\n",
       "                                 token_category-list  \\\n",
       "0  [13, 23, 13, 15, 4, 6, 4, 10, 13, 6, 13, 5, 4,...   \n",
       "1               [5, 3, 5, 5, 3, 5, 3, 5, 3, 5, 4, 5]   \n",
       "2                                             [3, 3]   \n",
       "3                                            [3, 18]   \n",
       "4                                             [5, 3]   \n",
       "\n",
       "                            token_rank_category-list  \\\n",
       "0  [3, 5, 5, 6, 3, 5, 3, 3, 5, 5, 5, 3, 3, 5, 5, ...   \n",
       "1               [3, 4, 5, 3, 4, 3, 4, 3, 4, 3, 3, 3]   \n",
       "2                                             [4, 4]   \n",
       "3                                             [4, 5]   \n",
       "4                                             [3, 4]   \n",
       "\n",
       "                                    risky_flags-list  \n",
       "0  [3, 3, 3, 3, 3, 3, 3, 4, 3, 3, 3, 3, 3, 3, 3, ...  \n",
       "1               [3, 4, 3, 3, 4, 3, 3, 3, 4, 3, 3, 3]  \n",
       "2                                             [3, 3]  \n",
       "3                                             [3, 3]  \n",
       "4                                             [3, 3]  "
      ]
     },
     "execution_count": 8,
     "metadata": {},
     "output_type": "execute_result"
    }
   ],
   "source": [
    "INPUT_DATA_DIR = os.environ.get(\"INPUT_DATA_DIR\", \"/home/ec2-user/SageMaker/token_recommender/data/\")\n",
    "TEST_data = Dataset(os.path.join(INPUT_DATA_DIR, \"202202-202204/data.parquet/part_0.parquet\"))\n",
    "\n",
    "TEST_data.head()"
   ]
  },
  {
   "cell_type": "code",
   "execution_count": 9,
   "id": "5aa72348-f7a0-4543-8686-6a379c724c53",
   "metadata": {
    "tags": []
   },
   "outputs": [],
   "source": [
    "from transformers4rec.torch.utils.data_utils import T4RecDataLoader"
   ]
  },
  {
   "cell_type": "code",
   "execution_count": 10,
   "id": "1db29340-a728-4de9-be85-b8c0932ecad3",
   "metadata": {
    "tags": []
   },
   "outputs": [],
   "source": [
    "dataloader =  T4RecDataLoader.parse('merlin').from_schema(\n",
    "            train.schema,\n",
    "            TEST_data,\n",
    "            128,\n",
    "            max_sequence_length=20,\n",
    "            drop_last=False,\n",
    "            shuffle=False\n",
    "        )"
   ]
  },
  {
   "cell_type": "code",
   "execution_count": 11,
   "id": "b353329c-54c0-45b6-8016-2ddb1c22c00b",
   "metadata": {
    "tags": []
   },
   "outputs": [],
   "source": [
    "\n",
    "softmax = torch.nn.Softmax(dim=1)"
   ]
  },
  {
   "cell_type": "code",
   "execution_count": 12,
   "id": "65da49b9-a4a6-42e0-90b6-240672eaa0e1",
   "metadata": {
    "tags": []
   },
   "outputs": [],
   "source": [
    "procesed_df = TEST_data.to_ddf()"
   ]
  },
  {
   "cell_type": "code",
   "execution_count": 13,
   "id": "d9456bd2-7736-41c6-b559-e4bbc04032ad",
   "metadata": {
    "tags": []
   },
   "outputs": [
    {
     "data": {
      "text/html": [
       "<div>\n",
       "<style scoped>\n",
       "    .dataframe tbody tr th:only-of-type {\n",
       "        vertical-align: middle;\n",
       "    }\n",
       "\n",
       "    .dataframe tbody tr th {\n",
       "        vertical-align: top;\n",
       "    }\n",
       "\n",
       "    .dataframe thead th {\n",
       "        text-align: right;\n",
       "    }\n",
       "</style>\n",
       "<table border=\"1\" class=\"dataframe\">\n",
       "  <thead>\n",
       "    <tr style=\"text-align: right;\">\n",
       "      <th></th>\n",
       "      <th>recipient</th>\n",
       "      <th>buyAsset-list</th>\n",
       "    </tr>\n",
       "  </thead>\n",
       "  <tbody>\n",
       "    <tr>\n",
       "      <th>0</th>\n",
       "      <td>0x000000000004d7463d0f9c77383600bc82d612f5</td>\n",
       "      <td>[1476, 1017, 714, 503, 1414, 540, 24, 57, 388,...</td>\n",
       "    </tr>\n",
       "    <tr>\n",
       "      <th>1</th>\n",
       "      <td>0x000000000008e4db6a6194c6957df47e30970dc2</td>\n",
       "      <td>[4, 5, 113, 4, 5, 4, 3, 4, 5, 4, 2, 4]</td>\n",
       "    </tr>\n",
       "    <tr>\n",
       "      <th>2</th>\n",
       "      <td>0x00000000005dbcb0d0513fcda746382fe8a53468</td>\n",
       "      <td>[7, 3]</td>\n",
       "    </tr>\n",
       "    <tr>\n",
       "      <th>3</th>\n",
       "      <td>0x000000000088e0120f9e6652cc058aec07564f69</td>\n",
       "      <td>[3, 252]</td>\n",
       "    </tr>\n",
       "    <tr>\n",
       "      <th>4</th>\n",
       "      <td>0x0000000000e002b4e3009de1c7614ae5e1facf7a</td>\n",
       "      <td>[4, 7]</td>\n",
       "    </tr>\n",
       "  </tbody>\n",
       "</table>\n",
       "</div>"
      ],
      "text/plain": [
       "                                    recipient  \\\n",
       "0  0x000000000004d7463d0f9c77383600bc82d612f5   \n",
       "1  0x000000000008e4db6a6194c6957df47e30970dc2   \n",
       "2  0x00000000005dbcb0d0513fcda746382fe8a53468   \n",
       "3  0x000000000088e0120f9e6652cc058aec07564f69   \n",
       "4  0x0000000000e002b4e3009de1c7614ae5e1facf7a   \n",
       "\n",
       "                                       buyAsset-list  \n",
       "0  [1476, 1017, 714, 503, 1414, 540, 24, 57, 388,...  \n",
       "1             [4, 5, 113, 4, 5, 4, 3, 4, 5, 4, 2, 4]  \n",
       "2                                             [7, 3]  \n",
       "3                                           [3, 252]  \n",
       "4                                             [4, 7]  "
      ]
     },
     "execution_count": 13,
     "metadata": {},
     "output_type": "execute_result"
    }
   ],
   "source": [
    "procesed_df = procesed_df[[\"recipient\",'buyAsset-list']]\n",
    "procesed_df.head()"
   ]
  },
  {
   "cell_type": "code",
   "execution_count": 33,
   "id": "928eab55-fa83-432c-af4d-b7985b68934f",
   "metadata": {
    "tags": []
   },
   "outputs": [],
   "source": [
    "all_labels = []\n",
    "all_indices = []\n",
    "all_scores = []\n",
    "K=10\n",
    "for i, data in enumerate(dataloader):\n",
    "    \n",
    "    out = model.forward(data[0],testing = True)\n",
    "    prediction = out['predictions']\n",
    "    labels = out['labels']\n",
    "\n",
    "    prob = softmax(prediction)\n",
    "    top5 = torch.topk(prob, K,dim=1,sorted=True)\n",
    "    score = top5.values\n",
    "    indices = top5.indices\n",
    "    \n",
    "    metrics = model.calculate_metrics(prediction,labels)\n",
    "    \n",
    "    \n",
    "    all_labels.append(labels.cpu())\n",
    "    all_indices.append(indices.cpu())\n",
    "    # all_scores.append(score.cpu())\n",
    "    \n",
    "#     print(indices[:20])\n",
    "#     print(labels[:20])\n",
    "    # print(metrics)\n",
    "    \n",
    "#     if i >1:\n",
    "#         break"
   ]
  },
  {
   "cell_type": "code",
   "execution_count": 34,
   "id": "9b2d3117-7d8c-474b-8875-5414a961e83a",
   "metadata": {
    "tags": []
   },
   "outputs": [],
   "source": [
    "all_indices_cat = torch.cat(all_indices)\n"
   ]
  },
  {
   "cell_type": "code",
   "execution_count": 35,
   "id": "97be8d12",
   "metadata": {
    "tags": []
   },
   "outputs": [],
   "source": [
    "import numpy as np\n",
    "\n",
    "all_indices_array = np.array(all_indices_cat)"
   ]
  },
  {
   "cell_type": "code",
   "execution_count": 36,
   "id": "e815df1d",
   "metadata": {
    "tags": []
   },
   "outputs": [
    {
     "data": {
      "text/plain": [
       "array([[ 5,  4,  3, ..., 18, 30, 24],\n",
       "       [ 4,  3,  5, ...,  8, 13, 34],\n",
       "       [ 3,  5,  7, ..., 21, 28, 11],\n",
       "       ...,\n",
       "       [ 3,  5,  4, ..., 11, 19, 12],\n",
       "       [ 4, 13, 16, ..., 20, 70, 34],\n",
       "       [ 3,  5,  4, ..., 37,  7, 57]])"
      ]
     },
     "execution_count": 36,
     "metadata": {},
     "output_type": "execute_result"
    }
   ],
   "source": [
    "all_indices_array"
   ]
  },
  {
   "cell_type": "code",
   "execution_count": 37,
   "id": "74023f82",
   "metadata": {
    "tags": []
   },
   "outputs": [],
   "source": [
    "all_indices_list = [str(x) for x in list(all_indices_array)]"
   ]
  },
  {
   "cell_type": "code",
   "execution_count": 38,
   "id": "2c05916d",
   "metadata": {
    "tags": []
   },
   "outputs": [],
   "source": [
    "all_labels_cat = np.array(torch.cat(all_labels))"
   ]
  },
  {
   "cell_type": "code",
   "execution_count": 39,
   "id": "05097f8b",
   "metadata": {
    "tags": []
   },
   "outputs": [],
   "source": [
    "all_labels_list =list(all_labels_cat)"
   ]
  },
  {
   "cell_type": "code",
   "execution_count": 40,
   "id": "53c99429",
   "metadata": {
    "tags": []
   },
   "outputs": [],
   "source": [
    "import pandas as pd"
   ]
  },
  {
   "cell_type": "code",
   "execution_count": 41,
   "id": "9fd1f5e4",
   "metadata": {
    "tags": []
   },
   "outputs": [],
   "source": [
    "df_predict = pd.DataFrame(all_indices_list,columns=['predict'])"
   ]
  },
  {
   "cell_type": "code",
   "execution_count": 42,
   "id": "f6e5cfed",
   "metadata": {
    "tags": []
   },
   "outputs": [],
   "source": [
    "df_predict['label'] = all_labels_list"
   ]
  },
  {
   "cell_type": "code",
   "execution_count": 43,
   "id": "4850982c",
   "metadata": {
    "tags": []
   },
   "outputs": [
    {
     "data": {
      "text/html": [
       "<div>\n",
       "<style scoped>\n",
       "    .dataframe tbody tr th:only-of-type {\n",
       "        vertical-align: middle;\n",
       "    }\n",
       "\n",
       "    .dataframe tbody tr th {\n",
       "        vertical-align: top;\n",
       "    }\n",
       "\n",
       "    .dataframe thead th {\n",
       "        text-align: right;\n",
       "    }\n",
       "</style>\n",
       "<table border=\"1\" class=\"dataframe\">\n",
       "  <thead>\n",
       "    <tr style=\"text-align: right;\">\n",
       "      <th></th>\n",
       "      <th>predict</th>\n",
       "      <th>label</th>\n",
       "    </tr>\n",
       "  </thead>\n",
       "  <tbody>\n",
       "    <tr>\n",
       "      <th>0</th>\n",
       "      <td>[  5   4   3  37  14 182  25  18  30  24]</td>\n",
       "      <td>4</td>\n",
       "    </tr>\n",
       "    <tr>\n",
       "      <th>1</th>\n",
       "      <td>[ 4  3  5 15 31 53 16  8 13 34]</td>\n",
       "      <td>4</td>\n",
       "    </tr>\n",
       "    <tr>\n",
       "      <th>2</th>\n",
       "      <td>[ 3  5  7  4  9 12  8 21 28 11]</td>\n",
       "      <td>3</td>\n",
       "    </tr>\n",
       "    <tr>\n",
       "      <th>3</th>\n",
       "      <td>[ 3  4  5  8  7  9 11  6 12 21]</td>\n",
       "      <td>252</td>\n",
       "    </tr>\n",
       "    <tr>\n",
       "      <th>4</th>\n",
       "      <td>[ 4  3  5  8 16 13 11 14 15 31]</td>\n",
       "      <td>7</td>\n",
       "    </tr>\n",
       "  </tbody>\n",
       "</table>\n",
       "</div>"
      ],
      "text/plain": [
       "                                     predict  label\n",
       "0  [  5   4   3  37  14 182  25  18  30  24]      4\n",
       "1            [ 4  3  5 15 31 53 16  8 13 34]      4\n",
       "2            [ 3  5  7  4  9 12  8 21 28 11]      3\n",
       "3            [ 3  4  5  8  7  9 11  6 12 21]    252\n",
       "4            [ 4  3  5  8 16 13 11 14 15 31]      7"
      ]
     },
     "execution_count": 43,
     "metadata": {},
     "output_type": "execute_result"
    }
   ],
   "source": [
    "df_predict.head()"
   ]
  },
  {
   "cell_type": "code",
   "execution_count": 45,
   "id": "ecb7fc30",
   "metadata": {
    "tags": []
   },
   "outputs": [
    {
     "data": {
      "text/plain": [
       "(118599, 2)"
      ]
     },
     "execution_count": 45,
     "metadata": {},
     "output_type": "execute_result"
    }
   ],
   "source": [
    "df_predict.shape"
   ]
  },
  {
   "cell_type": "code",
   "execution_count": 46,
   "id": "78811745",
   "metadata": {
    "tags": []
   },
   "outputs": [],
   "source": [
    "df_predict_cudf =  cudf.DataFrame.from_pandas(df_predict)"
   ]
  },
  {
   "cell_type": "code",
   "execution_count": 47,
   "id": "065c2dfb",
   "metadata": {
    "tags": []
   },
   "outputs": [
    {
     "data": {
      "text/html": [
       "<div>\n",
       "<style scoped>\n",
       "    .dataframe tbody tr th:only-of-type {\n",
       "        vertical-align: middle;\n",
       "    }\n",
       "\n",
       "    .dataframe tbody tr th {\n",
       "        vertical-align: top;\n",
       "    }\n",
       "\n",
       "    .dataframe thead th {\n",
       "        text-align: right;\n",
       "    }\n",
       "</style>\n",
       "<table border=\"1\" class=\"dataframe\">\n",
       "  <thead>\n",
       "    <tr style=\"text-align: right;\">\n",
       "      <th></th>\n",
       "      <th>predict</th>\n",
       "      <th>label</th>\n",
       "    </tr>\n",
       "  </thead>\n",
       "  <tbody>\n",
       "    <tr>\n",
       "      <th>0</th>\n",
       "      <td>[  5   4   3  37  14 182  25  18  30  24]</td>\n",
       "      <td>4</td>\n",
       "    </tr>\n",
       "    <tr>\n",
       "      <th>1</th>\n",
       "      <td>[ 4  3  5 15 31 53 16  8 13 34]</td>\n",
       "      <td>4</td>\n",
       "    </tr>\n",
       "    <tr>\n",
       "      <th>2</th>\n",
       "      <td>[ 3  5  7  4  9 12  8 21 28 11]</td>\n",
       "      <td>3</td>\n",
       "    </tr>\n",
       "    <tr>\n",
       "      <th>3</th>\n",
       "      <td>[ 3  4  5  8  7  9 11  6 12 21]</td>\n",
       "      <td>252</td>\n",
       "    </tr>\n",
       "    <tr>\n",
       "      <th>4</th>\n",
       "      <td>[ 4  3  5  8 16 13 11 14 15 31]</td>\n",
       "      <td>7</td>\n",
       "    </tr>\n",
       "  </tbody>\n",
       "</table>\n",
       "</div>"
      ],
      "text/plain": [
       "                                     predict  label\n",
       "0  [  5   4   3  37  14 182  25  18  30  24]      4\n",
       "1            [ 4  3  5 15 31 53 16  8 13 34]      4\n",
       "2            [ 3  5  7  4  9 12  8 21 28 11]      3\n",
       "3            [ 3  4  5  8  7  9 11  6 12 21]    252\n",
       "4            [ 4  3  5  8 16 13 11 14 15 31]      7"
      ]
     },
     "execution_count": 47,
     "metadata": {},
     "output_type": "execute_result"
    }
   ],
   "source": [
    "df_predict_cudf.head()"
   ]
  },
  {
   "cell_type": "code",
   "execution_count": 48,
   "id": "25e581ac-9a30-4516-9104-ce3b036b3036",
   "metadata": {
    "tags": []
   },
   "outputs": [],
   "source": [
    "procesed_cudf = procesed_df.compute()"
   ]
  },
  {
   "cell_type": "code",
   "execution_count": 49,
   "id": "ca65385f",
   "metadata": {
    "scrolled": true,
    "tags": []
   },
   "outputs": [],
   "source": [
    "combined_df = cudf.concat([df_predict_cudf, procesed_cudf], axis=1)\n"
   ]
  },
  {
   "cell_type": "code",
   "execution_count": 50,
   "id": "bda96a0b",
   "metadata": {
    "tags": []
   },
   "outputs": [
    {
     "data": {
      "text/html": [
       "<div>\n",
       "<style scoped>\n",
       "    .dataframe tbody tr th:only-of-type {\n",
       "        vertical-align: middle;\n",
       "    }\n",
       "\n",
       "    .dataframe tbody tr th {\n",
       "        vertical-align: top;\n",
       "    }\n",
       "\n",
       "    .dataframe thead th {\n",
       "        text-align: right;\n",
       "    }\n",
       "</style>\n",
       "<table border=\"1\" class=\"dataframe\">\n",
       "  <thead>\n",
       "    <tr style=\"text-align: right;\">\n",
       "      <th></th>\n",
       "      <th>predict</th>\n",
       "      <th>label</th>\n",
       "      <th>recipient</th>\n",
       "      <th>buyAsset-list</th>\n",
       "    </tr>\n",
       "  </thead>\n",
       "  <tbody>\n",
       "    <tr>\n",
       "      <th>0</th>\n",
       "      <td>[  5   4   3  37  14 182  25  18  30  24]</td>\n",
       "      <td>4</td>\n",
       "      <td>0x000000000004d7463d0f9c77383600bc82d612f5</td>\n",
       "      <td>[1476, 1017, 714, 503, 1414, 540, 24, 57, 388,...</td>\n",
       "    </tr>\n",
       "    <tr>\n",
       "      <th>1</th>\n",
       "      <td>[ 4  3  5 15 31 53 16  8 13 34]</td>\n",
       "      <td>4</td>\n",
       "      <td>0x000000000008e4db6a6194c6957df47e30970dc2</td>\n",
       "      <td>[4, 5, 113, 4, 5, 4, 3, 4, 5, 4, 2, 4]</td>\n",
       "    </tr>\n",
       "    <tr>\n",
       "      <th>2</th>\n",
       "      <td>[ 3  5  7  4  9 12  8 21 28 11]</td>\n",
       "      <td>3</td>\n",
       "      <td>0x00000000005dbcb0d0513fcda746382fe8a53468</td>\n",
       "      <td>[7, 3]</td>\n",
       "    </tr>\n",
       "    <tr>\n",
       "      <th>3</th>\n",
       "      <td>[ 3  4  5  8  7  9 11  6 12 21]</td>\n",
       "      <td>252</td>\n",
       "      <td>0x000000000088e0120f9e6652cc058aec07564f69</td>\n",
       "      <td>[3, 252]</td>\n",
       "    </tr>\n",
       "    <tr>\n",
       "      <th>4</th>\n",
       "      <td>[ 4  3  5  8 16 13 11 14 15 31]</td>\n",
       "      <td>7</td>\n",
       "      <td>0x0000000000e002b4e3009de1c7614ae5e1facf7a</td>\n",
       "      <td>[4, 7]</td>\n",
       "    </tr>\n",
       "    <tr>\n",
       "      <th>5</th>\n",
       "      <td>[ 3  4  5  7  8 11 10  9 12 14]</td>\n",
       "      <td>3</td>\n",
       "      <td>0x0000000002ce79aacd54227d2163ff3791338975</td>\n",
       "      <td>[8, 48, 3]</td>\n",
       "    </tr>\n",
       "    <tr>\n",
       "      <th>6</th>\n",
       "      <td>[ 3  5  4 25  6 21 80  7 74 23]</td>\n",
       "      <td>1270</td>\n",
       "      <td>0x000000000e3952882af02e7db0f3157bac7c6b51</td>\n",
       "      <td>[81, 1208, 5, 1270]</td>\n",
       "    </tr>\n",
       "    <tr>\n",
       "      <th>7</th>\n",
       "      <td>[ 3  5  4 18  7 32 24 47 69 12]</td>\n",
       "      <td>66</td>\n",
       "      <td>0x000000000ecef000e9d22b7e0eb78ef2a8e698d5</td>\n",
       "      <td>[325, 50, 325, 66]</td>\n",
       "    </tr>\n",
       "    <tr>\n",
       "      <th>8</th>\n",
       "      <td>[ 3  5  4 11  8  9 25 23  6 10]</td>\n",
       "      <td>5</td>\n",
       "      <td>0x0000000050da40b5728bfd0dabc2956fcb3b044f</td>\n",
       "      <td>[83, 5]</td>\n",
       "    </tr>\n",
       "    <tr>\n",
       "      <th>9</th>\n",
       "      <td>[ 4 15  3  5 68 26 46 16  8  6]</td>\n",
       "      <td>1108</td>\n",
       "      <td>0x000000009343fc9c6199b541386d74921f00ef8d</td>\n",
       "      <td>[165, 4, 41, 1108]</td>\n",
       "    </tr>\n",
       "    <tr>\n",
       "      <th>10</th>\n",
       "      <td>[ 3  5  4  7 10  8 12  9 14 28]</td>\n",
       "      <td>3</td>\n",
       "      <td>0x00000000cc0b822819f03424dacf9077fdaa58a3</td>\n",
       "      <td>[3, 28, 3, 30, 28, 8, 3, 28, 3, 28, 30, 4, 30,...</td>\n",
       "    </tr>\n",
       "    <tr>\n",
       "      <th>11</th>\n",
       "      <td>[ 3  5  4 18 15 14 24 10  8 45]</td>\n",
       "      <td>688</td>\n",
       "      <td>0x00000000e8334445e02d819eafd75addf2133a5f</td>\n",
       "      <td>[3, 49, 688, 3, 374, 49, 374, 688]</td>\n",
       "    </tr>\n",
       "    <tr>\n",
       "      <th>12</th>\n",
       "      <td>[ 3  5  7  4 12  9  8 21 28 11]</td>\n",
       "      <td>3</td>\n",
       "      <td>0x00000004022d00180fde0b21011358384afd34c9</td>\n",
       "      <td>[7, 3]</td>\n",
       "    </tr>\n",
       "    <tr>\n",
       "      <th>13</th>\n",
       "      <td>[ 3  5  4  7 18 14 10 12  8 21]</td>\n",
       "      <td>4</td>\n",
       "      <td>0x0000000506063a51c6ce59906d8c40f7d7fe92a7</td>\n",
       "      <td>[35, 4]</td>\n",
       "    </tr>\n",
       "    <tr>\n",
       "      <th>14</th>\n",
       "      <td>[ 4  3  5 15 18 14 24 46  8 89]</td>\n",
       "      <td>4</td>\n",
       "      <td>0x0000000fe26a75c52d6f021ea4403a11fc6fb5c3</td>\n",
       "      <td>[4, 2, 4]</td>\n",
       "    </tr>\n",
       "    <tr>\n",
       "      <th>15</th>\n",
       "      <td>[ 3  5  4  7  9  8 11 12 21  6]</td>\n",
       "      <td>186</td>\n",
       "      <td>0x0000002b90156c77711bebda6b4e29dd3fdd7776</td>\n",
       "      <td>[21, 186]</td>\n",
       "    </tr>\n",
       "    <tr>\n",
       "      <th>16</th>\n",
       "      <td>[ 3  7  5 12 21  4 28 32  9 48]</td>\n",
       "      <td>81</td>\n",
       "      <td>0x00000058baccda12cf345edc9d99613cf1312b91</td>\n",
       "      <td>[3, 81, 3, 81, 3, 81, 3, 81, 3, 81, 3, 81, 3, ...</td>\n",
       "    </tr>\n",
       "    <tr>\n",
       "      <th>17</th>\n",
       "      <td>[ 4  3  5  8 11  7  9 14 10  6]</td>\n",
       "      <td>57</td>\n",
       "      <td>0x000000ef262dc65c155ac2833851a9c84d0a4d2e</td>\n",
       "      <td>[5, 57]</td>\n",
       "    </tr>\n",
       "    <tr>\n",
       "      <th>18</th>\n",
       "      <td>[ 3  5  4  7  6 21  9 18  8 25]</td>\n",
       "      <td>3</td>\n",
       "      <td>0x000000fe532a821196a4664208ae7b61513b243e</td>\n",
       "      <td>[3, 5, 3, 542, 3]</td>\n",
       "    </tr>\n",
       "    <tr>\n",
       "      <th>19</th>\n",
       "      <td>[ 3  5  4 18  7 24 69 59 54 45]</td>\n",
       "      <td>3</td>\n",
       "      <td>0x0000089f71d95e93a139bf6535ce49a03c2b8383</td>\n",
       "      <td>[3, 24, 111, 3, 7, 3]</td>\n",
       "    </tr>\n",
       "  </tbody>\n",
       "</table>\n",
       "</div>"
      ],
      "text/plain": [
       "                                      predict  label  \\\n",
       "0   [  5   4   3  37  14 182  25  18  30  24]      4   \n",
       "1             [ 4  3  5 15 31 53 16  8 13 34]      4   \n",
       "2             [ 3  5  7  4  9 12  8 21 28 11]      3   \n",
       "3             [ 3  4  5  8  7  9 11  6 12 21]    252   \n",
       "4             [ 4  3  5  8 16 13 11 14 15 31]      7   \n",
       "5             [ 3  4  5  7  8 11 10  9 12 14]      3   \n",
       "6             [ 3  5  4 25  6 21 80  7 74 23]   1270   \n",
       "7             [ 3  5  4 18  7 32 24 47 69 12]     66   \n",
       "8             [ 3  5  4 11  8  9 25 23  6 10]      5   \n",
       "9             [ 4 15  3  5 68 26 46 16  8  6]   1108   \n",
       "10            [ 3  5  4  7 10  8 12  9 14 28]      3   \n",
       "11            [ 3  5  4 18 15 14 24 10  8 45]    688   \n",
       "12            [ 3  5  7  4 12  9  8 21 28 11]      3   \n",
       "13            [ 3  5  4  7 18 14 10 12  8 21]      4   \n",
       "14            [ 4  3  5 15 18 14 24 46  8 89]      4   \n",
       "15            [ 3  5  4  7  9  8 11 12 21  6]    186   \n",
       "16            [ 3  7  5 12 21  4 28 32  9 48]     81   \n",
       "17            [ 4  3  5  8 11  7  9 14 10  6]     57   \n",
       "18            [ 3  5  4  7  6 21  9 18  8 25]      3   \n",
       "19            [ 3  5  4 18  7 24 69 59 54 45]      3   \n",
       "\n",
       "                                     recipient  \\\n",
       "0   0x000000000004d7463d0f9c77383600bc82d612f5   \n",
       "1   0x000000000008e4db6a6194c6957df47e30970dc2   \n",
       "2   0x00000000005dbcb0d0513fcda746382fe8a53468   \n",
       "3   0x000000000088e0120f9e6652cc058aec07564f69   \n",
       "4   0x0000000000e002b4e3009de1c7614ae5e1facf7a   \n",
       "5   0x0000000002ce79aacd54227d2163ff3791338975   \n",
       "6   0x000000000e3952882af02e7db0f3157bac7c6b51   \n",
       "7   0x000000000ecef000e9d22b7e0eb78ef2a8e698d5   \n",
       "8   0x0000000050da40b5728bfd0dabc2956fcb3b044f   \n",
       "9   0x000000009343fc9c6199b541386d74921f00ef8d   \n",
       "10  0x00000000cc0b822819f03424dacf9077fdaa58a3   \n",
       "11  0x00000000e8334445e02d819eafd75addf2133a5f   \n",
       "12  0x00000004022d00180fde0b21011358384afd34c9   \n",
       "13  0x0000000506063a51c6ce59906d8c40f7d7fe92a7   \n",
       "14  0x0000000fe26a75c52d6f021ea4403a11fc6fb5c3   \n",
       "15  0x0000002b90156c77711bebda6b4e29dd3fdd7776   \n",
       "16  0x00000058baccda12cf345edc9d99613cf1312b91   \n",
       "17  0x000000ef262dc65c155ac2833851a9c84d0a4d2e   \n",
       "18  0x000000fe532a821196a4664208ae7b61513b243e   \n",
       "19  0x0000089f71d95e93a139bf6535ce49a03c2b8383   \n",
       "\n",
       "                                        buyAsset-list  \n",
       "0   [1476, 1017, 714, 503, 1414, 540, 24, 57, 388,...  \n",
       "1              [4, 5, 113, 4, 5, 4, 3, 4, 5, 4, 2, 4]  \n",
       "2                                              [7, 3]  \n",
       "3                                            [3, 252]  \n",
       "4                                              [4, 7]  \n",
       "5                                          [8, 48, 3]  \n",
       "6                                 [81, 1208, 5, 1270]  \n",
       "7                                  [325, 50, 325, 66]  \n",
       "8                                             [83, 5]  \n",
       "9                                  [165, 4, 41, 1108]  \n",
       "10  [3, 28, 3, 30, 28, 8, 3, 28, 3, 28, 30, 4, 30,...  \n",
       "11                 [3, 49, 688, 3, 374, 49, 374, 688]  \n",
       "12                                             [7, 3]  \n",
       "13                                            [35, 4]  \n",
       "14                                          [4, 2, 4]  \n",
       "15                                          [21, 186]  \n",
       "16  [3, 81, 3, 81, 3, 81, 3, 81, 3, 81, 3, 81, 3, ...  \n",
       "17                                            [5, 57]  \n",
       "18                                  [3, 5, 3, 542, 3]  \n",
       "19                              [3, 24, 111, 3, 7, 3]  "
      ]
     },
     "execution_count": 50,
     "metadata": {},
     "output_type": "execute_result"
    }
   ],
   "source": [
    "combined_df.head(20)"
   ]
  },
  {
   "cell_type": "code",
   "execution_count": 51,
   "id": "5ff512c7-6738-45fc-9e91-a3271024735f",
   "metadata": {
    "tags": []
   },
   "outputs": [],
   "source": [
    "combined_df.to_parquet(f'./data/predicttop{K}.parquet')\n"
   ]
  },
  {
   "cell_type": "code",
   "execution_count": null,
   "id": "3be1a2e2-0eb0-4593-b4cc-2f5913d865c2",
   "metadata": {},
   "outputs": [],
   "source": []
  }
 ],
 "metadata": {
  "kernelspec": {
   "display_name": "conda_transformers4rec-23.04",
   "language": "python",
   "name": "conda_transformers4rec-23.04"
  },
  "language_info": {
   "codemirror_mode": {
    "name": "ipython",
    "version": 3
   },
   "file_extension": ".py",
   "mimetype": "text/x-python",
   "name": "python",
   "nbconvert_exporter": "python",
   "pygments_lexer": "ipython3",
   "version": "3.10.13"
  }
 },
 "nbformat": 4,
 "nbformat_minor": 5
}
