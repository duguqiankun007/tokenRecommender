{
 "cells": [
  {
   "cell_type": "code",
   "execution_count": 1,
   "id": "2cb9b511-b357-4301-a818-dd6d3ffaf232",
   "metadata": {
    "tags": []
   },
   "outputs": [
    {
     "name": "stdout",
     "output_type": "stream",
     "text": [
      "sagemaker.config INFO - Not applying SDK defaults from location: /etc/xdg/sagemaker/config.yaml\n",
      "sagemaker.config INFO - Not applying SDK defaults from location: /home/ec2-user/.config/sagemaker/config.yaml\n",
      "sagemaker.config INFO - Not applying SDK defaults from location: /etc/xdg/sagemaker/config.yaml\n",
      "sagemaker.config INFO - Not applying SDK defaults from location: /home/ec2-user/.config/sagemaker/config.yaml\n"
     ]
    },
    {
     "name": "stderr",
     "output_type": "stream",
     "text": [
      "Setting default log level to \"WARN\".\n",
      "To adjust logging level use sc.setLogLevel(newLevel). For SparkR, use setLogLevel(newLevel).\n"
     ]
    },
    {
     "name": "stdout",
     "output_type": "stream",
     "text": [
      "23/11/09 05:30:54 WARN NativeCodeLoader: Unable to load native-hadoop library for your platform... using builtin-java classes where applicable\n"
     ]
    },
    {
     "data": {
      "text/html": [
       "\n",
       "            <div>\n",
       "                <p><b>SparkSession - in-memory</b></p>\n",
       "                \n",
       "        <div>\n",
       "            <p><b>SparkContext</b></p>\n",
       "\n",
       "            <p><a href=\"http://ip-172-16-111-241.ec2.internal:4040\">Spark UI</a></p>\n",
       "\n",
       "            <dl>\n",
       "              <dt>Version</dt>\n",
       "                <dd><code>v3.3.0</code></dd>\n",
       "              <dt>Master</dt>\n",
       "                <dd><code>local[*]</code></dd>\n",
       "              <dt>AppName</dt>\n",
       "                <dd><code>pyspark-shell</code></dd>\n",
       "            </dl>\n",
       "        </div>\n",
       "        \n",
       "            </div>\n",
       "        "
      ],
      "text/plain": [
       "<pyspark.sql.session.SparkSession at 0x7fb9ceb09cf0>"
      ]
     },
     "execution_count": 1,
     "metadata": {},
     "output_type": "execute_result"
    }
   ],
   "source": [
    "import os\n",
    "import boto3\n",
    "\n",
    "from pyspark import SparkContext, SparkConf\n",
    "from pyspark.sql import SparkSession\n",
    "\n",
    "import sagemaker\n",
    "from sagemaker import get_execution_role\n",
    "import sagemaker_pyspark\n",
    "\n",
    "role = get_execution_role()\n",
    "\n",
    "# Configure Spark to use the SageMaker Spark dependency jars\n",
    "jars = sagemaker_pyspark.classpath_jars()\n",
    "\n",
    "classpath = \":\".join(sagemaker_pyspark.classpath_jars())\n",
    "\n",
    "# See the SageMaker Spark Github to learn how to connect to EMR from a notebook instance\n",
    "spark = (\n",
    "    SparkSession.builder.config(\"spark.driver.extraClassPath\", classpath)\n",
    "    .master(\"local[*]\")\n",
    "    .getOrCreate()\n",
    ")\n",
    "\n",
    "spark"
   ]
  },
  {
   "cell_type": "code",
   "execution_count": 1,
   "id": "6704d2ef-9c5e-4d4c-8a17-cd5b50748883",
   "metadata": {
    "tags": []
   },
   "outputs": [],
   "source": [
    "from pyspark.sql.functions import udf, from_unixtime, year, weekofyear, row_number\n",
    "from pyspark.sql.functions import hour, minute, countDistinct, col, sum, count, to_date, concat, lit, when,round\n",
    "from pyspark.sql.window import Window\n",
    "\n",
    "from pyspark.sql.types import DoubleType"
   ]
  },
  {
   "cell_type": "code",
   "execution_count": 2,
   "id": "9708fc45-5c9a-41f2-aa3e-f6c3c9a116c7",
   "metadata": {
    "tags": []
   },
   "outputs": [
    {
     "ename": "NameError",
     "evalue": "name 'spark' is not defined",
     "output_type": "error",
     "traceback": [
      "\u001b[0;31m---------------------------------------------------------------------------\u001b[0m",
      "\u001b[0;31mNameError\u001b[0m                                 Traceback (most recent call last)",
      "Cell \u001b[0;32mIn[2], line 2\u001b[0m\n\u001b[1;32m      1\u001b[0m \u001b[38;5;66;03m# df = spark.read.parquet(\"s3://zarklab-hive-test/buy-sell-updated\")\u001b[39;00m\n\u001b[0;32m----> 2\u001b[0m data_raw \u001b[38;5;241m=\u001b[39m \u001b[43mspark\u001b[49m\u001b[38;5;241m.\u001b[39mread\u001b[38;5;241m.\u001b[39mparquet(\u001b[38;5;124m'\u001b[39m\u001b[38;5;124ms3a://zarklab-hive-test/buy-sell-updated/pt_d=202202*/*\u001b[39m\u001b[38;5;124m'\u001b[39m)\n",
      "\u001b[0;31mNameError\u001b[0m: name 'spark' is not defined"
     ]
    }
   ],
   "source": [
    "# df = spark.read.parquet(\"s3://zarklab-hive-test/buy-sell-updated\")\n",
    "data_raw = spark.read.parquet('s3a://zarklab-hive-test/buy-sell-updated/pt_d=202202*/*')\n"
   ]
  },
  {
   "cell_type": "code",
   "execution_count": 7,
   "id": "d2a919a9-f6f0-4626-9f91-c8f36973bf9e",
   "metadata": {
    "tags": []
   },
   "outputs": [
    {
     "name": "stdout",
     "output_type": "stream",
     "text": [
      "+-------+----------+-----------+----------------+--------------------+--------------------+--------------------+--------------------+--------------------+------------+--------------------+--------------------+--------------------+------------------+--------------------+--------------------+--------------------+------------------+\n",
      "|chainId| timestamp|blockNumber|transactionIndex|     transactionHash|               buyer|           recipient|           txFee_eth|     exchangeAddress|exchangeName|            buyAsset|              buyQty|             buyQty1|          buyPrice|           sellAsset|             sellQty|            sellQty1|         sellPrice|\n",
      "+-------+----------+-----------+----------------+--------------------+--------------------+--------------------+--------------------+--------------------+------------+--------------------+--------------------+--------------------+------------------+--------------------+--------------------+--------------------+------------------+\n",
      "|    0x1|1644411457|   14172028|             202|0xb7549a0b3dcc2d2...|0xd5f20543784f105...|0xd5f20543784f105...| 0.01026891574870283|0x68b3465833fb72a...|  Uniswap V3|0x000000000000000...|[99 22 56 E7 DC 7...|  0.3657743824746011|1162.8619784799514|0x2af1df3ab0ab157...|[7B 08 57 86 E4 3...|   9.949364053507246| 1164.804703691715|\n",
      "|    0x1|1644382371|   14169828|              90|0xe3f7ca69e3965cc...|0x73f761af1e83bf5...|0x73f761af1e83bf5...|0.018718289361991356|0x68b3465833fb72a...|  Uniswap V3|0x74edaf28fc4b9e6...|[A6 73 67 E7 BD 0...|2.077444376595765...|141.77016194281217|0x000000000000000...|[00 00 C5 2E BC A...|                0.05|154.46955074959806|\n",
      "|    0x1|1644427655|   14173213|              77|0xbe9a660f0fd0323...|0x32b466947abbda8...|0x32b466947abbda8...|0.011949448357737216|0xd9e1ce17f2641f2...|   SushiSwap|0xc02aaa39b223fe8...|[00 00 64 A7 B3 B...|                 1.0|   3209.1297375821|0x7f280dac515121d...|[0C 91 7E 2F ED F...|   3621.465481333654|3217.6057956234304|\n",
      "|    0x1|1644371711|   14169016|             180|0x7e269e9fcb63fce...|0x9397008382f8c69...|0x9397008382f8c69...|0.008915766297347447|0x68b3465833fb72a...|  Uniswap V3|0x16756ec1deb89a2...|[58 05 C1 33 BE 6...|  121532.57015931424| 4651.701271582571|0x000000000000000...|[00 00 16 7B 0D 1...|                 1.5|4663.1476269632785|\n",
      "|    0x1|1644421478|   14172772|             184|0xb9fba3853848e21...|0xcad1f42d720fa16...|0xcad1f42d720fa16...| 0.02433959936234635|0x68b3465833fb72a...|  Uniswap V3|0x000000000000000...|[77 8C 06 06 71 0...|  1.3085875477648865|  4155.14657456207|0x6adb2e268de2aa1...|[E2 36 A9 A4 1B 4...|6.847155797165578...| 4159.328710707286|\n",
      "+-------+----------+-----------+----------------+--------------------+--------------------+--------------------+--------------------+--------------------+------------+--------------------+--------------------+--------------------+------------------+--------------------+--------------------+--------------------+------------------+\n",
      "only showing top 5 rows\n",
      "\n"
     ]
    }
   ],
   "source": [
    "data_raw.show(5)"
   ]
  },
  {
   "cell_type": "code",
   "execution_count": 8,
   "id": "00b98166-cc21-4188-9deb-abe6728aec95",
   "metadata": {
    "tags": []
   },
   "outputs": [],
   "source": [
    "# side = spark.read.option(\"header\",True).csv(\"token_recommender_v11.csv\")"
   ]
  },
  {
   "cell_type": "code",
   "execution_count": 9,
   "id": "4742dcd4-27fa-464b-b302-7ea707cd180f",
   "metadata": {
    "tags": []
   },
   "outputs": [],
   "source": [
    "# side.show(3)"
   ]
  },
  {
   "cell_type": "code",
   "execution_count": 14,
   "id": "2e50d362-f720-414f-ad47-1c1a63f5aef4",
   "metadata": {
    "tags": []
   },
   "outputs": [
    {
     "data": {
      "text/plain": [
       "['chainId',\n",
       " 'timestamp',\n",
       " 'blockNumber',\n",
       " 'transactionIndex',\n",
       " 'transactionHash',\n",
       " 'buyer',\n",
       " 'recipient',\n",
       " 'txFee_eth',\n",
       " 'exchangeAddress',\n",
       " 'exchangeName',\n",
       " 'buyAsset',\n",
       " 'buyQty',\n",
       " 'buyQty1',\n",
       " 'buyPrice',\n",
       " 'sellAsset',\n",
       " 'sellQty',\n",
       " 'sellQty1',\n",
       " 'sellPrice']"
      ]
     },
     "execution_count": 14,
     "metadata": {},
     "output_type": "execute_result"
    }
   ],
   "source": [
    "data_raw.columns"
   ]
  },
  {
   "cell_type": "code",
   "execution_count": 15,
   "id": "e2ae8630-baaf-47ab-87c2-e0c81b97975a",
   "metadata": {
    "tags": []
   },
   "outputs": [],
   "source": [
    "data = data_raw.select(['timestamp','recipient','txFee_eth','buyAsset','buyQty1','buyPrice'])"
   ]
  },
  {
   "cell_type": "code",
   "execution_count": 16,
   "id": "9309e9d8-d367-4922-9825-9de8b486571d",
   "metadata": {
    "tags": []
   },
   "outputs": [
    {
     "name": "stderr",
     "output_type": "stream",
     "text": [
      "[Stage 12:>                                                         (0 + 1) / 1]\r"
     ]
    },
    {
     "name": "stdout",
     "output_type": "stream",
     "text": [
      "+----------+--------------------+--------------------+--------------------+--------------------+------------------+\n",
      "| timestamp|           recipient|           txFee_eth|            buyAsset|             buyQty1|          buyPrice|\n",
      "+----------+--------------------+--------------------+--------------------+--------------------+------------------+\n",
      "|1644411457|0xd5f20543784f105...| 0.01026891574870283|0x000000000000000...|  0.3657743824746011|1162.8619784799514|\n",
      "|1644382371|0x73f761af1e83bf5...|0.018718289361991356|0x74edaf28fc4b9e6...|2.077444376595765...|141.77016194281217|\n",
      "|1644427655|0x32b466947abbda8...|0.011949448357737216|0xc02aaa39b223fe8...|                 1.0|   3209.1297375821|\n",
      "|1644371711|0x9397008382f8c69...|0.008915766297347447|0x16756ec1deb89a2...|  121532.57015931424| 4651.701271582571|\n",
      "|1644421478|0xcad1f42d720fa16...| 0.02433959936234635|0x000000000000000...|  1.3085875477648865|  4155.14657456207|\n",
      "+----------+--------------------+--------------------+--------------------+--------------------+------------------+\n",
      "only showing top 5 rows\n",
      "\n"
     ]
    },
    {
     "name": "stderr",
     "output_type": "stream",
     "text": [
      "                                                                                \r"
     ]
    }
   ],
   "source": [
    "data.show(5)"
   ]
  },
  {
   "cell_type": "code",
   "execution_count": 19,
   "id": "72acf935-5dc0-4923-b1ca-70e783d59126",
   "metadata": {
    "tags": []
   },
   "outputs": [],
   "source": [
    "data_ = data.withColumn(\"timestamp\", from_unixtime(col(\"timestamp\")))\n"
   ]
  },
  {
   "cell_type": "code",
   "execution_count": 20,
   "id": "1341f347-c080-4f28-8db3-71e54ae67ce6",
   "metadata": {
    "tags": []
   },
   "outputs": [
    {
     "name": "stdout",
     "output_type": "stream",
     "text": [
      "+-------------------+--------------------+--------------------+--------------------+--------------------+------------------+\n",
      "|          timestamp|           recipient|           txFee_eth|            buyAsset|             buyQty1|          buyPrice|\n",
      "+-------------------+--------------------+--------------------+--------------------+--------------------+------------------+\n",
      "|2022-02-09 12:57:37|0xd5f20543784f105...| 0.01026891574870283|0x000000000000000...|  0.3657743824746011|1162.8619784799514|\n",
      "|2022-02-09 04:52:51|0x73f761af1e83bf5...|0.018718289361991356|0x74edaf28fc4b9e6...|2.077444376595765...|141.77016194281217|\n",
      "|2022-02-09 17:27:35|0x32b466947abbda8...|0.011949448357737216|0xc02aaa39b223fe8...|                 1.0|   3209.1297375821|\n",
      "|2022-02-09 01:55:11|0x9397008382f8c69...|0.008915766297347447|0x16756ec1deb89a2...|  121532.57015931424| 4651.701271582571|\n",
      "|2022-02-09 15:44:38|0xcad1f42d720fa16...| 0.02433959936234635|0x000000000000000...|  1.3085875477648865|  4155.14657456207|\n",
      "+-------------------+--------------------+--------------------+--------------------+--------------------+------------------+\n",
      "only showing top 5 rows\n",
      "\n"
     ]
    },
    {
     "name": "stderr",
     "output_type": "stream",
     "text": [
      "                                                                                \r"
     ]
    }
   ],
   "source": [
    "data_.show(5)"
   ]
  },
  {
   "cell_type": "code",
   "execution_count": 21,
   "id": "ee6bffc8-1bbe-4e8f-b7c5-e847632d2011",
   "metadata": {
    "tags": []
   },
   "outputs": [],
   "source": [
    "data_dropped = data_.na.drop()"
   ]
  },
  {
   "cell_type": "code",
   "execution_count": 22,
   "id": "d1e7dc00-9587-4689-9bec-013eaf74cc8d",
   "metadata": {
    "tags": []
   },
   "outputs": [
    {
     "name": "stderr",
     "output_type": "stream",
     "text": [
      "                                                                                \r"
     ]
    },
    {
     "data": {
      "text/plain": [
       "1352297"
      ]
     },
     "execution_count": 22,
     "metadata": {},
     "output_type": "execute_result"
    }
   ],
   "source": [
    "data_dropped.count()"
   ]
  },
  {
   "cell_type": "code",
   "execution_count": 23,
   "id": "bd58c5e8-aab6-4bc4-9f6b-e400aea6f620",
   "metadata": {
    "tags": []
   },
   "outputs": [
    {
     "name": "stdout",
     "output_type": "stream",
     "text": [
      "root\n",
      " |-- timestamp: string (nullable = true)\n",
      " |-- recipient: string (nullable = true)\n",
      " |-- txFee_eth: double (nullable = true)\n",
      " |-- buyAsset: string (nullable = true)\n",
      " |-- buyQty1: string (nullable = true)\n",
      " |-- buyPrice: string (nullable = true)\n",
      "\n"
     ]
    }
   ],
   "source": [
    "data_dropped.printSchema()"
   ]
  },
  {
   "cell_type": "code",
   "execution_count": 24,
   "id": "f0c842d7-05ab-40dc-bcfd-b201ed4dfe7a",
   "metadata": {
    "tags": []
   },
   "outputs": [],
   "source": [
    "data_dropped = data_dropped.withColumn(\"buyQty1\",round(data_dropped.buyQty1.cast(DoubleType()),2))\n",
    "data_dropped = data_dropped.withColumn(\"buyPrice\",round(data_dropped.buyPrice.cast(DoubleType()),2))\n"
   ]
  },
  {
   "cell_type": "code",
   "execution_count": 25,
   "id": "a99fbfc7-30ec-40a6-8400-e773f9643ea6",
   "metadata": {
    "tags": []
   },
   "outputs": [
    {
     "name": "stderr",
     "output_type": "stream",
     "text": [
      "                                                                                \r"
     ]
    }
   ],
   "source": [
    "data_dropped.write.mode(\"overwrite\").parquet(f\"s3a://zarklab-hive-test/buy-sell-updated-202202/\")\n"
   ]
  },
  {
   "cell_type": "code",
   "execution_count": 11,
   "id": "1cbd4427-be45-4f25-b6e9-bcc08a0cbc33",
   "metadata": {
    "tags": []
   },
   "outputs": [
    {
     "name": "stderr",
     "output_type": "stream",
     "text": [
      "                                                                                \r"
     ]
    },
    {
     "data": {
      "text/plain": [
       "415953"
      ]
     },
     "execution_count": 11,
     "metadata": {},
     "output_type": "execute_result"
    }
   ],
   "source": [
    "data_.select(\"recipient\").distinct().count()"
   ]
  },
  {
   "cell_type": "code",
   "execution_count": 12,
   "id": "94a95520-6bbb-4e10-82d2-d50b378e1875",
   "metadata": {
    "tags": []
   },
   "outputs": [
    {
     "name": "stderr",
     "output_type": "stream",
     "text": [
      "                                                                                \r"
     ]
    },
    {
     "data": {
      "text/plain": [
       "4823"
      ]
     },
     "execution_count": 12,
     "metadata": {},
     "output_type": "execute_result"
    }
   ],
   "source": [
    "data_.select(\"buyAsset\").distinct().count()"
   ]
  },
  {
   "cell_type": "markdown",
   "id": "da63f611-fb52-4a89-be95-df329da36469",
   "metadata": {},
   "source": [
    "# filter out unseen tokens"
   ]
  },
  {
   "cell_type": "code",
   "execution_count": 26,
   "id": "d89605ca-eeb0-496d-a801-4a51eb916895",
   "metadata": {
    "tags": []
   },
   "outputs": [],
   "source": [
    "train_data  = spark.read.parquet(f\"s3a://zarklab-hive-test/buy-sell-updated-202201/\")\n"
   ]
  },
  {
   "cell_type": "code",
   "execution_count": 27,
   "id": "1d90118d-a047-4d67-91a5-bf71942dcba3",
   "metadata": {
    "tags": []
   },
   "outputs": [],
   "source": [
    "train_tokens = train_data.select(\"buyAsset\").distinct()"
   ]
  },
  {
   "cell_type": "code",
   "execution_count": 28,
   "id": "4d0f1fe8-43f3-4ff1-9fd6-3b3db50587d0",
   "metadata": {
    "tags": []
   },
   "outputs": [
    {
     "name": "stderr",
     "output_type": "stream",
     "text": [
      "                                                                                \r"
     ]
    },
    {
     "data": {
      "text/plain": [
       "4688"
      ]
     },
     "execution_count": 28,
     "metadata": {},
     "output_type": "execute_result"
    }
   ],
   "source": [
    "train_tokens.count()"
   ]
  },
  {
   "cell_type": "code",
   "execution_count": 29,
   "id": "692c8edf-6c40-4a46-a4cb-79d3d7a515a7",
   "metadata": {
    "tags": []
   },
   "outputs": [],
   "source": [
    "eva_data  = spark.read.parquet(f\"s3a://zarklab-hive-test/buy-sell-updated-202202/\")\n"
   ]
  },
  {
   "cell_type": "code",
   "execution_count": 30,
   "id": "750f1367-61df-49ce-b829-ce52cfd4b916",
   "metadata": {
    "tags": []
   },
   "outputs": [],
   "source": [
    "eval_tokens = eva_data.select(\"buyAsset\").distinct()"
   ]
  },
  {
   "cell_type": "code",
   "execution_count": 31,
   "id": "91355888-6ae9-43cb-b0d5-a1e4dbf50e94",
   "metadata": {
    "tags": []
   },
   "outputs": [
    {
     "name": "stderr",
     "output_type": "stream",
     "text": [
      "                                                                                \r"
     ]
    },
    {
     "data": {
      "text/plain": [
       "5410"
      ]
     },
     "execution_count": 31,
     "metadata": {},
     "output_type": "execute_result"
    }
   ],
   "source": [
    "eval_tokens.count()"
   ]
  },
  {
   "cell_type": "code",
   "execution_count": 36,
   "id": "41b1fe78-1845-4085-8e08-b773189453a3",
   "metadata": {
    "tags": []
   },
   "outputs": [],
   "source": [
    "eva_data_filter = eva_data.join(train_tokens, on=\"buyAsset\", how=\"inner\")\n"
   ]
  },
  {
   "cell_type": "code",
   "execution_count": 37,
   "id": "f958340b-96a6-4ad9-87c6-9c636cb02c20",
   "metadata": {
    "tags": []
   },
   "outputs": [
    {
     "name": "stderr",
     "output_type": "stream",
     "text": [
      "                                                                                \r"
     ]
    },
    {
     "data": {
      "text/plain": [
       "2787"
      ]
     },
     "execution_count": 37,
     "metadata": {},
     "output_type": "execute_result"
    }
   ],
   "source": [
    "eva_data_filter.select(\"buyAsset\").distinct().count()"
   ]
  },
  {
   "cell_type": "code",
   "execution_count": 38,
   "id": "d7cff172-4e8e-48be-922a-afb330351cf1",
   "metadata": {
    "tags": []
   },
   "outputs": [
    {
     "name": "stderr",
     "output_type": "stream",
     "text": [
      "                                                                                \r"
     ]
    }
   ],
   "source": [
    "eva_data_filter.write.mode(\"overwrite\").parquet(f\"s3a://zarklab-hive-test/buy-sell-updated-202202_filter/\")\n"
   ]
  },
  {
   "cell_type": "code",
   "execution_count": 35,
   "id": "edf5cc78-9071-4bda-a602-3285d3748ca2",
   "metadata": {
    "tags": []
   },
   "outputs": [
    {
     "name": "stderr",
     "output_type": "stream",
     "text": [
      "[Stage 45:=================================================>        (6 + 1) / 7]\r"
     ]
    },
    {
     "name": "stdout",
     "output_type": "stream",
     "text": [
      "+--------------------+-------------------+--------------------+--------------------+--------------+--------+\n",
      "|            buyAsset|          timestamp|           recipient|           txFee_eth|       buyQty1|buyPrice|\n",
      "+--------------------+-------------------+--------------------+--------------------+--------------+--------+\n",
      "|0x00000006e55a936...|               null|                null|                null|          null|    null|\n",
      "|0x044727e50ff30db...|2022-02-09 00:10:50|0x669735809ff5902...|0.025893602333315245| 3.769510099E7| 1185.38|\n",
      "|0x044727e50ff30db...|2022-02-12 23:21:59|0xb51f25212ebd2fd...|0.013157703921105763| 1.818520453E7|   435.2|\n",
      "|0x044727e50ff30db...|2022-02-12 00:40:43|0xb8eee1ae26a0722...| 0.01790774287106544| 6.622289934E7|  1550.5|\n",
      "|0x044727e50ff30db...|2022-02-11 16:06:59|0xba15cfb397dcaf6...|0.021735606853078057|         1.0E8| 2560.22|\n",
      "|0x044727e50ff30db...|2022-02-12 17:33:29|0xd73619f498afec2...| 0.01533242454091782|    4591549.52|  102.43|\n",
      "|0x044727e50ff30db...|2022-02-09 11:25:12|0xeebc9ba535fd2dd...|0.013907481164181258| 3.665408129E7|  937.86|\n",
      "|0x044727e50ff30db...|2022-02-09 10:26:13|0x8a2f228808f40a5...|   0.012387289823415|     3000000.0|   82.82|\n",
      "|0x044727e50ff30db...|2022-02-09 05:29:33|0x18f47c0fdafe1ca...|0.017308773656414957|1.0708666465E8| 2948.29|\n",
      "|0x044727e50ff30db...|2022-02-09 13:52:18|0x1d99a1de88ee2c1...|0.018934055848457924| 7.408798277E7| 1996.26|\n",
      "|0x044727e50ff30db...|2022-02-09 11:03:53|0xb5d35a6a4486abb...| 0.01316212075399534|2.2490585927E8| 5813.35|\n",
      "|0x044727e50ff30db...|2022-02-09 05:46:11|0x72f4eb6c99355ae...|0.017628564592885122| 5.001770012E7| 1392.77|\n",
      "|0x044727e50ff30db...|2022-02-12 19:39:54|0xf34bc1c1f479c50...|0.012845789321754064|         1.5E7|  368.25|\n",
      "|0x044727e50ff30db...|2022-02-16 04:48:59|0x5b443c349ec26c6...| 0.01755215368787938|1.3525543599E8| 3278.13|\n",
      "|0x044727e50ff30db...|2022-02-09 13:54:36|0x9194ff144358958...|0.017007350608111742| 3.340990858E7|  902.26|\n",
      "|0x044727e50ff30db...|2022-02-11 21:24:08|0x5a9df0a5d479427...| 0.02208767244434857| 4.149552144E7| 1025.09|\n",
      "|0x044727e50ff30db...|2022-02-08 02:12:15|0x7882b011baec48e...|    0.02226812858728|2.9752625136E8| 9536.25|\n",
      "|0x044727e50ff30db...|2022-02-18 19:44:49|0x531bfd624ed620a...| 0.02074842463598676| 6.473220368E7| 1434.95|\n",
      "|0x044727e50ff30db...|2022-02-24 19:04:29|0x3ff5336523f54c4...|  0.0300810173028177| 1.049697253E8|  1837.9|\n",
      "|0x044727e50ff30db...|2022-02-10 20:28:34|0xbb5b215dd3891ee...| 0.03782671633013472| 9.566506547E7| 2272.33|\n",
      "+--------------------+-------------------+--------------------+--------------------+--------------+--------+\n",
      "only showing top 20 rows\n",
      "\n"
     ]
    },
    {
     "name": "stderr",
     "output_type": "stream",
     "text": [
      "                                                                                \r"
     ]
    }
   ],
   "source": [
    "eva_data_filter.show()"
   ]
  },
  {
   "cell_type": "code",
   "execution_count": null,
   "id": "a7c48d1c-4ff1-4361-9911-3fa1201bdfa6",
   "metadata": {},
   "outputs": [],
   "source": []
  }
 ],
 "metadata": {
  "kernelspec": {
   "display_name": "conda_python3",
   "language": "python",
   "name": "conda_python3"
  },
  "language_info": {
   "codemirror_mode": {
    "name": "ipython",
    "version": 3
   },
   "file_extension": ".py",
   "mimetype": "text/x-python",
   "name": "python",
   "nbconvert_exporter": "python",
   "pygments_lexer": "ipython3",
   "version": "3.10.13"
  }
 },
 "nbformat": 4,
 "nbformat_minor": 5
}
