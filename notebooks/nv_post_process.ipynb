{
 "cells": [
  {
   "cell_type": "code",
   "execution_count": 1,
   "id": "a515b4ea-8772-44d6-b7fc-5d4bbb6582c7",
   "metadata": {
    "tags": []
   },
   "outputs": [
    {
     "name": "stderr",
     "output_type": "stream",
     "text": [
      "/home/ec2-user/SageMaker/.persisted_conda/transformers4rec-23.04/lib/python3.10/site-packages/merlin/dtypes/mappings/tf.py:52: UserWarning: Tensorflow dtype mappings did not load successfully due to an error: No module named 'tensorflow'\n",
      "  warn(f\"Tensorflow dtype mappings did not load successfully due to an error: {exc.msg}\")\n",
      "/home/ec2-user/SageMaker/.persisted_conda/transformers4rec-23.04/lib/python3.10/site-packages/merlin/dtypes/mappings/triton.py:53: UserWarning: Triton dtype mappings did not load successfully due to an error: No module named 'tritonclient'\n",
      "  warn(f\"Triton dtype mappings did not load successfully due to an error: {exc.msg}\")\n",
      "/home/ec2-user/SageMaker/.persisted_conda/transformers4rec-23.04/lib/python3.10/site-packages/tqdm/auto.py:21: TqdmWarning: IProgress not found. Please update jupyter and ipywidgets. See https://ipywidgets.readthedocs.io/en/stable/user_install.html\n",
      "  from .autonotebook import tqdm as notebook_tqdm\n"
     ]
    }
   ],
   "source": [
    "import os\n",
    "\n",
    "os.environ[\"CUDA_VISIBLE_DEVICES\"]=\"0\"\n",
    "\n",
    "import glob\n",
    "import torch \n",
    "\n",
    "from transformers4rec import torch as tr\n",
    "from transformers4rec.torch.ranking_metric import NDCGAt, AvgPrecisionAt, RecallAt\n",
    "from transformers4rec.torch.utils.examples_utils import wipe_memory\n",
    "import nvtabular as nvt"
   ]
  },
  {
   "cell_type": "code",
   "execution_count": 2,
   "id": "fbbf57f0-86fb-491f-bb0c-6737b4bbcb6a",
   "metadata": {
    "tags": []
   },
   "outputs": [],
   "source": [
    "import cudf"
   ]
  },
  {
   "cell_type": "code",
   "execution_count": 3,
   "id": "c71a043e-55a0-4931-ade8-9c89b951f0d3",
   "metadata": {
    "tags": []
   },
   "outputs": [],
   "source": [
    "# workflow = nvt.Workflow.load('./preprocessWorkflow')\n"
   ]
  },
  {
   "cell_type": "code",
   "execution_count": 5,
   "id": "85d4227e-c90b-4755-b6e2-f4ca8c8d6521",
   "metadata": {
    "tags": []
   },
   "outputs": [],
   "source": [
    "month1 = \"202201\"\n",
    "month3 = \"202203\"\n",
    "INPUT_DATA_DIR = os.environ.get(\"INPUT_DATA_DIR\", \"/home/ec2-user/SageMaker/data/\")\n",
    "\n",
    "mydata = nvt.Dataset(os.path.join(INPUT_DATA_DIR, \"202201-202203/data.parquet/part_0.parquet\"))\n",
    "# dataset = nvt.Dataset(mydata)"
   ]
  },
  {
   "cell_type": "code",
   "execution_count": null,
   "id": "8ef5ffaf-85e6-4756-ac7a-00d26b0bd55f",
   "metadata": {
    "tags": []
   },
   "outputs": [],
   "source": [
    "# procesed = workflow.transform(dataset)"
   ]
  },
  {
   "cell_type": "code",
   "execution_count": 6,
   "id": "06896567-055c-4880-9886-35a1a86d9d81",
   "metadata": {
    "tags": []
   },
   "outputs": [
    {
     "data": {
      "text/html": [
       "<div>\n",
       "<style scoped>\n",
       "    .dataframe tbody tr th:only-of-type {\n",
       "        vertical-align: middle;\n",
       "    }\n",
       "\n",
       "    .dataframe tbody tr th {\n",
       "        vertical-align: top;\n",
       "    }\n",
       "\n",
       "    .dataframe thead th {\n",
       "        text-align: right;\n",
       "    }\n",
       "</style>\n",
       "<table border=\"1\" class=\"dataframe\">\n",
       "  <thead>\n",
       "    <tr style=\"text-align: right;\">\n",
       "      <th></th>\n",
       "      <th>recipient</th>\n",
       "      <th>timestamp-first</th>\n",
       "      <th>buyAsset-list</th>\n",
       "      <th>et_dayofweek_sin-list</th>\n",
       "      <th>txFee_eth_log_norm-list</th>\n",
       "      <th>buyQty1_log_norm-list</th>\n",
       "      <th>buyPrice_log_norm-list</th>\n",
       "      <th>token_category-list</th>\n",
       "      <th>token_rank_category-list</th>\n",
       "      <th>risky_flags-list</th>\n",
       "    </tr>\n",
       "  </thead>\n",
       "  <tbody>\n",
       "    <tr>\n",
       "      <th>0</th>\n",
       "      <td>0x000000000004d7463d0f9c77383600bc82d612f5</td>\n",
       "      <td>2022-01-01 20:14:35</td>\n",
       "      <td>[489, 418, 956, 24, 359, 1476, 1017, 714, 503,...</td>\n",
       "      <td>[0.43388293040961884, 0.43388293040961884, -0....</td>\n",
       "      <td>[-0.9175754, -0.83067816, -0.83143824, -0.8746...</td>\n",
       "      <td>[-0.025127048, -0.025127048, -0.025127048, -0....</td>\n",
       "      <td>[-0.0009817483, -0.0009817483, -0.0009817483, ...</td>\n",
       "      <td>[20, 28, 34, 4, 20, 13, 23, 13, 15, 4, 6, 4, 1...</td>\n",
       "      <td>[3, 3, 5, 3, 3, 3, 5, 5, 6, 3, 5, 3, 3, 5, 5, ...</td>\n",
       "      <td>[3, 3, 3, 3, 3, 3, 3, 3, 3, 3, 3, 3, 4, 3, 3, ...</td>\n",
       "    </tr>\n",
       "    <tr>\n",
       "      <th>1</th>\n",
       "      <td>0x0000000000086013192a2c9a506742a43c916e1e</td>\n",
       "      <td>2022-01-09 07:44:40</td>\n",
       "      <td>[4, 12, 150, 4]</td>\n",
       "      <td>[8.975979006501142e-07, 0.7818320421108522, 0....</td>\n",
       "      <td>[2.0464702, 0.92810464, 0.78188777, 5.520375]</td>\n",
       "      <td>[-0.025127048, -0.025127048, -0.025127048, -0....</td>\n",
       "      <td>[-0.0009817483, -0.0009817483, -0.0009817483, ...</td>\n",
       "      <td>[5, 4, 4, 5]</td>\n",
       "      <td>[3, 3, 5, 3]</td>\n",
       "      <td>[3, 3, 3, 3]</td>\n",
       "    </tr>\n",
       "    <tr>\n",
       "      <th>2</th>\n",
       "      <td>0x000000000008e4db6a6194c6957df47e30970dc2</td>\n",
       "      <td>2022-02-23 18:48:34</td>\n",
       "      <td>[4, 5, 113]</td>\n",
       "      <td>[0.43388293040961884, 0.43388293040961884, -0....</td>\n",
       "      <td>[1.1193919, -0.6704848, -0.7880669]</td>\n",
       "      <td>[-0.025127048, -0.025127048, -0.025127048]</td>\n",
       "      <td>[-0.0009817483, -0.0009817483, -0.0009817483]</td>\n",
       "      <td>[5, 3, 5]</td>\n",
       "      <td>[3, 4, 5]</td>\n",
       "      <td>[3, 4, 3]</td>\n",
       "    </tr>\n",
       "    <tr>\n",
       "      <th>3</th>\n",
       "      <td>0x00000000000cd56832ce5dfbcbff02e7ec639bc9</td>\n",
       "      <td>2022-01-28 21:47:38</td>\n",
       "      <td>[614, 4]</td>\n",
       "      <td>[-0.9749281119157542, 8.975979006501142e-07]</td>\n",
       "      <td>[0.17984277, 0.0010065734]</td>\n",
       "      <td>[-0.025127048, -0.025127048]</td>\n",
       "      <td>[-0.0009817483, -0.0009817483]</td>\n",
       "      <td>[4, 5]</td>\n",
       "      <td>[5, 3]</td>\n",
       "      <td>[3, 3]</td>\n",
       "    </tr>\n",
       "    <tr>\n",
       "      <th>4</th>\n",
       "      <td>0x00000000005ef87f8ca7014309ece7260bbcdaeb</td>\n",
       "      <td>2022-01-10 19:19:47</td>\n",
       "      <td>[12, 3]</td>\n",
       "      <td>[0.7818320421108522, -0.7818309228245777]</td>\n",
       "      <td>[1.4960439, 1.3195738]</td>\n",
       "      <td>[-0.025127048, -0.025127048]</td>\n",
       "      <td>[-0.0009817483, -0.0009817483]</td>\n",
       "      <td>[4, 3]</td>\n",
       "      <td>[3, 4]</td>\n",
       "      <td>[3, 3]</td>\n",
       "    </tr>\n",
       "  </tbody>\n",
       "</table>\n",
       "</div>"
      ],
      "text/plain": [
       "                                    recipient     timestamp-first  \\\n",
       "0  0x000000000004d7463d0f9c77383600bc82d612f5 2022-01-01 20:14:35   \n",
       "1  0x0000000000086013192a2c9a506742a43c916e1e 2022-01-09 07:44:40   \n",
       "2  0x000000000008e4db6a6194c6957df47e30970dc2 2022-02-23 18:48:34   \n",
       "3  0x00000000000cd56832ce5dfbcbff02e7ec639bc9 2022-01-28 21:47:38   \n",
       "4  0x00000000005ef87f8ca7014309ece7260bbcdaeb 2022-01-10 19:19:47   \n",
       "\n",
       "                                       buyAsset-list  \\\n",
       "0  [489, 418, 956, 24, 359, 1476, 1017, 714, 503,...   \n",
       "1                                    [4, 12, 150, 4]   \n",
       "2                                        [4, 5, 113]   \n",
       "3                                           [614, 4]   \n",
       "4                                            [12, 3]   \n",
       "\n",
       "                               et_dayofweek_sin-list  \\\n",
       "0  [0.43388293040961884, 0.43388293040961884, -0....   \n",
       "1  [8.975979006501142e-07, 0.7818320421108522, 0....   \n",
       "2  [0.43388293040961884, 0.43388293040961884, -0....   \n",
       "3       [-0.9749281119157542, 8.975979006501142e-07]   \n",
       "4          [0.7818320421108522, -0.7818309228245777]   \n",
       "\n",
       "                             txFee_eth_log_norm-list  \\\n",
       "0  [-0.9175754, -0.83067816, -0.83143824, -0.8746...   \n",
       "1      [2.0464702, 0.92810464, 0.78188777, 5.520375]   \n",
       "2                [1.1193919, -0.6704848, -0.7880669]   \n",
       "3                         [0.17984277, 0.0010065734]   \n",
       "4                             [1.4960439, 1.3195738]   \n",
       "\n",
       "                               buyQty1_log_norm-list  \\\n",
       "0  [-0.025127048, -0.025127048, -0.025127048, -0....   \n",
       "1  [-0.025127048, -0.025127048, -0.025127048, -0....   \n",
       "2         [-0.025127048, -0.025127048, -0.025127048]   \n",
       "3                       [-0.025127048, -0.025127048]   \n",
       "4                       [-0.025127048, -0.025127048]   \n",
       "\n",
       "                              buyPrice_log_norm-list  \\\n",
       "0  [-0.0009817483, -0.0009817483, -0.0009817483, ...   \n",
       "1  [-0.0009817483, -0.0009817483, -0.0009817483, ...   \n",
       "2      [-0.0009817483, -0.0009817483, -0.0009817483]   \n",
       "3                     [-0.0009817483, -0.0009817483]   \n",
       "4                     [-0.0009817483, -0.0009817483]   \n",
       "\n",
       "                                 token_category-list  \\\n",
       "0  [20, 28, 34, 4, 20, 13, 23, 13, 15, 4, 6, 4, 1...   \n",
       "1                                       [5, 4, 4, 5]   \n",
       "2                                          [5, 3, 5]   \n",
       "3                                             [4, 5]   \n",
       "4                                             [4, 3]   \n",
       "\n",
       "                            token_rank_category-list  \\\n",
       "0  [3, 3, 5, 3, 3, 3, 5, 5, 6, 3, 5, 3, 3, 5, 5, ...   \n",
       "1                                       [3, 3, 5, 3]   \n",
       "2                                          [3, 4, 5]   \n",
       "3                                             [5, 3]   \n",
       "4                                             [3, 4]   \n",
       "\n",
       "                                    risky_flags-list  \n",
       "0  [3, 3, 3, 3, 3, 3, 3, 3, 3, 3, 3, 3, 4, 3, 3, ...  \n",
       "1                                       [3, 3, 3, 3]  \n",
       "2                                          [3, 4, 3]  \n",
       "3                                             [3, 3]  \n",
       "4                                             [3, 3]  "
      ]
     },
     "execution_count": 6,
     "metadata": {},
     "output_type": "execute_result"
    }
   ],
   "source": [
    "mydata.head()"
   ]
  },
  {
   "cell_type": "code",
   "execution_count": 7,
   "id": "bda96a0b",
   "metadata": {
    "tags": []
   },
   "outputs": [],
   "source": [
    "cudf_df = mydata.to_ddf().compute()\n"
   ]
  },
  {
   "cell_type": "code",
   "execution_count": 8,
   "id": "e461659c-5efd-4ad3-9a7c-934bc987597a",
   "metadata": {
    "tags": []
   },
   "outputs": [
    {
     "data": {
      "text/html": [
       "<div>\n",
       "<style scoped>\n",
       "    .dataframe tbody tr th:only-of-type {\n",
       "        vertical-align: middle;\n",
       "    }\n",
       "\n",
       "    .dataframe tbody tr th {\n",
       "        vertical-align: top;\n",
       "    }\n",
       "\n",
       "    .dataframe thead th {\n",
       "        text-align: right;\n",
       "    }\n",
       "</style>\n",
       "<table border=\"1\" class=\"dataframe\">\n",
       "  <thead>\n",
       "    <tr style=\"text-align: right;\">\n",
       "      <th></th>\n",
       "      <th>recipient</th>\n",
       "      <th>timestamp-first</th>\n",
       "      <th>buyAsset-list</th>\n",
       "      <th>et_dayofweek_sin-list</th>\n",
       "      <th>txFee_eth_log_norm-list</th>\n",
       "      <th>buyQty1_log_norm-list</th>\n",
       "      <th>buyPrice_log_norm-list</th>\n",
       "      <th>token_category-list</th>\n",
       "      <th>token_rank_category-list</th>\n",
       "      <th>risky_flags-list</th>\n",
       "    </tr>\n",
       "  </thead>\n",
       "  <tbody>\n",
       "    <tr>\n",
       "      <th>0</th>\n",
       "      <td>0x000000000004d7463d0f9c77383600bc82d612f5</td>\n",
       "      <td>2022-01-01 20:14:35</td>\n",
       "      <td>[489, 418, 956, 24, 359, 1476, 1017, 714, 503,...</td>\n",
       "      <td>[0.43388293040961884, 0.43388293040961884, -0....</td>\n",
       "      <td>[-0.9175754, -0.83067816, -0.83143824, -0.8746...</td>\n",
       "      <td>[-0.025127048, -0.025127048, -0.025127048, -0....</td>\n",
       "      <td>[-0.0009817483, -0.0009817483, -0.0009817483, ...</td>\n",
       "      <td>[20, 28, 34, 4, 20, 13, 23, 13, 15, 4, 6, 4, 1...</td>\n",
       "      <td>[3, 3, 5, 3, 3, 3, 5, 5, 6, 3, 5, 3, 3, 5, 5, ...</td>\n",
       "      <td>[3, 3, 3, 3, 3, 3, 3, 3, 3, 3, 3, 3, 4, 3, 3, ...</td>\n",
       "    </tr>\n",
       "    <tr>\n",
       "      <th>1</th>\n",
       "      <td>0x0000000000086013192a2c9a506742a43c916e1e</td>\n",
       "      <td>2022-01-09 07:44:40</td>\n",
       "      <td>[4, 12, 150, 4]</td>\n",
       "      <td>[8.975979006501142e-07, 0.7818320421108522, 0....</td>\n",
       "      <td>[2.0464702, 0.92810464, 0.78188777, 5.520375]</td>\n",
       "      <td>[-0.025127048, -0.025127048, -0.025127048, -0....</td>\n",
       "      <td>[-0.0009817483, -0.0009817483, -0.0009817483, ...</td>\n",
       "      <td>[5, 4, 4, 5]</td>\n",
       "      <td>[3, 3, 5, 3]</td>\n",
       "      <td>[3, 3, 3, 3]</td>\n",
       "    </tr>\n",
       "    <tr>\n",
       "      <th>2</th>\n",
       "      <td>0x000000000008e4db6a6194c6957df47e30970dc2</td>\n",
       "      <td>2022-02-23 18:48:34</td>\n",
       "      <td>[4, 5, 113]</td>\n",
       "      <td>[0.43388293040961884, 0.43388293040961884, -0....</td>\n",
       "      <td>[1.1193919, -0.6704848, -0.7880669]</td>\n",
       "      <td>[-0.025127048, -0.025127048, -0.025127048]</td>\n",
       "      <td>[-0.0009817483, -0.0009817483, -0.0009817483]</td>\n",
       "      <td>[5, 3, 5]</td>\n",
       "      <td>[3, 4, 5]</td>\n",
       "      <td>[3, 4, 3]</td>\n",
       "    </tr>\n",
       "    <tr>\n",
       "      <th>3</th>\n",
       "      <td>0x00000000000cd56832ce5dfbcbff02e7ec639bc9</td>\n",
       "      <td>2022-01-28 21:47:38</td>\n",
       "      <td>[614, 4]</td>\n",
       "      <td>[-0.9749281119157542, 8.975979006501142e-07]</td>\n",
       "      <td>[0.17984277, 0.0010065734]</td>\n",
       "      <td>[-0.025127048, -0.025127048]</td>\n",
       "      <td>[-0.0009817483, -0.0009817483]</td>\n",
       "      <td>[4, 5]</td>\n",
       "      <td>[5, 3]</td>\n",
       "      <td>[3, 3]</td>\n",
       "    </tr>\n",
       "    <tr>\n",
       "      <th>4</th>\n",
       "      <td>0x00000000005ef87f8ca7014309ece7260bbcdaeb</td>\n",
       "      <td>2022-01-10 19:19:47</td>\n",
       "      <td>[12, 3]</td>\n",
       "      <td>[0.7818320421108522, -0.7818309228245777]</td>\n",
       "      <td>[1.4960439, 1.3195738]</td>\n",
       "      <td>[-0.025127048, -0.025127048]</td>\n",
       "      <td>[-0.0009817483, -0.0009817483]</td>\n",
       "      <td>[4, 3]</td>\n",
       "      <td>[3, 4]</td>\n",
       "      <td>[3, 3]</td>\n",
       "    </tr>\n",
       "  </tbody>\n",
       "</table>\n",
       "</div>"
      ],
      "text/plain": [
       "                                    recipient     timestamp-first  \\\n",
       "0  0x000000000004d7463d0f9c77383600bc82d612f5 2022-01-01 20:14:35   \n",
       "1  0x0000000000086013192a2c9a506742a43c916e1e 2022-01-09 07:44:40   \n",
       "2  0x000000000008e4db6a6194c6957df47e30970dc2 2022-02-23 18:48:34   \n",
       "3  0x00000000000cd56832ce5dfbcbff02e7ec639bc9 2022-01-28 21:47:38   \n",
       "4  0x00000000005ef87f8ca7014309ece7260bbcdaeb 2022-01-10 19:19:47   \n",
       "\n",
       "                                       buyAsset-list  \\\n",
       "0  [489, 418, 956, 24, 359, 1476, 1017, 714, 503,...   \n",
       "1                                    [4, 12, 150, 4]   \n",
       "2                                        [4, 5, 113]   \n",
       "3                                           [614, 4]   \n",
       "4                                            [12, 3]   \n",
       "\n",
       "                               et_dayofweek_sin-list  \\\n",
       "0  [0.43388293040961884, 0.43388293040961884, -0....   \n",
       "1  [8.975979006501142e-07, 0.7818320421108522, 0....   \n",
       "2  [0.43388293040961884, 0.43388293040961884, -0....   \n",
       "3       [-0.9749281119157542, 8.975979006501142e-07]   \n",
       "4          [0.7818320421108522, -0.7818309228245777]   \n",
       "\n",
       "                             txFee_eth_log_norm-list  \\\n",
       "0  [-0.9175754, -0.83067816, -0.83143824, -0.8746...   \n",
       "1      [2.0464702, 0.92810464, 0.78188777, 5.520375]   \n",
       "2                [1.1193919, -0.6704848, -0.7880669]   \n",
       "3                         [0.17984277, 0.0010065734]   \n",
       "4                             [1.4960439, 1.3195738]   \n",
       "\n",
       "                               buyQty1_log_norm-list  \\\n",
       "0  [-0.025127048, -0.025127048, -0.025127048, -0....   \n",
       "1  [-0.025127048, -0.025127048, -0.025127048, -0....   \n",
       "2         [-0.025127048, -0.025127048, -0.025127048]   \n",
       "3                       [-0.025127048, -0.025127048]   \n",
       "4                       [-0.025127048, -0.025127048]   \n",
       "\n",
       "                              buyPrice_log_norm-list  \\\n",
       "0  [-0.0009817483, -0.0009817483, -0.0009817483, ...   \n",
       "1  [-0.0009817483, -0.0009817483, -0.0009817483, ...   \n",
       "2      [-0.0009817483, -0.0009817483, -0.0009817483]   \n",
       "3                     [-0.0009817483, -0.0009817483]   \n",
       "4                     [-0.0009817483, -0.0009817483]   \n",
       "\n",
       "                                 token_category-list  \\\n",
       "0  [20, 28, 34, 4, 20, 13, 23, 13, 15, 4, 6, 4, 1...   \n",
       "1                                       [5, 4, 4, 5]   \n",
       "2                                          [5, 3, 5]   \n",
       "3                                             [4, 5]   \n",
       "4                                             [4, 3]   \n",
       "\n",
       "                            token_rank_category-list  \\\n",
       "0  [3, 3, 5, 3, 3, 3, 5, 5, 6, 3, 5, 3, 3, 5, 5, ...   \n",
       "1                                       [3, 3, 5, 3]   \n",
       "2                                          [3, 4, 5]   \n",
       "3                                             [5, 3]   \n",
       "4                                             [3, 4]   \n",
       "\n",
       "                                    risky_flags-list  \n",
       "0  [3, 3, 3, 3, 3, 3, 3, 3, 3, 3, 3, 3, 4, 3, 3, ...  \n",
       "1                                       [3, 3, 3, 3]  \n",
       "2                                          [3, 4, 3]  \n",
       "3                                             [3, 3]  \n",
       "4                                             [3, 3]  "
      ]
     },
     "execution_count": 8,
     "metadata": {},
     "output_type": "execute_result"
    }
   ],
   "source": [
    "cudf_df.head()"
   ]
  },
  {
   "cell_type": "code",
   "execution_count": 9,
   "id": "244f9e67-5cff-47c6-8467-e134111d1357",
   "metadata": {
    "tags": []
   },
   "outputs": [],
   "source": [
    "cudf_df_select = cudf_df[['recipient','buyAsset-list']]"
   ]
  },
  {
   "cell_type": "code",
   "execution_count": 10,
   "id": "40ad07ab-440e-4088-9fdc-93a9d9e0827a",
   "metadata": {
    "tags": []
   },
   "outputs": [
    {
     "data": {
      "text/html": [
       "<div>\n",
       "<style scoped>\n",
       "    .dataframe tbody tr th:only-of-type {\n",
       "        vertical-align: middle;\n",
       "    }\n",
       "\n",
       "    .dataframe tbody tr th {\n",
       "        vertical-align: top;\n",
       "    }\n",
       "\n",
       "    .dataframe thead th {\n",
       "        text-align: right;\n",
       "    }\n",
       "</style>\n",
       "<table border=\"1\" class=\"dataframe\">\n",
       "  <thead>\n",
       "    <tr style=\"text-align: right;\">\n",
       "      <th></th>\n",
       "      <th>recipient</th>\n",
       "      <th>buyAsset-list</th>\n",
       "    </tr>\n",
       "  </thead>\n",
       "  <tbody>\n",
       "    <tr>\n",
       "      <th>0</th>\n",
       "      <td>0x000000000004d7463d0f9c77383600bc82d612f5</td>\n",
       "      <td>[489, 418, 956, 24, 359, 1476, 1017, 714, 503,...</td>\n",
       "    </tr>\n",
       "    <tr>\n",
       "      <th>1</th>\n",
       "      <td>0x0000000000086013192a2c9a506742a43c916e1e</td>\n",
       "      <td>[4, 12, 150, 4]</td>\n",
       "    </tr>\n",
       "    <tr>\n",
       "      <th>2</th>\n",
       "      <td>0x000000000008e4db6a6194c6957df47e30970dc2</td>\n",
       "      <td>[4, 5, 113]</td>\n",
       "    </tr>\n",
       "    <tr>\n",
       "      <th>3</th>\n",
       "      <td>0x00000000000cd56832ce5dfbcbff02e7ec639bc9</td>\n",
       "      <td>[614, 4]</td>\n",
       "    </tr>\n",
       "    <tr>\n",
       "      <th>4</th>\n",
       "      <td>0x00000000005ef87f8ca7014309ece7260bbcdaeb</td>\n",
       "      <td>[12, 3]</td>\n",
       "    </tr>\n",
       "  </tbody>\n",
       "</table>\n",
       "</div>"
      ],
      "text/plain": [
       "                                    recipient  \\\n",
       "0  0x000000000004d7463d0f9c77383600bc82d612f5   \n",
       "1  0x0000000000086013192a2c9a506742a43c916e1e   \n",
       "2  0x000000000008e4db6a6194c6957df47e30970dc2   \n",
       "3  0x00000000000cd56832ce5dfbcbff02e7ec639bc9   \n",
       "4  0x00000000005ef87f8ca7014309ece7260bbcdaeb   \n",
       "\n",
       "                                       buyAsset-list  \n",
       "0  [489, 418, 956, 24, 359, 1476, 1017, 714, 503,...  \n",
       "1                                    [4, 12, 150, 4]  \n",
       "2                                        [4, 5, 113]  \n",
       "3                                           [614, 4]  \n",
       "4                                            [12, 3]  "
      ]
     },
     "execution_count": 10,
     "metadata": {},
     "output_type": "execute_result"
    }
   ],
   "source": [
    "cudf_df_select.head()"
   ]
  },
  {
   "cell_type": "code",
   "execution_count": 11,
   "id": "4ac9a717-b54e-4113-9076-82bc5a11d2be",
   "metadata": {
    "tags": []
   },
   "outputs": [
    {
     "name": "stdout",
     "output_type": "stream",
     "text": [
      "recipient        object\n",
      "buyAsset-list      list\n",
      "dtype: object\n"
     ]
    }
   ],
   "source": [
    "print(cudf_df_select.dtypes)"
   ]
  },
  {
   "cell_type": "code",
   "execution_count": 12,
   "id": "1165e6ca-905b-47d7-83ac-33618103cf43",
   "metadata": {
    "tags": []
   },
   "outputs": [],
   "source": [
    "cudf_df_select_pd  = cudf_df_select.to_pandas()"
   ]
  },
  {
   "cell_type": "code",
   "execution_count": 13,
   "id": "687ed8fa-c3e2-4610-b630-566c66f74c83",
   "metadata": {
    "tags": []
   },
   "outputs": [
    {
     "data": {
      "text/plain": [
       "recipient        object\n",
       "buyAsset-list    object\n",
       "dtype: object"
      ]
     },
     "execution_count": 13,
     "metadata": {},
     "output_type": "execute_result"
    }
   ],
   "source": [
    "cudf_df_select_pd.dtypes"
   ]
  },
  {
   "cell_type": "code",
   "execution_count": 14,
   "id": "b51e8044-e9c0-4633-af5d-18a3333f8d2c",
   "metadata": {
    "tags": []
   },
   "outputs": [
    {
     "data": {
      "text/html": [
       "<div>\n",
       "<style scoped>\n",
       "    .dataframe tbody tr th:only-of-type {\n",
       "        vertical-align: middle;\n",
       "    }\n",
       "\n",
       "    .dataframe tbody tr th {\n",
       "        vertical-align: top;\n",
       "    }\n",
       "\n",
       "    .dataframe thead th {\n",
       "        text-align: right;\n",
       "    }\n",
       "</style>\n",
       "<table border=\"1\" class=\"dataframe\">\n",
       "  <thead>\n",
       "    <tr style=\"text-align: right;\">\n",
       "      <th></th>\n",
       "      <th>recipient</th>\n",
       "      <th>buyAsset-list</th>\n",
       "    </tr>\n",
       "  </thead>\n",
       "  <tbody>\n",
       "    <tr>\n",
       "      <th>0</th>\n",
       "      <td>0x000000000004d7463d0f9c77383600bc82d612f5</td>\n",
       "      <td>[489, 418, 956, 24, 359, 1476, 1017, 714, 503,...</td>\n",
       "    </tr>\n",
       "    <tr>\n",
       "      <th>1</th>\n",
       "      <td>0x0000000000086013192a2c9a506742a43c916e1e</td>\n",
       "      <td>[4, 12, 150, 4]</td>\n",
       "    </tr>\n",
       "    <tr>\n",
       "      <th>2</th>\n",
       "      <td>0x000000000008e4db6a6194c6957df47e30970dc2</td>\n",
       "      <td>[4, 5, 113]</td>\n",
       "    </tr>\n",
       "    <tr>\n",
       "      <th>3</th>\n",
       "      <td>0x00000000000cd56832ce5dfbcbff02e7ec639bc9</td>\n",
       "      <td>[614, 4]</td>\n",
       "    </tr>\n",
       "    <tr>\n",
       "      <th>4</th>\n",
       "      <td>0x00000000005ef87f8ca7014309ece7260bbcdaeb</td>\n",
       "      <td>[12, 3]</td>\n",
       "    </tr>\n",
       "  </tbody>\n",
       "</table>\n",
       "</div>"
      ],
      "text/plain": [
       "                                    recipient  \\\n",
       "0  0x000000000004d7463d0f9c77383600bc82d612f5   \n",
       "1  0x0000000000086013192a2c9a506742a43c916e1e   \n",
       "2  0x000000000008e4db6a6194c6957df47e30970dc2   \n",
       "3  0x00000000000cd56832ce5dfbcbff02e7ec639bc9   \n",
       "4  0x00000000005ef87f8ca7014309ece7260bbcdaeb   \n",
       "\n",
       "                                       buyAsset-list  \n",
       "0  [489, 418, 956, 24, 359, 1476, 1017, 714, 503,...  \n",
       "1                                    [4, 12, 150, 4]  \n",
       "2                                        [4, 5, 113]  \n",
       "3                                           [614, 4]  \n",
       "4                                            [12, 3]  "
      ]
     },
     "execution_count": 14,
     "metadata": {},
     "output_type": "execute_result"
    }
   ],
   "source": [
    "cudf_df_select_pd.head()"
   ]
  },
  {
   "cell_type": "code",
   "execution_count": 16,
   "id": "40a26d91-b0a4-4ff5-b685-57a68c096dd6",
   "metadata": {
    "tags": []
   },
   "outputs": [],
   "source": [
    "cudf_df_select_pd['last_element'] = cudf_df_select_pd['buyAsset-list'].apply(lambda x: x[-1])\n",
    "cudf_df_select_pd['last_last_element'] = cudf_df_select_pd['buyAsset-list'].apply(lambda x: x[-2])\n"
   ]
  },
  {
   "cell_type": "code",
   "execution_count": 17,
   "id": "d5b48683-b3e8-4f61-8494-11ed7c0a82df",
   "metadata": {
    "tags": []
   },
   "outputs": [
    {
     "data": {
      "text/html": [
       "<div>\n",
       "<style scoped>\n",
       "    .dataframe tbody tr th:only-of-type {\n",
       "        vertical-align: middle;\n",
       "    }\n",
       "\n",
       "    .dataframe tbody tr th {\n",
       "        vertical-align: top;\n",
       "    }\n",
       "\n",
       "    .dataframe thead th {\n",
       "        text-align: right;\n",
       "    }\n",
       "</style>\n",
       "<table border=\"1\" class=\"dataframe\">\n",
       "  <thead>\n",
       "    <tr style=\"text-align: right;\">\n",
       "      <th></th>\n",
       "      <th>recipient</th>\n",
       "      <th>buyAsset-list</th>\n",
       "      <th>last_element</th>\n",
       "      <th>last_last_element</th>\n",
       "    </tr>\n",
       "  </thead>\n",
       "  <tbody>\n",
       "    <tr>\n",
       "      <th>0</th>\n",
       "      <td>0x000000000004d7463d0f9c77383600bc82d612f5</td>\n",
       "      <td>[489, 418, 956, 24, 359, 1476, 1017, 714, 503,...</td>\n",
       "      <td>941</td>\n",
       "      <td>388</td>\n",
       "    </tr>\n",
       "    <tr>\n",
       "      <th>1</th>\n",
       "      <td>0x0000000000086013192a2c9a506742a43c916e1e</td>\n",
       "      <td>[4, 12, 150, 4]</td>\n",
       "      <td>4</td>\n",
       "      <td>150</td>\n",
       "    </tr>\n",
       "    <tr>\n",
       "      <th>2</th>\n",
       "      <td>0x000000000008e4db6a6194c6957df47e30970dc2</td>\n",
       "      <td>[4, 5, 113]</td>\n",
       "      <td>113</td>\n",
       "      <td>5</td>\n",
       "    </tr>\n",
       "    <tr>\n",
       "      <th>3</th>\n",
       "      <td>0x00000000000cd56832ce5dfbcbff02e7ec639bc9</td>\n",
       "      <td>[614, 4]</td>\n",
       "      <td>4</td>\n",
       "      <td>614</td>\n",
       "    </tr>\n",
       "    <tr>\n",
       "      <th>4</th>\n",
       "      <td>0x00000000005ef87f8ca7014309ece7260bbcdaeb</td>\n",
       "      <td>[12, 3]</td>\n",
       "      <td>3</td>\n",
       "      <td>12</td>\n",
       "    </tr>\n",
       "  </tbody>\n",
       "</table>\n",
       "</div>"
      ],
      "text/plain": [
       "                                    recipient  \\\n",
       "0  0x000000000004d7463d0f9c77383600bc82d612f5   \n",
       "1  0x0000000000086013192a2c9a506742a43c916e1e   \n",
       "2  0x000000000008e4db6a6194c6957df47e30970dc2   \n",
       "3  0x00000000000cd56832ce5dfbcbff02e7ec639bc9   \n",
       "4  0x00000000005ef87f8ca7014309ece7260bbcdaeb   \n",
       "\n",
       "                                       buyAsset-list  last_element  \\\n",
       "0  [489, 418, 956, 24, 359, 1476, 1017, 714, 503,...           941   \n",
       "1                                    [4, 12, 150, 4]             4   \n",
       "2                                        [4, 5, 113]           113   \n",
       "3                                           [614, 4]             4   \n",
       "4                                            [12, 3]             3   \n",
       "\n",
       "   last_last_element  \n",
       "0                388  \n",
       "1                150  \n",
       "2                  5  \n",
       "3                614  \n",
       "4                 12  "
      ]
     },
     "execution_count": 17,
     "metadata": {},
     "output_type": "execute_result"
    }
   ],
   "source": [
    "cudf_df_select_pd.head()"
   ]
  },
  {
   "cell_type": "code",
   "execution_count": 18,
   "id": "3f2ed950-2e3b-4d5b-8f5f-fd8a218cc687",
   "metadata": {
    "tags": []
   },
   "outputs": [],
   "source": [
    "cate_data = cudf.read_parquet(f\"./preprocessWorkflow/categories/unique.buyAsset.parquet\")\n",
    "cate_data_pd = cate_data.to_pandas()"
   ]
  },
  {
   "cell_type": "code",
   "execution_count": 19,
   "id": "e871d103-1af8-4817-8f15-40cb0164a1b5",
   "metadata": {
    "tags": []
   },
   "outputs": [],
   "source": [
    "cate_data_pd = cate_data.to_pandas()"
   ]
  },
  {
   "cell_type": "code",
   "execution_count": 20,
   "id": "529613d5-ada7-442a-8ced-f128f339172e",
   "metadata": {
    "tags": []
   },
   "outputs": [
    {
     "data": {
      "text/html": [
       "<div>\n",
       "<style scoped>\n",
       "    .dataframe tbody tr th:only-of-type {\n",
       "        vertical-align: middle;\n",
       "    }\n",
       "\n",
       "    .dataframe tbody tr th {\n",
       "        vertical-align: top;\n",
       "    }\n",
       "\n",
       "    .dataframe thead th {\n",
       "        text-align: right;\n",
       "    }\n",
       "</style>\n",
       "<table border=\"1\" class=\"dataframe\">\n",
       "  <thead>\n",
       "    <tr style=\"text-align: right;\">\n",
       "      <th></th>\n",
       "      <th>buyAsset</th>\n",
       "      <th>buyAsset_size</th>\n",
       "    </tr>\n",
       "  </thead>\n",
       "  <tbody>\n",
       "    <tr>\n",
       "      <th>3</th>\n",
       "      <td>0xa0b86991c6218b36c1d19d4a2e9eb0ce3606eb48</td>\n",
       "      <td>126211</td>\n",
       "    </tr>\n",
       "    <tr>\n",
       "      <th>4</th>\n",
       "      <td>0xc02aaa39b223fe8d0a0e5c4f27ead9083c756cc2</td>\n",
       "      <td>119359</td>\n",
       "    </tr>\n",
       "    <tr>\n",
       "      <th>5</th>\n",
       "      <td>0xdac17f958d2ee523a2206206994597c13d831ec7</td>\n",
       "      <td>83574</td>\n",
       "    </tr>\n",
       "    <tr>\n",
       "      <th>6</th>\n",
       "      <td>0x2b591e99afe9f32eaa6214f7b7629768c40eeb39</td>\n",
       "      <td>25439</td>\n",
       "    </tr>\n",
       "    <tr>\n",
       "      <th>7</th>\n",
       "      <td>0x6b175474e89094c44da98b954eedeac495271d0f</td>\n",
       "      <td>21678</td>\n",
       "    </tr>\n",
       "  </tbody>\n",
       "</table>\n",
       "</div>"
      ],
      "text/plain": [
       "                                     buyAsset  buyAsset_size\n",
       "3  0xa0b86991c6218b36c1d19d4a2e9eb0ce3606eb48         126211\n",
       "4  0xc02aaa39b223fe8d0a0e5c4f27ead9083c756cc2         119359\n",
       "5  0xdac17f958d2ee523a2206206994597c13d831ec7          83574\n",
       "6  0x2b591e99afe9f32eaa6214f7b7629768c40eeb39          25439\n",
       "7  0x6b175474e89094c44da98b954eedeac495271d0f          21678"
      ]
     },
     "execution_count": 20,
     "metadata": {},
     "output_type": "execute_result"
    }
   ],
   "source": [
    "cate_data_pd.head()"
   ]
  },
  {
   "cell_type": "code",
   "execution_count": 21,
   "id": "8d503573-b287-41a1-bcf2-4b2d203d6e16",
   "metadata": {
    "tags": []
   },
   "outputs": [
    {
     "data": {
      "text/plain": [
       "RangeIndex(start=3, stop=1515, step=1)"
      ]
     },
     "execution_count": 21,
     "metadata": {},
     "output_type": "execute_result"
    }
   ],
   "source": [
    "cate_data_pd.index"
   ]
  },
  {
   "cell_type": "code",
   "execution_count": 22,
   "id": "a5045f69-7d3c-4ac2-bf89-3d580c47199a",
   "metadata": {
    "tags": []
   },
   "outputs": [
    {
     "data": {
      "text/html": [
       "<div>\n",
       "<style scoped>\n",
       "    .dataframe tbody tr th:only-of-type {\n",
       "        vertical-align: middle;\n",
       "    }\n",
       "\n",
       "    .dataframe tbody tr th {\n",
       "        vertical-align: top;\n",
       "    }\n",
       "\n",
       "    .dataframe thead th {\n",
       "        text-align: right;\n",
       "    }\n",
       "</style>\n",
       "<table border=\"1\" class=\"dataframe\">\n",
       "  <thead>\n",
       "    <tr style=\"text-align: right;\">\n",
       "      <th></th>\n",
       "      <th>recipient</th>\n",
       "      <th>buyAsset-list</th>\n",
       "      <th>last_element</th>\n",
       "      <th>last_last_element</th>\n",
       "      <th>random_asset</th>\n",
       "    </tr>\n",
       "  </thead>\n",
       "  <tbody>\n",
       "    <tr>\n",
       "      <th>0</th>\n",
       "      <td>0x000000000004d7463d0f9c77383600bc82d612f5</td>\n",
       "      <td>[489, 418, 956, 24, 359, 1476, 1017, 714, 503,...</td>\n",
       "      <td>941</td>\n",
       "      <td>388</td>\n",
       "      <td>[121, 1323, 1005, 1404, 1410]</td>\n",
       "    </tr>\n",
       "    <tr>\n",
       "      <th>1</th>\n",
       "      <td>0x0000000000086013192a2c9a506742a43c916e1e</td>\n",
       "      <td>[4, 12, 150, 4]</td>\n",
       "      <td>4</td>\n",
       "      <td>150</td>\n",
       "      <td>[443, 1508, 516, 1249, 1457]</td>\n",
       "    </tr>\n",
       "    <tr>\n",
       "      <th>2</th>\n",
       "      <td>0x000000000008e4db6a6194c6957df47e30970dc2</td>\n",
       "      <td>[4, 5, 113]</td>\n",
       "      <td>113</td>\n",
       "      <td>5</td>\n",
       "      <td>[1384, 516, 1486, 1326, 941]</td>\n",
       "    </tr>\n",
       "    <tr>\n",
       "      <th>3</th>\n",
       "      <td>0x00000000000cd56832ce5dfbcbff02e7ec639bc9</td>\n",
       "      <td>[614, 4]</td>\n",
       "      <td>4</td>\n",
       "      <td>614</td>\n",
       "      <td>[853, 626, 141, 211, 366]</td>\n",
       "    </tr>\n",
       "    <tr>\n",
       "      <th>4</th>\n",
       "      <td>0x00000000005ef87f8ca7014309ece7260bbcdaeb</td>\n",
       "      <td>[12, 3]</td>\n",
       "      <td>3</td>\n",
       "      <td>12</td>\n",
       "      <td>[832, 1103, 1304, 603, 1469]</td>\n",
       "    </tr>\n",
       "  </tbody>\n",
       "</table>\n",
       "</div>"
      ],
      "text/plain": [
       "                                    recipient  \\\n",
       "0  0x000000000004d7463d0f9c77383600bc82d612f5   \n",
       "1  0x0000000000086013192a2c9a506742a43c916e1e   \n",
       "2  0x000000000008e4db6a6194c6957df47e30970dc2   \n",
       "3  0x00000000000cd56832ce5dfbcbff02e7ec639bc9   \n",
       "4  0x00000000005ef87f8ca7014309ece7260bbcdaeb   \n",
       "\n",
       "                                       buyAsset-list  last_element  \\\n",
       "0  [489, 418, 956, 24, 359, 1476, 1017, 714, 503,...           941   \n",
       "1                                    [4, 12, 150, 4]             4   \n",
       "2                                        [4, 5, 113]           113   \n",
       "3                                           [614, 4]             4   \n",
       "4                                            [12, 3]             3   \n",
       "\n",
       "   last_last_element                   random_asset  \n",
       "0                388  [121, 1323, 1005, 1404, 1410]  \n",
       "1                150   [443, 1508, 516, 1249, 1457]  \n",
       "2                  5   [1384, 516, 1486, 1326, 941]  \n",
       "3                614      [853, 626, 141, 211, 366]  \n",
       "4                 12   [832, 1103, 1304, 603, 1469]  "
      ]
     },
     "execution_count": 22,
     "metadata": {},
     "output_type": "execute_result"
    }
   ],
   "source": [
    "import numpy as np\n",
    "import pandas as pd\n",
    "\n",
    "def generate_random_integers():\n",
    "    return list(np.random.randint(3, 1515, size=5))\n",
    "\n",
    "# Apply the custom function to each row and create a new column 'random_integers'\n",
    "cudf_df_select_pd['random_asset'] = cudf_df_select_pd.apply(lambda row: generate_random_integers(), axis=1)\n",
    "\n",
    "# Display the resulting DataFrame\n",
    "cudf_df_select_pd.head()"
   ]
  },
  {
   "cell_type": "code",
   "execution_count": null,
   "id": "2bb09686-9a67-40dd-9df9-85cf14b4b348",
   "metadata": {},
   "outputs": [],
   "source": []
  }
 ],
 "metadata": {
  "kernelspec": {
   "display_name": "conda_transformers4rec-23.04",
   "language": "python",
   "name": "conda_transformers4rec-23.04"
  },
  "language_info": {
   "codemirror_mode": {
    "name": "ipython",
    "version": 3
   },
   "file_extension": ".py",
   "mimetype": "text/x-python",
   "name": "python",
   "nbconvert_exporter": "python",
   "pygments_lexer": "ipython3",
   "version": "3.10.13"
  }
 },
 "nbformat": 4,
 "nbformat_minor": 5
}
